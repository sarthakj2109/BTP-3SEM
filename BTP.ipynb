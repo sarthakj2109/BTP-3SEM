{
 "cells": [
  {
   "cell_type": "code",
   "execution_count": 1,
   "metadata": {},
   "outputs": [],
   "source": [
    "import pandas as pd\n",
    "import numpy as np\n",
    "import seaborn as sns\n",
    "import matplotlib.pyplot as plt\n"
   ]
  },
  {
   "cell_type": "code",
   "execution_count": 2,
   "metadata": {},
   "outputs": [
    {
     "data": {
      "text/html": [
       "<div>\n",
       "<style scoped>\n",
       "    .dataframe tbody tr th:only-of-type {\n",
       "        vertical-align: middle;\n",
       "    }\n",
       "\n",
       "    .dataframe tbody tr th {\n",
       "        vertical-align: top;\n",
       "    }\n",
       "\n",
       "    .dataframe thead th {\n",
       "        text-align: right;\n",
       "    }\n",
       "</style>\n",
       "<table border=\"1\" class=\"dataframe\">\n",
       "  <thead>\n",
       "    <tr style=\"text-align: right;\">\n",
       "      <th></th>\n",
       "      <th>Company Name</th>\n",
       "      <th>Laptop Name</th>\n",
       "      <th>RAM (GB)</th>\n",
       "      <th>Storage Type</th>\n",
       "      <th>Storage Size (GB)</th>\n",
       "      <th>Processor Company</th>\n",
       "      <th>Processor Details</th>\n",
       "      <th>Graphics Card (GB)</th>\n",
       "      <th>GPU Details</th>\n",
       "      <th>Weight (kg)</th>\n",
       "      <th>...</th>\n",
       "      <th>Unnamed: 17</th>\n",
       "      <th>Unnamed: 18</th>\n",
       "      <th>Unnamed: 19</th>\n",
       "      <th>Unnamed: 20</th>\n",
       "      <th>Unnamed: 21</th>\n",
       "      <th>Unnamed: 22</th>\n",
       "      <th>Unnamed: 23</th>\n",
       "      <th>Unnamed: 24</th>\n",
       "      <th>Unnamed: 25</th>\n",
       "      <th>Unnamed: 26</th>\n",
       "    </tr>\n",
       "  </thead>\n",
       "  <tbody>\n",
       "    <tr>\n",
       "      <th>0</th>\n",
       "      <td>Dell</td>\n",
       "      <td>New Inspiron 14 5490</td>\n",
       "      <td>8.0</td>\n",
       "      <td>SSD</td>\n",
       "      <td>512</td>\n",
       "      <td>Intel</td>\n",
       "      <td>10th Gen i5</td>\n",
       "      <td>Integrated</td>\n",
       "      <td>Intel UHD Graphics</td>\n",
       "      <td>1.64</td>\n",
       "      <td>...</td>\n",
       "      <td>NaN</td>\n",
       "      <td>NaN</td>\n",
       "      <td>NaN</td>\n",
       "      <td>NaN</td>\n",
       "      <td>NaN</td>\n",
       "      <td>NaN</td>\n",
       "      <td>NaN</td>\n",
       "      <td>NaN</td>\n",
       "      <td>NaN</td>\n",
       "      <td>NaN</td>\n",
       "    </tr>\n",
       "    <tr>\n",
       "      <th>1</th>\n",
       "      <td>Dell</td>\n",
       "      <td>New Inspiron 15 5590</td>\n",
       "      <td>8.0</td>\n",
       "      <td>SSD</td>\n",
       "      <td>512</td>\n",
       "      <td>Intel</td>\n",
       "      <td>10th Gen i5</td>\n",
       "      <td>Integrated</td>\n",
       "      <td>Intel UHD Graphics</td>\n",
       "      <td>1.64</td>\n",
       "      <td>...</td>\n",
       "      <td>NaN</td>\n",
       "      <td>NaN</td>\n",
       "      <td>NaN</td>\n",
       "      <td>NaN</td>\n",
       "      <td>NaN</td>\n",
       "      <td>NaN</td>\n",
       "      <td>NaN</td>\n",
       "      <td>NaN</td>\n",
       "      <td>NaN</td>\n",
       "      <td>NaN</td>\n",
       "    </tr>\n",
       "    <tr>\n",
       "      <th>2</th>\n",
       "      <td>Dell</td>\n",
       "      <td>New Inspiron 14 5490</td>\n",
       "      <td>8.0</td>\n",
       "      <td>SSD</td>\n",
       "      <td>512</td>\n",
       "      <td>Intel</td>\n",
       "      <td>10th Gen i5</td>\n",
       "      <td>2</td>\n",
       "      <td>NVIDIA GeForce MX250</td>\n",
       "      <td>1.64</td>\n",
       "      <td>...</td>\n",
       "      <td>NaN</td>\n",
       "      <td>NaN</td>\n",
       "      <td>NaN</td>\n",
       "      <td>NaN</td>\n",
       "      <td>NaN</td>\n",
       "      <td>NaN</td>\n",
       "      <td>NaN</td>\n",
       "      <td>NaN</td>\n",
       "      <td>NaN</td>\n",
       "      <td>NaN</td>\n",
       "    </tr>\n",
       "    <tr>\n",
       "      <th>3</th>\n",
       "      <td>Dell</td>\n",
       "      <td>New Inspiron 15 5590</td>\n",
       "      <td>8.0</td>\n",
       "      <td>SSD</td>\n",
       "      <td>512</td>\n",
       "      <td>Intel</td>\n",
       "      <td>10th Gen i5</td>\n",
       "      <td>2</td>\n",
       "      <td>NVIDIA GeForce MX250</td>\n",
       "      <td>1.64</td>\n",
       "      <td>...</td>\n",
       "      <td>NaN</td>\n",
       "      <td>NaN</td>\n",
       "      <td>NaN</td>\n",
       "      <td>NaN</td>\n",
       "      <td>NaN</td>\n",
       "      <td>NaN</td>\n",
       "      <td>NaN</td>\n",
       "      <td>NaN</td>\n",
       "      <td>NaN</td>\n",
       "      <td>NaN</td>\n",
       "    </tr>\n",
       "    <tr>\n",
       "      <th>4</th>\n",
       "      <td>Dell</td>\n",
       "      <td>New Inspiron 15 7501</td>\n",
       "      <td>8.0</td>\n",
       "      <td>SSD</td>\n",
       "      <td>512</td>\n",
       "      <td>Intel</td>\n",
       "      <td>10th Gen i5</td>\n",
       "      <td>4</td>\n",
       "      <td>NVIDIA GeForce GTX 1650</td>\n",
       "      <td>1.64</td>\n",
       "      <td>...</td>\n",
       "      <td>NaN</td>\n",
       "      <td>NaN</td>\n",
       "      <td>NaN</td>\n",
       "      <td>NaN</td>\n",
       "      <td>NaN</td>\n",
       "      <td>NaN</td>\n",
       "      <td>NaN</td>\n",
       "      <td>NaN</td>\n",
       "      <td>NaN</td>\n",
       "      <td>NaN</td>\n",
       "    </tr>\n",
       "    <tr>\n",
       "      <th>5</th>\n",
       "      <td>Dell</td>\n",
       "      <td>New Inspiron 15 7501</td>\n",
       "      <td>8.0</td>\n",
       "      <td>SSD</td>\n",
       "      <td>512</td>\n",
       "      <td>Intel</td>\n",
       "      <td>10th Gen i7</td>\n",
       "      <td>4</td>\n",
       "      <td>NVIDIA GeForce GTX 1650</td>\n",
       "      <td>1.64</td>\n",
       "      <td>...</td>\n",
       "      <td>NaN</td>\n",
       "      <td>NaN</td>\n",
       "      <td>NaN</td>\n",
       "      <td>NaN</td>\n",
       "      <td>NaN</td>\n",
       "      <td>NaN</td>\n",
       "      <td>NaN</td>\n",
       "      <td>NaN</td>\n",
       "      <td>NaN</td>\n",
       "      <td>NaN</td>\n",
       "    </tr>\n",
       "    <tr>\n",
       "      <th>6</th>\n",
       "      <td>Dell</td>\n",
       "      <td>New Inspiron 15 7501</td>\n",
       "      <td>16.0</td>\n",
       "      <td>SSD</td>\n",
       "      <td>1024</td>\n",
       "      <td>Intel</td>\n",
       "      <td>10th Gen i7</td>\n",
       "      <td>4</td>\n",
       "      <td>NVIDIA GeForce GTX 1650</td>\n",
       "      <td>1.64</td>\n",
       "      <td>...</td>\n",
       "      <td>NaN</td>\n",
       "      <td>NaN</td>\n",
       "      <td>NaN</td>\n",
       "      <td>NaN</td>\n",
       "      <td>NaN</td>\n",
       "      <td>NaN</td>\n",
       "      <td>NaN</td>\n",
       "      <td>NaN</td>\n",
       "      <td>NaN</td>\n",
       "      <td>NaN</td>\n",
       "    </tr>\n",
       "    <tr>\n",
       "      <th>7</th>\n",
       "      <td>Dell</td>\n",
       "      <td>New Vostro 15 3590</td>\n",
       "      <td>4.0</td>\n",
       "      <td>HDD</td>\n",
       "      <td>1024</td>\n",
       "      <td>Intel</td>\n",
       "      <td>10th Gen i3</td>\n",
       "      <td>Integrated</td>\n",
       "      <td>Intel UHD Graphics</td>\n",
       "      <td>2.17</td>\n",
       "      <td>...</td>\n",
       "      <td>NaN</td>\n",
       "      <td>NaN</td>\n",
       "      <td>NaN</td>\n",
       "      <td>NaN</td>\n",
       "      <td>NaN</td>\n",
       "      <td>NaN</td>\n",
       "      <td>NaN</td>\n",
       "      <td>NaN</td>\n",
       "      <td>NaN</td>\n",
       "      <td>NaN</td>\n",
       "    </tr>\n",
       "    <tr>\n",
       "      <th>8</th>\n",
       "      <td>Dell</td>\n",
       "      <td>New Vostro 15 3590</td>\n",
       "      <td>4.0</td>\n",
       "      <td>SSD</td>\n",
       "      <td>256</td>\n",
       "      <td>Intel</td>\n",
       "      <td>10th Gen i3</td>\n",
       "      <td>Integrated</td>\n",
       "      <td>Intel UHD Graphics</td>\n",
       "      <td>2.17</td>\n",
       "      <td>...</td>\n",
       "      <td>NaN</td>\n",
       "      <td>NaN</td>\n",
       "      <td>NaN</td>\n",
       "      <td>NaN</td>\n",
       "      <td>NaN</td>\n",
       "      <td>NaN</td>\n",
       "      <td>NaN</td>\n",
       "      <td>NaN</td>\n",
       "      <td>NaN</td>\n",
       "      <td>NaN</td>\n",
       "    </tr>\n",
       "  </tbody>\n",
       "</table>\n",
       "<p>9 rows × 27 columns</p>\n",
       "</div>"
      ],
      "text/plain": [
       "  Company Name           Laptop Name  RAM (GB) Storage Type Storage Size (GB)  \\\n",
       "0         Dell  New Inspiron 14 5490       8.0          SSD               512   \n",
       "1         Dell  New Inspiron 15 5590       8.0          SSD               512   \n",
       "2         Dell  New Inspiron 14 5490       8.0          SSD               512   \n",
       "3         Dell  New Inspiron 15 5590       8.0          SSD               512   \n",
       "4         Dell  New Inspiron 15 7501       8.0          SSD               512   \n",
       "5         Dell  New Inspiron 15 7501       8.0          SSD               512   \n",
       "6         Dell  New Inspiron 15 7501      16.0          SSD              1024   \n",
       "7         Dell    New Vostro 15 3590       4.0          HDD              1024   \n",
       "8         Dell    New Vostro 15 3590       4.0          SSD               256   \n",
       "\n",
       "  Processor Company Processor Details Graphics Card (GB)  \\\n",
       "0             Intel       10th Gen i5         Integrated   \n",
       "1             Intel       10th Gen i5         Integrated   \n",
       "2             Intel       10th Gen i5                  2   \n",
       "3             Intel       10th Gen i5                  2   \n",
       "4             Intel       10th Gen i5                  4   \n",
       "5             Intel       10th Gen i7                  4   \n",
       "6             Intel       10th Gen i7                  4   \n",
       "7             Intel       10th Gen i3         Integrated   \n",
       "8             Intel       10th Gen i3         Integrated   \n",
       "\n",
       "               GPU Details  Weight (kg)  ...  Unnamed: 17 Unnamed: 18  \\\n",
       "0       Intel UHD Graphics         1.64  ...          NaN         NaN   \n",
       "1       Intel UHD Graphics         1.64  ...          NaN         NaN   \n",
       "2     NVIDIA GeForce MX250         1.64  ...          NaN         NaN   \n",
       "3     NVIDIA GeForce MX250         1.64  ...          NaN         NaN   \n",
       "4  NVIDIA GeForce GTX 1650         1.64  ...          NaN         NaN   \n",
       "5  NVIDIA GeForce GTX 1650         1.64  ...          NaN         NaN   \n",
       "6  NVIDIA GeForce GTX 1650         1.64  ...          NaN         NaN   \n",
       "7       Intel UHD Graphics         2.17  ...          NaN         NaN   \n",
       "8       Intel UHD Graphics         2.17  ...          NaN         NaN   \n",
       "\n",
       "  Unnamed: 19  Unnamed: 20  Unnamed: 21  Unnamed: 22  Unnamed: 23  \\\n",
       "0         NaN          NaN          NaN          NaN          NaN   \n",
       "1         NaN          NaN          NaN          NaN          NaN   \n",
       "2         NaN          NaN          NaN          NaN          NaN   \n",
       "3         NaN          NaN          NaN          NaN          NaN   \n",
       "4         NaN          NaN          NaN          NaN          NaN   \n",
       "5         NaN          NaN          NaN          NaN          NaN   \n",
       "6         NaN          NaN          NaN          NaN          NaN   \n",
       "7         NaN          NaN          NaN          NaN          NaN   \n",
       "8         NaN          NaN          NaN          NaN          NaN   \n",
       "\n",
       "   Unnamed: 24  Unnamed: 25  Unnamed: 26  \n",
       "0          NaN          NaN          NaN  \n",
       "1          NaN          NaN          NaN  \n",
       "2          NaN          NaN          NaN  \n",
       "3          NaN          NaN          NaN  \n",
       "4          NaN          NaN          NaN  \n",
       "5          NaN          NaN          NaN  \n",
       "6          NaN          NaN          NaN  \n",
       "7          NaN          NaN          NaN  \n",
       "8          NaN          NaN          NaN  \n",
       "\n",
       "[9 rows x 27 columns]"
      ]
     },
     "execution_count": 2,
     "metadata": {},
     "output_type": "execute_result"
    }
   ],
   "source": [
    "url=\"https://raw.githubusercontent.com/sarthakj2109/BTP-3SEM/master/Final%20Laptop%20Dataset.csv\"\n",
    "df=pd.read_csv(url,encoding=\"unicode_escape\")\n",
    "df.head(9)"
   ]
  },
  {
   "cell_type": "code",
   "execution_count": 3,
   "metadata": {},
   "outputs": [
    {
     "data": {
      "text/plain": [
       "Company Name             object\n",
       "Laptop Name              object\n",
       "RAM (GB)                float64\n",
       "Storage Type             object\n",
       "Storage Size (GB)        object\n",
       "Processor Company        object\n",
       "Processor Details        object\n",
       "Graphics Card (GB)       object\n",
       "GPU Details              object\n",
       "Weight (kg)             float64\n",
       "Screen Size (inches)    float64\n",
       "OS                       object\n",
       "Laptop Type              object\n",
       "Price (INR)             float64\n",
       "Unnamed: 14             float64\n",
       "Unnamed: 15             float64\n",
       "Unnamed: 16             float64\n",
       "Unnamed: 17             float64\n",
       "Unnamed: 18             float64\n",
       "Unnamed: 19             float64\n",
       "Unnamed: 20             float64\n",
       "Unnamed: 21             float64\n",
       "Unnamed: 22             float64\n",
       "Unnamed: 23             float64\n",
       "Unnamed: 24             float64\n",
       "Unnamed: 25             float64\n",
       "Unnamed: 26             float64\n",
       "dtype: object"
      ]
     },
     "execution_count": 3,
     "metadata": {},
     "output_type": "execute_result"
    }
   ],
   "source": [
    "df.dtypes"
   ]
  },
  {
   "cell_type": "code",
   "execution_count": 4,
   "metadata": {},
   "outputs": [
    {
     "data": {
      "text/html": [
       "<div>\n",
       "<style scoped>\n",
       "    .dataframe tbody tr th:only-of-type {\n",
       "        vertical-align: middle;\n",
       "    }\n",
       "\n",
       "    .dataframe tbody tr th {\n",
       "        vertical-align: top;\n",
       "    }\n",
       "\n",
       "    .dataframe thead th {\n",
       "        text-align: right;\n",
       "    }\n",
       "</style>\n",
       "<table border=\"1\" class=\"dataframe\">\n",
       "  <thead>\n",
       "    <tr style=\"text-align: right;\">\n",
       "      <th></th>\n",
       "      <th>Company Name</th>\n",
       "      <th>Laptop Name</th>\n",
       "      <th>RAM (GB)</th>\n",
       "      <th>Storage Type</th>\n",
       "      <th>Storage Size (GB)</th>\n",
       "      <th>Processor Company</th>\n",
       "      <th>Processor Details</th>\n",
       "      <th>Graphics Card (GB)</th>\n",
       "      <th>GPU Details</th>\n",
       "      <th>Weight (kg)</th>\n",
       "      <th>Screen Size (inches)</th>\n",
       "      <th>OS</th>\n",
       "      <th>Laptop Type</th>\n",
       "      <th>Price (INR)</th>\n",
       "    </tr>\n",
       "  </thead>\n",
       "  <tbody>\n",
       "    <tr>\n",
       "      <th>0</th>\n",
       "      <td>Dell</td>\n",
       "      <td>New Inspiron 14 5490</td>\n",
       "      <td>8.0</td>\n",
       "      <td>SSD</td>\n",
       "      <td>512</td>\n",
       "      <td>Intel</td>\n",
       "      <td>10th Gen i5</td>\n",
       "      <td>Integrated</td>\n",
       "      <td>Intel UHD Graphics</td>\n",
       "      <td>1.64</td>\n",
       "      <td>14.0</td>\n",
       "      <td>Windows</td>\n",
       "      <td>Notebook</td>\n",
       "      <td>62990.0</td>\n",
       "    </tr>\n",
       "    <tr>\n",
       "      <th>1</th>\n",
       "      <td>Dell</td>\n",
       "      <td>New Inspiron 15 5590</td>\n",
       "      <td>8.0</td>\n",
       "      <td>SSD</td>\n",
       "      <td>512</td>\n",
       "      <td>Intel</td>\n",
       "      <td>10th Gen i5</td>\n",
       "      <td>Integrated</td>\n",
       "      <td>Intel UHD Graphics</td>\n",
       "      <td>1.64</td>\n",
       "      <td>15.6</td>\n",
       "      <td>Windows</td>\n",
       "      <td>Notebook</td>\n",
       "      <td>63990.0</td>\n",
       "    </tr>\n",
       "    <tr>\n",
       "      <th>2</th>\n",
       "      <td>Dell</td>\n",
       "      <td>New Inspiron 14 5490</td>\n",
       "      <td>8.0</td>\n",
       "      <td>SSD</td>\n",
       "      <td>512</td>\n",
       "      <td>Intel</td>\n",
       "      <td>10th Gen i5</td>\n",
       "      <td>2</td>\n",
       "      <td>NVIDIA GeForce MX250</td>\n",
       "      <td>1.64</td>\n",
       "      <td>14.0</td>\n",
       "      <td>Windows</td>\n",
       "      <td>Notebook</td>\n",
       "      <td>67990.0</td>\n",
       "    </tr>\n",
       "    <tr>\n",
       "      <th>3</th>\n",
       "      <td>Dell</td>\n",
       "      <td>New Inspiron 15 5590</td>\n",
       "      <td>8.0</td>\n",
       "      <td>SSD</td>\n",
       "      <td>512</td>\n",
       "      <td>Intel</td>\n",
       "      <td>10th Gen i5</td>\n",
       "      <td>2</td>\n",
       "      <td>NVIDIA GeForce MX250</td>\n",
       "      <td>1.64</td>\n",
       "      <td>15.6</td>\n",
       "      <td>Windows</td>\n",
       "      <td>Notebook</td>\n",
       "      <td>68990.0</td>\n",
       "    </tr>\n",
       "    <tr>\n",
       "      <th>4</th>\n",
       "      <td>Dell</td>\n",
       "      <td>New Inspiron 15 7501</td>\n",
       "      <td>8.0</td>\n",
       "      <td>SSD</td>\n",
       "      <td>512</td>\n",
       "      <td>Intel</td>\n",
       "      <td>10th Gen i5</td>\n",
       "      <td>4</td>\n",
       "      <td>NVIDIA GeForce GTX 1650</td>\n",
       "      <td>1.64</td>\n",
       "      <td>15.6</td>\n",
       "      <td>Windows</td>\n",
       "      <td>Notebook</td>\n",
       "      <td>91990.0</td>\n",
       "    </tr>\n",
       "  </tbody>\n",
       "</table>\n",
       "</div>"
      ],
      "text/plain": [
       "  Company Name           Laptop Name  RAM (GB) Storage Type Storage Size (GB)  \\\n",
       "0         Dell  New Inspiron 14 5490       8.0          SSD               512   \n",
       "1         Dell  New Inspiron 15 5590       8.0          SSD               512   \n",
       "2         Dell  New Inspiron 14 5490       8.0          SSD               512   \n",
       "3         Dell  New Inspiron 15 5590       8.0          SSD               512   \n",
       "4         Dell  New Inspiron 15 7501       8.0          SSD               512   \n",
       "\n",
       "  Processor Company Processor Details Graphics Card (GB)  \\\n",
       "0             Intel       10th Gen i5         Integrated   \n",
       "1             Intel       10th Gen i5         Integrated   \n",
       "2             Intel       10th Gen i5                  2   \n",
       "3             Intel       10th Gen i5                  2   \n",
       "4             Intel       10th Gen i5                  4   \n",
       "\n",
       "               GPU Details  Weight (kg)  Screen Size (inches)       OS  \\\n",
       "0       Intel UHD Graphics         1.64                  14.0  Windows   \n",
       "1       Intel UHD Graphics         1.64                  15.6  Windows   \n",
       "2     NVIDIA GeForce MX250         1.64                  14.0  Windows   \n",
       "3     NVIDIA GeForce MX250         1.64                  15.6  Windows   \n",
       "4  NVIDIA GeForce GTX 1650         1.64                  15.6  Windows   \n",
       "\n",
       "  Laptop Type  Price (INR)  \n",
       "0    Notebook      62990.0  \n",
       "1    Notebook      63990.0  \n",
       "2    Notebook      67990.0  \n",
       "3    Notebook      68990.0  \n",
       "4    Notebook      91990.0  "
      ]
     },
     "execution_count": 4,
     "metadata": {},
     "output_type": "execute_result"
    }
   ],
   "source": [
    "df.drop(columns=['Unnamed: 14','Unnamed: 15','Unnamed: 16','Unnamed: 17','Unnamed: 18','Unnamed: 19','Unnamed: 20','Unnamed: 21','Unnamed: 22','Unnamed: 23','Unnamed: 24','Unnamed: 25','Unnamed: 26'],inplace=True)\n",
    "df.head(5)"
   ]
  },
  {
   "cell_type": "code",
   "execution_count": 5,
   "metadata": {},
   "outputs": [
    {
     "name": "stdout",
     "output_type": "stream",
     "text": [
      "<class 'pandas.core.frame.DataFrame'>\n",
      "RangeIndex: 997 entries, 0 to 996\n",
      "Data columns (total 14 columns):\n",
      " #   Column                Non-Null Count  Dtype  \n",
      "---  ------                --------------  -----  \n",
      " 0   Company Name          272 non-null    object \n",
      " 1   Laptop Name           272 non-null    object \n",
      " 2   RAM (GB)              272 non-null    float64\n",
      " 3   Storage Type          272 non-null    object \n",
      " 4   Storage Size (GB)     272 non-null    object \n",
      " 5   Processor Company     272 non-null    object \n",
      " 6   Processor Details     272 non-null    object \n",
      " 7   Graphics Card (GB)    272 non-null    object \n",
      " 8   GPU Details           272 non-null    object \n",
      " 9   Weight (kg)           272 non-null    float64\n",
      " 10  Screen Size (inches)  271 non-null    float64\n",
      " 11  OS                    272 non-null    object \n",
      " 12  Laptop Type           272 non-null    object \n",
      " 13  Price (INR)           271 non-null    float64\n",
      "dtypes: float64(4), object(10)\n",
      "memory usage: 109.2+ KB\n"
     ]
    }
   ],
   "source": [
    "df.info()"
   ]
  },
  {
   "cell_type": "code",
   "execution_count": 6,
   "metadata": {},
   "outputs": [
    {
     "data": {
      "text/html": [
       "<div>\n",
       "<style scoped>\n",
       "    .dataframe tbody tr th:only-of-type {\n",
       "        vertical-align: middle;\n",
       "    }\n",
       "\n",
       "    .dataframe tbody tr th {\n",
       "        vertical-align: top;\n",
       "    }\n",
       "\n",
       "    .dataframe thead th {\n",
       "        text-align: right;\n",
       "    }\n",
       "</style>\n",
       "<table border=\"1\" class=\"dataframe\">\n",
       "  <thead>\n",
       "    <tr style=\"text-align: right;\">\n",
       "      <th></th>\n",
       "      <th>Company Name</th>\n",
       "      <th>Laptop Name</th>\n",
       "      <th>RAM (GB)</th>\n",
       "      <th>Storage Type</th>\n",
       "      <th>Storage Size (GB)</th>\n",
       "      <th>Processor Company</th>\n",
       "      <th>Processor Details</th>\n",
       "      <th>Graphics Card (GB)</th>\n",
       "      <th>GPU Details</th>\n",
       "      <th>Weight (kg)</th>\n",
       "      <th>Screen Size (inches)</th>\n",
       "      <th>OS</th>\n",
       "      <th>Laptop Type</th>\n",
       "      <th>Price (INR)</th>\n",
       "    </tr>\n",
       "  </thead>\n",
       "  <tbody>\n",
       "    <tr>\n",
       "      <th>0</th>\n",
       "      <td>False</td>\n",
       "      <td>False</td>\n",
       "      <td>False</td>\n",
       "      <td>False</td>\n",
       "      <td>False</td>\n",
       "      <td>False</td>\n",
       "      <td>False</td>\n",
       "      <td>False</td>\n",
       "      <td>False</td>\n",
       "      <td>False</td>\n",
       "      <td>False</td>\n",
       "      <td>False</td>\n",
       "      <td>False</td>\n",
       "      <td>False</td>\n",
       "    </tr>\n",
       "    <tr>\n",
       "      <th>1</th>\n",
       "      <td>False</td>\n",
       "      <td>False</td>\n",
       "      <td>False</td>\n",
       "      <td>False</td>\n",
       "      <td>False</td>\n",
       "      <td>False</td>\n",
       "      <td>False</td>\n",
       "      <td>False</td>\n",
       "      <td>False</td>\n",
       "      <td>False</td>\n",
       "      <td>False</td>\n",
       "      <td>False</td>\n",
       "      <td>False</td>\n",
       "      <td>False</td>\n",
       "    </tr>\n",
       "    <tr>\n",
       "      <th>2</th>\n",
       "      <td>False</td>\n",
       "      <td>False</td>\n",
       "      <td>False</td>\n",
       "      <td>False</td>\n",
       "      <td>False</td>\n",
       "      <td>False</td>\n",
       "      <td>False</td>\n",
       "      <td>False</td>\n",
       "      <td>False</td>\n",
       "      <td>False</td>\n",
       "      <td>False</td>\n",
       "      <td>False</td>\n",
       "      <td>False</td>\n",
       "      <td>False</td>\n",
       "    </tr>\n",
       "    <tr>\n",
       "      <th>3</th>\n",
       "      <td>False</td>\n",
       "      <td>False</td>\n",
       "      <td>False</td>\n",
       "      <td>False</td>\n",
       "      <td>False</td>\n",
       "      <td>False</td>\n",
       "      <td>False</td>\n",
       "      <td>False</td>\n",
       "      <td>False</td>\n",
       "      <td>False</td>\n",
       "      <td>False</td>\n",
       "      <td>False</td>\n",
       "      <td>False</td>\n",
       "      <td>False</td>\n",
       "    </tr>\n",
       "    <tr>\n",
       "      <th>4</th>\n",
       "      <td>False</td>\n",
       "      <td>False</td>\n",
       "      <td>False</td>\n",
       "      <td>False</td>\n",
       "      <td>False</td>\n",
       "      <td>False</td>\n",
       "      <td>False</td>\n",
       "      <td>False</td>\n",
       "      <td>False</td>\n",
       "      <td>False</td>\n",
       "      <td>False</td>\n",
       "      <td>False</td>\n",
       "      <td>False</td>\n",
       "      <td>False</td>\n",
       "    </tr>\n",
       "    <tr>\n",
       "      <th>...</th>\n",
       "      <td>...</td>\n",
       "      <td>...</td>\n",
       "      <td>...</td>\n",
       "      <td>...</td>\n",
       "      <td>...</td>\n",
       "      <td>...</td>\n",
       "      <td>...</td>\n",
       "      <td>...</td>\n",
       "      <td>...</td>\n",
       "      <td>...</td>\n",
       "      <td>...</td>\n",
       "      <td>...</td>\n",
       "      <td>...</td>\n",
       "      <td>...</td>\n",
       "    </tr>\n",
       "    <tr>\n",
       "      <th>267</th>\n",
       "      <td>False</td>\n",
       "      <td>False</td>\n",
       "      <td>False</td>\n",
       "      <td>False</td>\n",
       "      <td>False</td>\n",
       "      <td>False</td>\n",
       "      <td>False</td>\n",
       "      <td>False</td>\n",
       "      <td>False</td>\n",
       "      <td>False</td>\n",
       "      <td>False</td>\n",
       "      <td>False</td>\n",
       "      <td>False</td>\n",
       "      <td>False</td>\n",
       "    </tr>\n",
       "    <tr>\n",
       "      <th>268</th>\n",
       "      <td>False</td>\n",
       "      <td>False</td>\n",
       "      <td>False</td>\n",
       "      <td>False</td>\n",
       "      <td>False</td>\n",
       "      <td>False</td>\n",
       "      <td>False</td>\n",
       "      <td>False</td>\n",
       "      <td>False</td>\n",
       "      <td>False</td>\n",
       "      <td>False</td>\n",
       "      <td>False</td>\n",
       "      <td>False</td>\n",
       "      <td>False</td>\n",
       "    </tr>\n",
       "    <tr>\n",
       "      <th>269</th>\n",
       "      <td>False</td>\n",
       "      <td>False</td>\n",
       "      <td>False</td>\n",
       "      <td>False</td>\n",
       "      <td>False</td>\n",
       "      <td>False</td>\n",
       "      <td>False</td>\n",
       "      <td>False</td>\n",
       "      <td>False</td>\n",
       "      <td>False</td>\n",
       "      <td>False</td>\n",
       "      <td>False</td>\n",
       "      <td>False</td>\n",
       "      <td>False</td>\n",
       "    </tr>\n",
       "    <tr>\n",
       "      <th>270</th>\n",
       "      <td>False</td>\n",
       "      <td>False</td>\n",
       "      <td>False</td>\n",
       "      <td>False</td>\n",
       "      <td>False</td>\n",
       "      <td>False</td>\n",
       "      <td>False</td>\n",
       "      <td>False</td>\n",
       "      <td>False</td>\n",
       "      <td>False</td>\n",
       "      <td>False</td>\n",
       "      <td>False</td>\n",
       "      <td>False</td>\n",
       "      <td>False</td>\n",
       "    </tr>\n",
       "    <tr>\n",
       "      <th>271</th>\n",
       "      <td>False</td>\n",
       "      <td>False</td>\n",
       "      <td>False</td>\n",
       "      <td>False</td>\n",
       "      <td>False</td>\n",
       "      <td>False</td>\n",
       "      <td>False</td>\n",
       "      <td>False</td>\n",
       "      <td>False</td>\n",
       "      <td>False</td>\n",
       "      <td>False</td>\n",
       "      <td>False</td>\n",
       "      <td>False</td>\n",
       "      <td>False</td>\n",
       "    </tr>\n",
       "  </tbody>\n",
       "</table>\n",
       "<p>272 rows × 14 columns</p>\n",
       "</div>"
      ],
      "text/plain": [
       "     Company Name  Laptop Name  RAM (GB)  Storage Type  Storage Size (GB)  \\\n",
       "0           False        False     False         False              False   \n",
       "1           False        False     False         False              False   \n",
       "2           False        False     False         False              False   \n",
       "3           False        False     False         False              False   \n",
       "4           False        False     False         False              False   \n",
       "..            ...          ...       ...           ...                ...   \n",
       "267         False        False     False         False              False   \n",
       "268         False        False     False         False              False   \n",
       "269         False        False     False         False              False   \n",
       "270         False        False     False         False              False   \n",
       "271         False        False     False         False              False   \n",
       "\n",
       "     Processor Company  Processor Details  Graphics Card (GB)  GPU Details  \\\n",
       "0                False              False               False        False   \n",
       "1                False              False               False        False   \n",
       "2                False              False               False        False   \n",
       "3                False              False               False        False   \n",
       "4                False              False               False        False   \n",
       "..                 ...                ...                 ...          ...   \n",
       "267              False              False               False        False   \n",
       "268              False              False               False        False   \n",
       "269              False              False               False        False   \n",
       "270              False              False               False        False   \n",
       "271              False              False               False        False   \n",
       "\n",
       "     Weight (kg)  Screen Size (inches)     OS  Laptop Type  Price (INR)  \n",
       "0          False                 False  False        False        False  \n",
       "1          False                 False  False        False        False  \n",
       "2          False                 False  False        False        False  \n",
       "3          False                 False  False        False        False  \n",
       "4          False                 False  False        False        False  \n",
       "..           ...                   ...    ...          ...          ...  \n",
       "267        False                 False  False        False        False  \n",
       "268        False                 False  False        False        False  \n",
       "269        False                 False  False        False        False  \n",
       "270        False                 False  False        False        False  \n",
       "271        False                 False  False        False        False  \n",
       "\n",
       "[272 rows x 14 columns]"
      ]
     },
     "execution_count": 6,
     "metadata": {},
     "output_type": "execute_result"
    }
   ],
   "source": [
    "df=df.dropna(how='all')\n",
    "df.isnull()"
   ]
  },
  {
   "cell_type": "code",
   "execution_count": 7,
   "metadata": {},
   "outputs": [
    {
     "name": "stdout",
     "output_type": "stream",
     "text": [
      "Normal Price Range =  26374.0 - 119504.0\n",
      "Costly Price Range =  119504.0 - 212634.0\n",
      "Very Costly Price Range =  212634.0 - 305764.0\n"
     ]
    },
    {
     "data": {
      "text/html": [
       "<div>\n",
       "<style scoped>\n",
       "    .dataframe tbody tr th:only-of-type {\n",
       "        vertical-align: middle;\n",
       "    }\n",
       "\n",
       "    .dataframe tbody tr th {\n",
       "        vertical-align: top;\n",
       "    }\n",
       "\n",
       "    .dataframe thead th {\n",
       "        text-align: right;\n",
       "    }\n",
       "</style>\n",
       "<table border=\"1\" class=\"dataframe\">\n",
       "  <thead>\n",
       "    <tr style=\"text-align: right;\">\n",
       "      <th></th>\n",
       "      <th>Company Name</th>\n",
       "      <th>Laptop Name</th>\n",
       "      <th>RAM (GB)</th>\n",
       "      <th>Storage Type</th>\n",
       "      <th>Storage Size (GB)</th>\n",
       "      <th>Processor Company</th>\n",
       "      <th>Processor Details</th>\n",
       "      <th>Graphics Card (GB)</th>\n",
       "      <th>GPU Details</th>\n",
       "      <th>Weight (kg)</th>\n",
       "      <th>Screen Size (inches)</th>\n",
       "      <th>OS</th>\n",
       "      <th>Laptop Type</th>\n",
       "      <th>Price (INR)</th>\n",
       "      <th>Price Category</th>\n",
       "    </tr>\n",
       "  </thead>\n",
       "  <tbody>\n",
       "    <tr>\n",
       "      <th>263</th>\n",
       "      <td>Apple</td>\n",
       "      <td>MacBook Air</td>\n",
       "      <td>8.0</td>\n",
       "      <td>SSD</td>\n",
       "      <td>256</td>\n",
       "      <td>Intel</td>\n",
       "      <td>10th Gen i3</td>\n",
       "      <td>Integrated</td>\n",
       "      <td>Intel Iris Plus Graphics</td>\n",
       "      <td>1.3</td>\n",
       "      <td>13.3</td>\n",
       "      <td>macOS</td>\n",
       "      <td>Ultrabook</td>\n",
       "      <td>92990.0</td>\n",
       "      <td>Normal</td>\n",
       "    </tr>\n",
       "    <tr>\n",
       "      <th>264</th>\n",
       "      <td>Apple</td>\n",
       "      <td>MacBook Air</td>\n",
       "      <td>8.0</td>\n",
       "      <td>SSD</td>\n",
       "      <td>512</td>\n",
       "      <td>Intel</td>\n",
       "      <td>10th Gen i5</td>\n",
       "      <td>Integrated</td>\n",
       "      <td>Intel Iris Plus Graphics</td>\n",
       "      <td>1.3</td>\n",
       "      <td>13.3</td>\n",
       "      <td>macOS</td>\n",
       "      <td>Ultrabook</td>\n",
       "      <td>122990.0</td>\n",
       "      <td>Costly</td>\n",
       "    </tr>\n",
       "    <tr>\n",
       "      <th>265</th>\n",
       "      <td>Apple</td>\n",
       "      <td>MacBook Pro</td>\n",
       "      <td>16.0</td>\n",
       "      <td>SSD</td>\n",
       "      <td>1024</td>\n",
       "      <td>Intel</td>\n",
       "      <td>10th Gen i5</td>\n",
       "      <td>Integrated</td>\n",
       "      <td>Intel Iris Plus 645 Graphics</td>\n",
       "      <td>1.4</td>\n",
       "      <td>13.3</td>\n",
       "      <td>macOS</td>\n",
       "      <td>Ultrabook</td>\n",
       "      <td>194900.0</td>\n",
       "      <td>Costly</td>\n",
       "    </tr>\n",
       "    <tr>\n",
       "      <th>266</th>\n",
       "      <td>Apple</td>\n",
       "      <td>MacBook Pro</td>\n",
       "      <td>16.0</td>\n",
       "      <td>SSD</td>\n",
       "      <td>512</td>\n",
       "      <td>Intel</td>\n",
       "      <td>10th Gen i5</td>\n",
       "      <td>Integrated</td>\n",
       "      <td>Intel Iris Plus 645 Graphics</td>\n",
       "      <td>1.4</td>\n",
       "      <td>13.3</td>\n",
       "      <td>macOS</td>\n",
       "      <td>Ultrabook</td>\n",
       "      <td>174900.0</td>\n",
       "      <td>Costly</td>\n",
       "    </tr>\n",
       "    <tr>\n",
       "      <th>267</th>\n",
       "      <td>Apple</td>\n",
       "      <td>MacBook Pro</td>\n",
       "      <td>16.0</td>\n",
       "      <td>SSD</td>\n",
       "      <td>1024</td>\n",
       "      <td>Intel</td>\n",
       "      <td>9th Gen i9</td>\n",
       "      <td>4</td>\n",
       "      <td>AMD Radeon Pro 5500M</td>\n",
       "      <td>2.0</td>\n",
       "      <td>16.0</td>\n",
       "      <td>macOS</td>\n",
       "      <td>Ultrabook</td>\n",
       "      <td>234900.0</td>\n",
       "      <td>Very Costly</td>\n",
       "    </tr>\n",
       "    <tr>\n",
       "      <th>268</th>\n",
       "      <td>Apple</td>\n",
       "      <td>MacBook Pro</td>\n",
       "      <td>16.0</td>\n",
       "      <td>SSD</td>\n",
       "      <td>512</td>\n",
       "      <td>Intel</td>\n",
       "      <td>9th Gen i7</td>\n",
       "      <td>4</td>\n",
       "      <td>AMD Radeon Pro 5300M</td>\n",
       "      <td>2.0</td>\n",
       "      <td>16.0</td>\n",
       "      <td>macOS</td>\n",
       "      <td>Ultrabook</td>\n",
       "      <td>195900.0</td>\n",
       "      <td>Costly</td>\n",
       "    </tr>\n",
       "    <tr>\n",
       "      <th>269</th>\n",
       "      <td>Apple</td>\n",
       "      <td>MacBook Pro</td>\n",
       "      <td>8.0</td>\n",
       "      <td>SSD</td>\n",
       "      <td>128</td>\n",
       "      <td>Intel</td>\n",
       "      <td>8th Gen i5</td>\n",
       "      <td>Integrated</td>\n",
       "      <td>Intel Iris Plus 645 Graphics</td>\n",
       "      <td>1.4</td>\n",
       "      <td>13.3</td>\n",
       "      <td>macOS</td>\n",
       "      <td>Ultrabook</td>\n",
       "      <td>109995.0</td>\n",
       "      <td>Normal</td>\n",
       "    </tr>\n",
       "    <tr>\n",
       "      <th>270</th>\n",
       "      <td>Apple</td>\n",
       "      <td>MacBook Pro</td>\n",
       "      <td>8.0</td>\n",
       "      <td>SSD</td>\n",
       "      <td>512</td>\n",
       "      <td>Intel</td>\n",
       "      <td>8th Gen i5</td>\n",
       "      <td>Integrated</td>\n",
       "      <td>Intel Iris Plus 655 Graphics</td>\n",
       "      <td>1.4</td>\n",
       "      <td>13.3</td>\n",
       "      <td>macOS</td>\n",
       "      <td>Ultrabook</td>\n",
       "      <td>148495.0</td>\n",
       "      <td>Costly</td>\n",
       "    </tr>\n",
       "    <tr>\n",
       "      <th>271</th>\n",
       "      <td>Apple</td>\n",
       "      <td>MacBook Pro</td>\n",
       "      <td>8.0</td>\n",
       "      <td>SSD</td>\n",
       "      <td>256</td>\n",
       "      <td>Intel</td>\n",
       "      <td>8th Gen i5</td>\n",
       "      <td>Integrated</td>\n",
       "      <td>Intel Iris Plus 640 Graphics</td>\n",
       "      <td>1.4</td>\n",
       "      <td>13.3</td>\n",
       "      <td>macOS</td>\n",
       "      <td>Ultrabook</td>\n",
       "      <td>139495.0</td>\n",
       "      <td>Costly</td>\n",
       "    </tr>\n",
       "  </tbody>\n",
       "</table>\n",
       "</div>"
      ],
      "text/plain": [
       "    Company Name  Laptop Name  RAM (GB) Storage Type Storage Size (GB)  \\\n",
       "263        Apple  MacBook Air       8.0          SSD               256   \n",
       "264        Apple  MacBook Air       8.0          SSD               512   \n",
       "265        Apple  MacBook Pro      16.0          SSD              1024   \n",
       "266        Apple  MacBook Pro      16.0          SSD               512   \n",
       "267        Apple  MacBook Pro      16.0          SSD              1024   \n",
       "268        Apple  MacBook Pro      16.0          SSD               512   \n",
       "269        Apple  MacBook Pro       8.0          SSD               128   \n",
       "270        Apple  MacBook Pro       8.0          SSD               512   \n",
       "271        Apple  MacBook Pro       8.0          SSD               256   \n",
       "\n",
       "    Processor Company Processor Details Graphics Card (GB)  \\\n",
       "263             Intel       10th Gen i3         Integrated   \n",
       "264             Intel       10th Gen i5         Integrated   \n",
       "265             Intel       10th Gen i5         Integrated   \n",
       "266             Intel       10th Gen i5         Integrated   \n",
       "267             Intel        9th Gen i9                  4   \n",
       "268             Intel        9th Gen i7                  4   \n",
       "269             Intel        8th Gen i5         Integrated   \n",
       "270             Intel        8th Gen i5         Integrated   \n",
       "271             Intel        8th Gen i5         Integrated   \n",
       "\n",
       "                      GPU Details  Weight (kg)  Screen Size (inches)     OS  \\\n",
       "263      Intel Iris Plus Graphics          1.3                  13.3  macOS   \n",
       "264      Intel Iris Plus Graphics          1.3                  13.3  macOS   \n",
       "265  Intel Iris Plus 645 Graphics          1.4                  13.3  macOS   \n",
       "266  Intel Iris Plus 645 Graphics          1.4                  13.3  macOS   \n",
       "267          AMD Radeon Pro 5500M          2.0                  16.0  macOS   \n",
       "268          AMD Radeon Pro 5300M          2.0                  16.0  macOS   \n",
       "269  Intel Iris Plus 645 Graphics          1.4                  13.3  macOS   \n",
       "270  Intel Iris Plus 655 Graphics          1.4                  13.3  macOS   \n",
       "271  Intel Iris Plus 640 Graphics          1.4                  13.3  macOS   \n",
       "\n",
       "    Laptop Type  Price (INR) Price Category  \n",
       "263   Ultrabook      92990.0         Normal  \n",
       "264   Ultrabook     122990.0         Costly  \n",
       "265   Ultrabook     194900.0         Costly  \n",
       "266   Ultrabook     174900.0         Costly  \n",
       "267   Ultrabook     234900.0    Very Costly  \n",
       "268   Ultrabook     195900.0         Costly  \n",
       "269   Ultrabook     109995.0         Normal  \n",
       "270   Ultrabook     148495.0         Costly  \n",
       "271   Ultrabook     139495.0         Costly  "
      ]
     },
     "execution_count": 7,
     "metadata": {},
     "output_type": "execute_result"
    }
   ],
   "source": [
    "bins=np.linspace(min(df[\"Price (INR)\"]),max(df[\"Price (INR)\"]),4)\n",
    "print(\"Normal Price Range = \",bins[0],'-',bins[1])\n",
    "print(\"Costly Price Range = \",bins[1],'-',bins[2])\n",
    "print(\"Very Costly Price Range = \",bins[2],'-',bins[3])\n",
    "gn=[\"Normal\",\"Costly\",\"Very Costly\"]\n",
    "df[\"Price Category\"]=pd.cut(df[\"Price (INR)\"],bins,labels=gn,include_lowest=True)\n",
    "df.tail(9)"
   ]
  },
  {
   "cell_type": "code",
   "execution_count": 8,
   "metadata": {},
   "outputs": [
    {
     "name": "stdout",
     "output_type": "stream",
     "text": [
      "10th Gen i5               82\n",
      "10th Gen i7               37\n",
      "7th Gen i7                31\n",
      "10th Gen i3               30\n",
      "9th Gen i7                13\n",
      "8th Gen i7                13\n",
      "6th Gen i7                13\n",
      "8th Gen i5                12\n",
      "7th Gen i5                 6\n",
      "9th Gen i5                 4\n",
      "Ryzen 3 3250U              4\n",
      "Ryzen 5 4600H              3\n",
      "Ryzen 7 4700U              2\n",
      "8th Gen i9                 2\n",
      "Ryzen 5 3500U              2\n",
      "8th Gen i3                 2\n",
      "7th Gen i3                 1\n",
      "3rd Gen Ryzen 3 3200U      1\n",
      "Athlon                     1\n",
      "8TH Gen i5                 1\n",
      "Ryzen 7 3750U              1\n",
      "9thGen i5                  1\n",
      "Ryzen 5 Pro 4650U          1\n",
      "Celeron                    1\n",
      "ROG Zephyrus S             1\n",
      "Ryzen 5 4600HS             1\n",
      "3rd Gen Ryzen 5 4600H      1\n",
      "Ryzen 5 4500U              1\n",
      "9th Gen i9                 1\n",
      "Ryzen 5 4600U              1\n",
      "3rd Gen Ryzen 5 53500U     1\n",
      "R7-3700U                   1\n",
      "Name: Processor Details, dtype: int64\n"
     ]
    }
   ],
   "source": [
    "print(df[\"Processor Details\"].value_counts())"
   ]
  },
  {
   "cell_type": "code",
   "execution_count": 9,
   "metadata": {},
   "outputs": [
    {
     "name": "stdout",
     "output_type": "stream",
     "text": [
      "SSD          148\n",
      "HDD           42\n",
      "SSD + HDD     42\n",
      "SSD+HDD       38\n",
      "SDD            1\n",
      "`SSD+HDD       1\n",
      "Name: Storage Type, dtype: int64\n"
     ]
    }
   ],
   "source": [
    "print(df[\"Storage Type\"].value_counts())"
   ]
  },
  {
   "cell_type": "code",
   "execution_count": 10,
   "metadata": {},
   "outputs": [],
   "source": [
    "df[\"Storage Type\"] = df[\"Storage Type\"].replace('SSD + HDD','SSD+HDD')\n",
    "df[\"Storage Type\"] = df[\"Storage Type\"].replace('`SSD+HDD','SSD+HDD')\n",
    "df[\"Storage Type\"] = df[\"Storage Type\"].replace('SDD','SSD')"
   ]
  },
  {
   "cell_type": "code",
   "execution_count": 11,
   "metadata": {},
   "outputs": [
    {
     "name": "stdout",
     "output_type": "stream",
     "text": [
      "SSD        149\n",
      "SSD+HDD     81\n",
      "HDD         42\n",
      "Name: Storage Type, dtype: int64\n"
     ]
    }
   ],
   "source": [
    "print(df[\"Storage Type\"].value_counts())"
   ]
  },
  {
   "cell_type": "code",
   "execution_count": 12,
   "metadata": {},
   "outputs": [
    {
     "name": "stdout",
     "output_type": "stream",
     "text": [
      "10th Gen i5               82\n",
      "10th Gen i7               37\n",
      "7th Gen i7                31\n",
      "10th Gen i3               30\n",
      "9th Gen i7                13\n",
      "8th Gen i7                13\n",
      "8th Gen i5                13\n",
      "6th Gen i7                13\n",
      "7th Gen i5                 6\n",
      "9th Gen i5                 5\n",
      "Ryzen 3 3250U              4\n",
      "Ryzen 5 4600H              3\n",
      "8th Gen i3                 2\n",
      "8th Gen i9                 2\n",
      "Ryzen 7 4700U              2\n",
      "Ryzen 5 3500U              2\n",
      "Celeron                    1\n",
      "Ryzen 5 Pro 4650U          1\n",
      "Athlon                     1\n",
      "Ryzen 5 4500U              1\n",
      "Ryzen 5 4600HS             1\n",
      "3rd Gen Ryzen 5 4600H      1\n",
      "ROG Zephyrus S             1\n",
      "3rd Gen Ryzen 5 53500U     1\n",
      "7th Gen i3                 1\n",
      "Ryzen 5 4600U              1\n",
      "9th Gen i9                 1\n",
      "3rd Gen Ryzen 3 3200U      1\n",
      "Ryzen 7 3750U              1\n",
      "R7-3700U                   1\n",
      "Name: Processor Details, dtype: int64\n"
     ]
    }
   ],
   "source": [
    "df[\"Processor Details\"]=df[\"Processor Details\"].replace('8TH Gen i5','8th Gen i5')\n",
    "df[\"Processor Details\"]=df[\"Processor Details\"].replace('9thGen i5','9th Gen i5')\n",
    "print(df[\"Processor Details\"].value_counts())"
   ]
  },
  {
   "cell_type": "code",
   "execution_count": 13,
   "metadata": {},
   "outputs": [
    {
     "name": "stdout",
     "output_type": "stream",
     "text": [
      "15.6    124\n",
      "14.0     81\n",
      "17.3     31\n",
      "13.3     28\n",
      "16.0      2\n",
      "15.0      2\n",
      "18.4      1\n",
      "12.5      1\n",
      "13.5      1\n",
      "Name: Screen Size (inches), dtype: int64\n"
     ]
    }
   ],
   "source": [
    "print(df[\"Screen Size (inches)\"].value_counts())"
   ]
  },
  {
   "cell_type": "code",
   "execution_count": 14,
   "metadata": {},
   "outputs": [
    {
     "name": "stdout",
     "output_type": "stream",
     "text": [
      "15.6    128\n",
      "14.0     81\n",
      "17.3     31\n",
      "13.3     30\n",
      "18.4      1\n",
      "Name: Screen Size (inches), dtype: int64\n"
     ]
    }
   ],
   "source": [
    "df[\"Screen Size (inches)\"] = df[\"Screen Size (inches)\"].replace(15,15.6)\n",
    "df[\"Screen Size (inches)\"] = df[\"Screen Size (inches)\"].replace(12.5,13.3)\n",
    "df[\"Screen Size (inches)\"] = df[\"Screen Size (inches)\"].replace(13.5,13.3)\n",
    "df[\"Screen Size (inches)\"] = df[\"Screen Size (inches)\"].replace(16,15.6)\n",
    "print(df[\"Screen Size (inches)\"].value_counts())"
   ]
  },
  {
   "cell_type": "code",
   "execution_count": 15,
   "metadata": {},
   "outputs": [
    {
     "name": "stdout",
     "output_type": "stream",
     "text": [
      "Intel UHD Graphics              93\n",
      "NVIDIA GeForce GTX 1650         28\n",
      "NVIDIA GeForce GTX 1050         12\n",
      "NVIDIA GeForce GTX 1650 Ti      12\n",
      "NVIDIA GeForce GTX 1070         12\n",
      "NVIDIA GeForce GTX 1060         11\n",
      "NVIDIA GeForce MX250             9\n",
      "NVIDIA GeForce GTX 1050 Ti       9\n",
      "Intel Iris Plus Graphics         7\n",
      "NVIDIA GeForce MX 130            7\n",
      "NVIDIA GeForce GTX 2060          5\n",
      "NVIDIA GeForce MX 350            4\n",
      "AMD Radeon Graphics              4\n",
      "NVIDIA GeForce RTX 2080          4\n",
      "Readon Vega 8                    3\n",
      "AMD Radeon RX Vega M GL         3\n",
      "Integrated                       3\n",
      "NVIDIA GeForce GTX 960M          3\n",
      "NVIDIA GeForce GTX 980M          3\n",
      "Intel Iris Plus 645 Graphics     3\n",
      "NVIDIA GeForce MX330             2\n",
      "NVIDIA GeForce GTX 1660          2\n",
      "NVIDIA GTX 2080 Max              2\n",
      "NVIDIA GeForce RTX 2060          2\n",
      "AMD Radeon                       2\n",
      "NVIDIA GeForce RTX 2070          2\n",
      "AMD Radeon RX Vega 10            1\n",
      "NVIDIA Quadro P620               1\n",
      "AMD Radeon 630                   1\n",
      "NVIDIA Quadro T2000              1\n",
      "NVIDIA GTX 980 SLI               1\n",
      "NVIDIA GeForce MX150             1\n",
      "NVIDIA GeForce GTX 970M          1\n",
      "Intel Iris Plus 640 Graphics     1\n",
      "NVIDIA GTX 1650 Max              1\n",
      "AMD Radeon Pro 5300M             1\n",
      "NVIDIA GeForce MX 230            1\n",
      "Radeon RX Vega 7                 1\n",
      "AMD Radeon Vega 8                1\n",
      "NVIDIA GeForce GTX 965M          1\n",
      "NVIDIA Quadro P520               1\n",
      "AMD Radeon Pro 5500M             1\n",
      "NVIDIA GTX 1080                  1\n",
      "AMD Radeon 610                   1\n",
      "NVIDIA GTX 1050 Ti               1\n",
      "Intel Iris Plus 655 Graphics     1\n",
      "AMD Radeon Vega 3                1\n",
      "NVIDIA Quadro RTX3000            1\n",
      "Radeon R2                        1\n",
      "NVIDIA GTX 1070                  1\n",
      "NVIDIA GTX 1050 Max              1\n",
      "Name: GPU Details, dtype: int64\n"
     ]
    }
   ],
   "source": [
    "df['GPU Details']=df['GPU Details'].replace('Intel® UHD Graphics','Intel UHD Graphics')\n",
    "df['GPU Details']=df['GPU Details'].replace('NVIDIA® GeForce® GTX 1650 Ti','NVIDIA GeForce GTX 1650 Ti')\n",
    "df['GPU Details']=df['GPU Details'].replace('NVIDIA® GeForce® GTX 1650','NVIDIA GeForce GTX 1650')\n",
    "df['GPU Details']=df['GPU Details'].replace('NVIDIA® GeForce RTX 2080','NVIDIA GeForce RTX 2080')\n",
    "df['GPU Details']=df['GPU Details'].replace('NVIDIA® GeForce® MX250','NVIDIA GeForce MX250')\n",
    "df['GPU Details']=df['GPU Details'].replace('NVIDIA® GeForce® RTX 2060','NVIDIA GeForce RTX 2060')\n",
    "df['GPU Details']=df['GPU Details'].replace('NVIDIA® GTX 1070','NVIDIA GeForce GTX 1070')\n",
    "df['GPU Details']=df['GPU Details'].replace('NVIDIA® Quadro RTX3000','NVIDIA Quadro RTX3000')\n",
    "df['GPU Details']=df['GPU Details'].replace('NVIDIA® GeForce® MX350','NVIDIA GeForce MX350')\n",
    "df['GPU Details']=df['GPU Details'].replace('Intel® Iris® Plus','Intel Iris Plus Graphics')\n",
    "df['GPU Details']=df['GPU Details'].replace('Intel® Iris® Plus Graphics','Intel Iris Plus Graphics')\n",
    "df['GPU Details']=df['GPU Details'].replace('NVIDIA® Quadro® P520','NVIDIA Quadro P520')\n",
    "df['GPU Details']=df['GPU Details'].replace('NVIDIA® GeForce® RTX 2070','NVIDIA GeForce RTX 2070')\n",
    "df['GPU Details']=df['GPU Details'].replace('NVIDIA® GeForce® MX330','NVIDIA GeForce MX330')\n",
    "df['GPU Details']=df['GPU Details'].replace('NVIDIA® GeForce RTX 2070','NVIDIA GeForce RTX 2070')\n",
    "df['GPU Details']=df['GPU Details'].replace('Intel Iris plus','Intel Iris Plus Graphics')\n",
    "df['GPU Details']=df['GPU Details'].replace('NVIDIA GTX 1650','NVIDIA GeForce GTX 1650')\n",
    "df['GPU Details']=df['GPU Details'].replace('NVIDIA GTX 2060','NVIDIA GeForce GTX 2060')\n",
    "df['GPU Details']=df['GPU Details'].replace('NVIDIA GTX 1660','NVIDIA GeForce GTX 1660')\n",
    "df['GPU Details']=df['GPU Details'].replace('NVIDIA 1660','NVIDIA GeForce GTX 1660')\n",
    "df['GPU Details']=df['GPU Details'].replace('NVIDIA GTX 1060','NVIDIA GeForce GTX 1060')\n",
    "df['GPU Details']=df['GPU Details'].replace('NVIDIA GTX 1050Ti','NVIDIA GTX 1050 Ti')\n",
    "df['GPU Details']=df['GPU Details'].replace('NVIDIA MX130','NVIDIA GeForce MX 130')\n",
    "df['GPU Details']=df['GPU Details'].replace('NVIDIA GeForce MX130','NVIDIA GeForce MX 130')\n",
    "df['GPU Details']=df['GPU Details'].replace('NVIDIA GeForce MX350','NVIDIA GeForce MX 350')\n",
    "print(df[\"GPU Details\"].value_counts())\n"
   ]
  },
  {
   "cell_type": "code",
   "execution_count": 16,
   "metadata": {},
   "outputs": [
    {
     "name": "stdout",
     "output_type": "stream",
     "text": [
      "Lenovo    65\n",
      "MSI       47\n",
      "Acer      44\n",
      "Dell      42\n",
      "HP        33\n",
      "ASUS      28\n",
      "Apple      9\n",
      "Razer      4\n",
      "Name: Company Name, dtype: int64\n",
      "Nitro 5                7\n",
      "MacBook Pro            7\n",
      "Legion 5i              6\n",
      "Predator Helios 300    5\n",
      "Swift 3                5\n",
      "                      ..\n",
      "Zenbook 13             1\n",
      "Inspiron 5482          1\n",
      "ZenBook UX430UA        1\n",
      "14s cf3074tu           1\n",
      "Predator Triton 500    1\n",
      "Name: Laptop Name, Length: 187, dtype: int64\n",
      "8.0     156\n",
      "16.0     76\n",
      "4.0      34\n",
      "32.0      5\n",
      "24.0      1\n",
      "Name: RAM (GB), dtype: int64\n",
      "SSD        149\n",
      "SSD+HDD     81\n",
      "HDD         42\n",
      "Name: Storage Type, dtype: int64\n",
      "512         96\n",
      "1024        58\n",
      "256+1024    55\n",
      "256         33\n",
      "128+1024    17\n",
      "512+1024     5\n",
      "128          2\n",
      "512+2048     2\n",
      "256+2048     2\n",
      "2048         1\n",
      "64+256       1\n",
      "Name: Storage Size (GB), dtype: int64\n",
      "Intel    251\n",
      "AMD       21\n",
      "Name: Processor Company, dtype: int64\n",
      "10th Gen i5               82\n",
      "10th Gen i7               37\n",
      "7th Gen i7                31\n",
      "10th Gen i3               30\n",
      "9th Gen i7                13\n",
      "8th Gen i7                13\n",
      "8th Gen i5                13\n",
      "6th Gen i7                13\n",
      "7th Gen i5                 6\n",
      "9th Gen i5                 5\n",
      "Ryzen 3 3250U              4\n",
      "Ryzen 5 4600H              3\n",
      "8th Gen i3                 2\n",
      "8th Gen i9                 2\n",
      "Ryzen 7 4700U              2\n",
      "Ryzen 5 3500U              2\n",
      "Celeron                    1\n",
      "Ryzen 5 Pro 4650U          1\n",
      "Athlon                     1\n",
      "Ryzen 5 4500U              1\n",
      "Ryzen 5 4600HS             1\n",
      "3rd Gen Ryzen 5 4600H      1\n",
      "ROG Zephyrus S             1\n",
      "3rd Gen Ryzen 5 53500U     1\n",
      "7th Gen i3                 1\n",
      "Ryzen 5 4600U              1\n",
      "9th Gen i9                 1\n",
      "3rd Gen Ryzen 3 3200U      1\n",
      "Ryzen 7 3750U              1\n",
      "R7-3700U                   1\n",
      "Name: Processor Details, dtype: int64\n",
      "Integrated    124\n",
      "4              49\n",
      "2              35\n",
      "Dedicated      25\n",
      "8              21\n",
      "6              13\n",
      "3               5\n",
      "Name: Graphics Card (GB), dtype: int64\n",
      "Intel UHD Graphics              93\n",
      "NVIDIA GeForce GTX 1650         28\n",
      "NVIDIA GeForce GTX 1050         12\n",
      "NVIDIA GeForce GTX 1650 Ti      12\n",
      "NVIDIA GeForce GTX 1070         12\n",
      "NVIDIA GeForce GTX 1060         11\n",
      "NVIDIA GeForce MX250             9\n",
      "NVIDIA GeForce GTX 1050 Ti       9\n",
      "Intel Iris Plus Graphics         7\n",
      "NVIDIA GeForce MX 130            7\n",
      "NVIDIA GeForce GTX 2060          5\n",
      "NVIDIA GeForce MX 350            4\n",
      "AMD Radeon Graphics              4\n",
      "NVIDIA GeForce RTX 2080          4\n",
      "Readon Vega 8                    3\n",
      "AMD Radeon RX Vega M GL         3\n",
      "Integrated                       3\n",
      "NVIDIA GeForce GTX 960M          3\n",
      "NVIDIA GeForce GTX 980M          3\n",
      "Intel Iris Plus 645 Graphics     3\n",
      "NVIDIA GeForce MX330             2\n",
      "NVIDIA GeForce GTX 1660          2\n",
      "NVIDIA GTX 2080 Max              2\n",
      "NVIDIA GeForce RTX 2060          2\n",
      "AMD Radeon                       2\n",
      "NVIDIA GeForce RTX 2070          2\n",
      "AMD Radeon RX Vega 10            1\n",
      "NVIDIA Quadro P620               1\n",
      "AMD Radeon 630                   1\n",
      "NVIDIA Quadro T2000              1\n",
      "NVIDIA GTX 980 SLI               1\n",
      "NVIDIA GeForce MX150             1\n",
      "NVIDIA GeForce GTX 970M          1\n",
      "Intel Iris Plus 640 Graphics     1\n",
      "NVIDIA GTX 1650 Max              1\n",
      "AMD Radeon Pro 5300M             1\n",
      "NVIDIA GeForce MX 230            1\n",
      "Radeon RX Vega 7                 1\n",
      "AMD Radeon Vega 8                1\n",
      "NVIDIA GeForce GTX 965M          1\n",
      "NVIDIA Quadro P520               1\n",
      "AMD Radeon Pro 5500M             1\n",
      "NVIDIA GTX 1080                  1\n",
      "AMD Radeon 610                   1\n",
      "NVIDIA GTX 1050 Ti               1\n",
      "Intel Iris Plus 655 Graphics     1\n",
      "AMD Radeon Vega 3                1\n",
      "NVIDIA Quadro RTX3000            1\n",
      "Radeon R2                        1\n",
      "NVIDIA GTX 1070                  1\n",
      "NVIDIA GTX 1050 Max              1\n",
      "Name: GPU Details, dtype: int64\n",
      "1.50    20\n",
      "2.20    17\n",
      "1.60    16\n",
      "2.50    15\n",
      "2.30    15\n",
      "        ..\n",
      "1.47     1\n",
      "1.99     1\n",
      "4.26     1\n",
      "2.26     1\n",
      "1.35     1\n",
      "Name: Weight (kg), Length: 71, dtype: int64\n",
      "15.6    128\n",
      "14.0     81\n",
      "17.3     31\n",
      "13.3     30\n",
      "18.4      1\n",
      "Name: Screen Size (inches), dtype: int64\n",
      "Windows      250\n",
      "DOS           12\n",
      "macOS          9\n",
      "Chrome OS      1\n",
      "Name: OS, dtype: int64\n",
      "Notebook       141\n",
      "Gaming         107\n",
      "Ultrabook       16\n",
      "Convertible      6\n",
      "Business         1\n",
      "Chromebook       1\n",
      "Name: Laptop Type, dtype: int64\n",
      "67990.0     3\n",
      "65990.0     3\n",
      "129990.0    3\n",
      "59990.0     3\n",
      "104000.0    3\n",
      "           ..\n",
      "112499.0    1\n",
      "115990.0    1\n",
      "79680.0     1\n",
      "38804.0     1\n",
      "116800.0    1\n",
      "Name: Price (INR), Length: 240, dtype: int64\n",
      "Normal         191\n",
      "Costly          64\n",
      "Very Costly     16\n",
      "Name: Price Category, dtype: int64\n"
     ]
    }
   ],
   "source": [
    "for col in df.columns:\n",
    "    print(df[col].value_counts())"
   ]
  },
  {
   "cell_type": "code",
   "execution_count": 17,
   "metadata": {},
   "outputs": [
    {
     "data": {
      "text/html": [
       "<div>\n",
       "<style scoped>\n",
       "    .dataframe tbody tr th:only-of-type {\n",
       "        vertical-align: middle;\n",
       "    }\n",
       "\n",
       "    .dataframe tbody tr th {\n",
       "        vertical-align: top;\n",
       "    }\n",
       "\n",
       "    .dataframe thead th {\n",
       "        text-align: right;\n",
       "    }\n",
       "</style>\n",
       "<table border=\"1\" class=\"dataframe\">\n",
       "  <thead>\n",
       "    <tr style=\"text-align: right;\">\n",
       "      <th></th>\n",
       "      <th>Company Name</th>\n",
       "      <th>Laptop Name</th>\n",
       "      <th>RAM (GB)</th>\n",
       "      <th>Storage Type</th>\n",
       "      <th>Storage Size (GB)</th>\n",
       "      <th>Processor Company</th>\n",
       "      <th>Processor Details</th>\n",
       "      <th>Graphics Card (GB)</th>\n",
       "      <th>GPU Details</th>\n",
       "      <th>Weight (kg)</th>\n",
       "      <th>Screen Size (inches)</th>\n",
       "      <th>OS</th>\n",
       "      <th>Laptop Type</th>\n",
       "      <th>Price (INR)</th>\n",
       "      <th>Price Category</th>\n",
       "    </tr>\n",
       "  </thead>\n",
       "  <tbody>\n",
       "    <tr>\n",
       "      <th>count</th>\n",
       "      <td>272</td>\n",
       "      <td>272</td>\n",
       "      <td>272.000000</td>\n",
       "      <td>272</td>\n",
       "      <td>272</td>\n",
       "      <td>272</td>\n",
       "      <td>272</td>\n",
       "      <td>272</td>\n",
       "      <td>272</td>\n",
       "      <td>272.000000</td>\n",
       "      <td>271.000000</td>\n",
       "      <td>272</td>\n",
       "      <td>272</td>\n",
       "      <td>271.000000</td>\n",
       "      <td>271</td>\n",
       "    </tr>\n",
       "    <tr>\n",
       "      <th>unique</th>\n",
       "      <td>8</td>\n",
       "      <td>187</td>\n",
       "      <td>NaN</td>\n",
       "      <td>3</td>\n",
       "      <td>11</td>\n",
       "      <td>2</td>\n",
       "      <td>30</td>\n",
       "      <td>7</td>\n",
       "      <td>51</td>\n",
       "      <td>NaN</td>\n",
       "      <td>NaN</td>\n",
       "      <td>4</td>\n",
       "      <td>6</td>\n",
       "      <td>NaN</td>\n",
       "      <td>3</td>\n",
       "    </tr>\n",
       "    <tr>\n",
       "      <th>top</th>\n",
       "      <td>Lenovo</td>\n",
       "      <td>Nitro 5</td>\n",
       "      <td>NaN</td>\n",
       "      <td>SSD</td>\n",
       "      <td>512</td>\n",
       "      <td>Intel</td>\n",
       "      <td>10th Gen i5</td>\n",
       "      <td>Integrated</td>\n",
       "      <td>Intel UHD Graphics</td>\n",
       "      <td>NaN</td>\n",
       "      <td>NaN</td>\n",
       "      <td>Windows</td>\n",
       "      <td>Notebook</td>\n",
       "      <td>NaN</td>\n",
       "      <td>Normal</td>\n",
       "    </tr>\n",
       "    <tr>\n",
       "      <th>freq</th>\n",
       "      <td>65</td>\n",
       "      <td>7</td>\n",
       "      <td>NaN</td>\n",
       "      <td>149</td>\n",
       "      <td>96</td>\n",
       "      <td>251</td>\n",
       "      <td>82</td>\n",
       "      <td>124</td>\n",
       "      <td>93</td>\n",
       "      <td>NaN</td>\n",
       "      <td>NaN</td>\n",
       "      <td>250</td>\n",
       "      <td>141</td>\n",
       "      <td>NaN</td>\n",
       "      <td>191</td>\n",
       "    </tr>\n",
       "    <tr>\n",
       "      <th>mean</th>\n",
       "      <td>NaN</td>\n",
       "      <td>NaN</td>\n",
       "      <td>10.235294</td>\n",
       "      <td>NaN</td>\n",
       "      <td>NaN</td>\n",
       "      <td>NaN</td>\n",
       "      <td>NaN</td>\n",
       "      <td>NaN</td>\n",
       "      <td>NaN</td>\n",
       "      <td>2.003676</td>\n",
       "      <td>15.071956</td>\n",
       "      <td>NaN</td>\n",
       "      <td>NaN</td>\n",
       "      <td>103200.660517</td>\n",
       "      <td>NaN</td>\n",
       "    </tr>\n",
       "    <tr>\n",
       "      <th>std</th>\n",
       "      <td>NaN</td>\n",
       "      <td>NaN</td>\n",
       "      <td>5.149048</td>\n",
       "      <td>NaN</td>\n",
       "      <td>NaN</td>\n",
       "      <td>NaN</td>\n",
       "      <td>NaN</td>\n",
       "      <td>NaN</td>\n",
       "      <td>NaN</td>\n",
       "      <td>0.645043</td>\n",
       "      <td>1.198652</td>\n",
       "      <td>NaN</td>\n",
       "      <td>NaN</td>\n",
       "      <td>56422.857594</td>\n",
       "      <td>NaN</td>\n",
       "    </tr>\n",
       "    <tr>\n",
       "      <th>min</th>\n",
       "      <td>NaN</td>\n",
       "      <td>NaN</td>\n",
       "      <td>4.000000</td>\n",
       "      <td>NaN</td>\n",
       "      <td>NaN</td>\n",
       "      <td>NaN</td>\n",
       "      <td>NaN</td>\n",
       "      <td>NaN</td>\n",
       "      <td>NaN</td>\n",
       "      <td>0.390000</td>\n",
       "      <td>13.300000</td>\n",
       "      <td>NaN</td>\n",
       "      <td>NaN</td>\n",
       "      <td>26374.000000</td>\n",
       "      <td>NaN</td>\n",
       "    </tr>\n",
       "    <tr>\n",
       "      <th>25%</th>\n",
       "      <td>NaN</td>\n",
       "      <td>NaN</td>\n",
       "      <td>8.000000</td>\n",
       "      <td>NaN</td>\n",
       "      <td>NaN</td>\n",
       "      <td>NaN</td>\n",
       "      <td>NaN</td>\n",
       "      <td>NaN</td>\n",
       "      <td>NaN</td>\n",
       "      <td>1.507500</td>\n",
       "      <td>14.000000</td>\n",
       "      <td>NaN</td>\n",
       "      <td>NaN</td>\n",
       "      <td>60252.500000</td>\n",
       "      <td>NaN</td>\n",
       "    </tr>\n",
       "    <tr>\n",
       "      <th>50%</th>\n",
       "      <td>NaN</td>\n",
       "      <td>NaN</td>\n",
       "      <td>8.000000</td>\n",
       "      <td>NaN</td>\n",
       "      <td>NaN</td>\n",
       "      <td>NaN</td>\n",
       "      <td>NaN</td>\n",
       "      <td>NaN</td>\n",
       "      <td>NaN</td>\n",
       "      <td>1.810000</td>\n",
       "      <td>15.600000</td>\n",
       "      <td>NaN</td>\n",
       "      <td>NaN</td>\n",
       "      <td>89790.000000</td>\n",
       "      <td>NaN</td>\n",
       "    </tr>\n",
       "    <tr>\n",
       "      <th>75%</th>\n",
       "      <td>NaN</td>\n",
       "      <td>NaN</td>\n",
       "      <td>16.000000</td>\n",
       "      <td>NaN</td>\n",
       "      <td>NaN</td>\n",
       "      <td>NaN</td>\n",
       "      <td>NaN</td>\n",
       "      <td>NaN</td>\n",
       "      <td>NaN</td>\n",
       "      <td>2.315000</td>\n",
       "      <td>15.600000</td>\n",
       "      <td>NaN</td>\n",
       "      <td>NaN</td>\n",
       "      <td>129994.500000</td>\n",
       "      <td>NaN</td>\n",
       "    </tr>\n",
       "    <tr>\n",
       "      <th>max</th>\n",
       "      <td>NaN</td>\n",
       "      <td>NaN</td>\n",
       "      <td>32.000000</td>\n",
       "      <td>NaN</td>\n",
       "      <td>NaN</td>\n",
       "      <td>NaN</td>\n",
       "      <td>NaN</td>\n",
       "      <td>NaN</td>\n",
       "      <td>NaN</td>\n",
       "      <td>4.500000</td>\n",
       "      <td>18.400000</td>\n",
       "      <td>NaN</td>\n",
       "      <td>NaN</td>\n",
       "      <td>305764.000000</td>\n",
       "      <td>NaN</td>\n",
       "    </tr>\n",
       "  </tbody>\n",
       "</table>\n",
       "</div>"
      ],
      "text/plain": [
       "       Company Name Laptop Name    RAM (GB) Storage Type Storage Size (GB)  \\\n",
       "count           272         272  272.000000          272               272   \n",
       "unique            8         187         NaN            3                11   \n",
       "top          Lenovo     Nitro 5         NaN          SSD               512   \n",
       "freq             65           7         NaN          149                96   \n",
       "mean            NaN         NaN   10.235294          NaN               NaN   \n",
       "std             NaN         NaN    5.149048          NaN               NaN   \n",
       "min             NaN         NaN    4.000000          NaN               NaN   \n",
       "25%             NaN         NaN    8.000000          NaN               NaN   \n",
       "50%             NaN         NaN    8.000000          NaN               NaN   \n",
       "75%             NaN         NaN   16.000000          NaN               NaN   \n",
       "max             NaN         NaN   32.000000          NaN               NaN   \n",
       "\n",
       "       Processor Company Processor Details Graphics Card (GB)  \\\n",
       "count                272               272                272   \n",
       "unique                 2                30                  7   \n",
       "top                Intel       10th Gen i5         Integrated   \n",
       "freq                 251                82                124   \n",
       "mean                 NaN               NaN                NaN   \n",
       "std                  NaN               NaN                NaN   \n",
       "min                  NaN               NaN                NaN   \n",
       "25%                  NaN               NaN                NaN   \n",
       "50%                  NaN               NaN                NaN   \n",
       "75%                  NaN               NaN                NaN   \n",
       "max                  NaN               NaN                NaN   \n",
       "\n",
       "               GPU Details  Weight (kg)  Screen Size (inches)       OS  \\\n",
       "count                  272   272.000000            271.000000      272   \n",
       "unique                  51          NaN                   NaN        4   \n",
       "top     Intel UHD Graphics          NaN                   NaN  Windows   \n",
       "freq                    93          NaN                   NaN      250   \n",
       "mean                   NaN     2.003676             15.071956      NaN   \n",
       "std                    NaN     0.645043              1.198652      NaN   \n",
       "min                    NaN     0.390000             13.300000      NaN   \n",
       "25%                    NaN     1.507500             14.000000      NaN   \n",
       "50%                    NaN     1.810000             15.600000      NaN   \n",
       "75%                    NaN     2.315000             15.600000      NaN   \n",
       "max                    NaN     4.500000             18.400000      NaN   \n",
       "\n",
       "       Laptop Type    Price (INR) Price Category  \n",
       "count          272     271.000000            271  \n",
       "unique           6            NaN              3  \n",
       "top       Notebook            NaN         Normal  \n",
       "freq           141            NaN            191  \n",
       "mean           NaN  103200.660517            NaN  \n",
       "std            NaN   56422.857594            NaN  \n",
       "min            NaN   26374.000000            NaN  \n",
       "25%            NaN   60252.500000            NaN  \n",
       "50%            NaN   89790.000000            NaN  \n",
       "75%            NaN  129994.500000            NaN  \n",
       "max            NaN  305764.000000            NaN  "
      ]
     },
     "execution_count": 17,
     "metadata": {},
     "output_type": "execute_result"
    }
   ],
   "source": [
    "df.describe(include='all')"
   ]
  },
  {
   "cell_type": "code",
   "execution_count": 18,
   "metadata": {},
   "outputs": [
    {
     "data": {
      "text/html": [
       "<div>\n",
       "<style scoped>\n",
       "    .dataframe tbody tr th:only-of-type {\n",
       "        vertical-align: middle;\n",
       "    }\n",
       "\n",
       "    .dataframe tbody tr th {\n",
       "        vertical-align: top;\n",
       "    }\n",
       "\n",
       "    .dataframe thead th {\n",
       "        text-align: right;\n",
       "    }\n",
       "</style>\n",
       "<table border=\"1\" class=\"dataframe\">\n",
       "  <thead>\n",
       "    <tr style=\"text-align: right;\">\n",
       "      <th></th>\n",
       "      <th>Company Name</th>\n",
       "      <th>Laptop Name</th>\n",
       "      <th>RAM (GB)</th>\n",
       "      <th>Storage Type</th>\n",
       "      <th>Storage Size (GB)</th>\n",
       "      <th>Processor Company</th>\n",
       "      <th>Processor Details</th>\n",
       "      <th>Graphics Card (GB)</th>\n",
       "      <th>GPU Details</th>\n",
       "      <th>Weight (kg)</th>\n",
       "      <th>Screen Size (inches)</th>\n",
       "      <th>OS</th>\n",
       "      <th>Laptop Type</th>\n",
       "      <th>Price (INR)</th>\n",
       "      <th>Price Category</th>\n",
       "    </tr>\n",
       "  </thead>\n",
       "  <tbody>\n",
       "    <tr>\n",
       "      <th>0</th>\n",
       "      <td>Dell</td>\n",
       "      <td>New Inspiron 14 5490</td>\n",
       "      <td>8.0</td>\n",
       "      <td>SSD</td>\n",
       "      <td>512</td>\n",
       "      <td>Intel</td>\n",
       "      <td>10th Gen i5</td>\n",
       "      <td>Integrated</td>\n",
       "      <td>Intel UHD Graphics</td>\n",
       "      <td>1.64</td>\n",
       "      <td>14.0</td>\n",
       "      <td>Windows</td>\n",
       "      <td>Notebook</td>\n",
       "      <td>62990.0</td>\n",
       "      <td>Normal</td>\n",
       "    </tr>\n",
       "    <tr>\n",
       "      <th>1</th>\n",
       "      <td>Dell</td>\n",
       "      <td>New Inspiron 15 5590</td>\n",
       "      <td>8.0</td>\n",
       "      <td>SSD</td>\n",
       "      <td>512</td>\n",
       "      <td>Intel</td>\n",
       "      <td>10th Gen i5</td>\n",
       "      <td>Integrated</td>\n",
       "      <td>Intel UHD Graphics</td>\n",
       "      <td>1.64</td>\n",
       "      <td>15.6</td>\n",
       "      <td>Windows</td>\n",
       "      <td>Notebook</td>\n",
       "      <td>63990.0</td>\n",
       "      <td>Normal</td>\n",
       "    </tr>\n",
       "    <tr>\n",
       "      <th>2</th>\n",
       "      <td>Dell</td>\n",
       "      <td>New Inspiron 14 5490</td>\n",
       "      <td>8.0</td>\n",
       "      <td>SSD</td>\n",
       "      <td>512</td>\n",
       "      <td>Intel</td>\n",
       "      <td>10th Gen i5</td>\n",
       "      <td>2</td>\n",
       "      <td>NVIDIA GeForce MX250</td>\n",
       "      <td>1.64</td>\n",
       "      <td>14.0</td>\n",
       "      <td>Windows</td>\n",
       "      <td>Notebook</td>\n",
       "      <td>67990.0</td>\n",
       "      <td>Normal</td>\n",
       "    </tr>\n",
       "    <tr>\n",
       "      <th>3</th>\n",
       "      <td>Dell</td>\n",
       "      <td>New Inspiron 15 5590</td>\n",
       "      <td>8.0</td>\n",
       "      <td>SSD</td>\n",
       "      <td>512</td>\n",
       "      <td>Intel</td>\n",
       "      <td>10th Gen i5</td>\n",
       "      <td>2</td>\n",
       "      <td>NVIDIA GeForce MX250</td>\n",
       "      <td>1.64</td>\n",
       "      <td>15.6</td>\n",
       "      <td>Windows</td>\n",
       "      <td>Notebook</td>\n",
       "      <td>68990.0</td>\n",
       "      <td>Normal</td>\n",
       "    </tr>\n",
       "    <tr>\n",
       "      <th>4</th>\n",
       "      <td>Dell</td>\n",
       "      <td>New Inspiron 15 7501</td>\n",
       "      <td>8.0</td>\n",
       "      <td>SSD</td>\n",
       "      <td>512</td>\n",
       "      <td>Intel</td>\n",
       "      <td>10th Gen i5</td>\n",
       "      <td>4</td>\n",
       "      <td>NVIDIA GeForce GTX 1650</td>\n",
       "      <td>1.64</td>\n",
       "      <td>15.6</td>\n",
       "      <td>Windows</td>\n",
       "      <td>Notebook</td>\n",
       "      <td>91990.0</td>\n",
       "      <td>Normal</td>\n",
       "    </tr>\n",
       "  </tbody>\n",
       "</table>\n",
       "</div>"
      ],
      "text/plain": [
       "  Company Name           Laptop Name  RAM (GB) Storage Type Storage Size (GB)  \\\n",
       "0         Dell  New Inspiron 14 5490       8.0          SSD               512   \n",
       "1         Dell  New Inspiron 15 5590       8.0          SSD               512   \n",
       "2         Dell  New Inspiron 14 5490       8.0          SSD               512   \n",
       "3         Dell  New Inspiron 15 5590       8.0          SSD               512   \n",
       "4         Dell  New Inspiron 15 7501       8.0          SSD               512   \n",
       "\n",
       "  Processor Company Processor Details Graphics Card (GB)  \\\n",
       "0             Intel       10th Gen i5         Integrated   \n",
       "1             Intel       10th Gen i5         Integrated   \n",
       "2             Intel       10th Gen i5                  2   \n",
       "3             Intel       10th Gen i5                  2   \n",
       "4             Intel       10th Gen i5                  4   \n",
       "\n",
       "               GPU Details  Weight (kg)  Screen Size (inches)       OS  \\\n",
       "0       Intel UHD Graphics         1.64                  14.0  Windows   \n",
       "1       Intel UHD Graphics         1.64                  15.6  Windows   \n",
       "2     NVIDIA GeForce MX250         1.64                  14.0  Windows   \n",
       "3     NVIDIA GeForce MX250         1.64                  15.6  Windows   \n",
       "4  NVIDIA GeForce GTX 1650         1.64                  15.6  Windows   \n",
       "\n",
       "  Laptop Type  Price (INR) Price Category  \n",
       "0    Notebook      62990.0         Normal  \n",
       "1    Notebook      63990.0         Normal  \n",
       "2    Notebook      67990.0         Normal  \n",
       "3    Notebook      68990.0         Normal  \n",
       "4    Notebook      91990.0         Normal  "
      ]
     },
     "execution_count": 18,
     "metadata": {},
     "output_type": "execute_result"
    }
   ],
   "source": [
    "df.head(5)"
   ]
  },
  {
   "cell_type": "code",
   "execution_count": 19,
   "metadata": {},
   "outputs": [
    {
     "data": {
      "image/png": "[encoded data removed]",
      "text/plain": [
       "<Figure size 432x288 with 1 Axes>"
      ]
     },
     "metadata": {
      "needs_background": "light"
     },
     "output_type": "display_data"
    }
   ],
   "source": [
    "bp1=sns.boxplot(x=\"Company Name\", y=\"Price (INR)\", data=df)"
   ]
  },
  {
   "cell_type": "code",
   "execution_count": 20,
   "metadata": {},
   "outputs": [
    {
     "data": {
      "image/png": "[encoded data removed]",
      "text/plain": [
       "<Figure size 432x288 with 1 Axes>"
      ]
     },
     "metadata": {
      "needs_background": "light"
     },
     "output_type": "display_data"
    }
   ],
   "source": [
    "bp2=sns.boxplot(x=\"Storage Type\", y=\"Price (INR)\", data=df)"
   ]
  },
  {
   "cell_type": "code",
   "execution_count": 21,
   "metadata": {},
   "outputs": [
    {
     "data": {
      "text/plain": [
       "Text(0, 0.5, 'Price')"
      ]
     },
     "execution_count": 21,
     "metadata": {},
     "output_type": "execute_result"
    },
    {
     "data": {
      "image/png": "[encoded data removed]",
      "text/plain": [
       "<Figure size 432x288 with 1 Axes>"
      ]
     },
     "metadata": {
      "needs_background": "light"
     },
     "output_type": "display_data"
    }
   ],
   "source": [
    "y=df['Price (INR)']\n",
    "x=df['Weight (kg)']\n",
    "plt.scatter(x,y)\n",
    "plt.title(\"Weight vs Price\")\n",
    "plt.xlabel('Weight (kg)')\n",
    "plt.ylabel('Price')"
   ]
  },
  {
   "cell_type": "code",
   "execution_count": 22,
   "metadata": {},
   "outputs": [
    {
     "data": {
      "text/plain": [
       "Text(0, 0.5, 'Price')"
      ]
     },
     "execution_count": 22,
     "metadata": {},
     "output_type": "execute_result"
    },
    {
     "data": {
      "image/png": "[encoded data removed]",
      "text/plain": [
       "<Figure size 864x432 with 1 Axes>"
      ]
     },
     "metadata": {
      "needs_background": "light"
     },
     "output_type": "display_data"
    }
   ],
   "source": [
    "plt.subplots(figsize=(12,6))\n",
    "y=df['Price (INR)']\n",
    "x=df['Storage Size (GB)']\n",
    "plt.scatter(x,y,linewidths=1)\n",
    "plt.title(\"Storage Size vs Price\")\n",
    "plt.xlabel('Storage Size (GB)')\n",
    "plt.ylabel('Price')"
   ]
  },
  {
   "cell_type": "code",
   "execution_count": 23,
   "metadata": {},
   "outputs": [
    {
     "data": {
      "text/plain": [
       "Text(0, 0.5, 'Price')"
      ]
     },
     "execution_count": 23,
     "metadata": {},
     "output_type": "execute_result"
    },
    {
     "data": {
      "image/png": "[encoded data removed]",
      "text/plain": [
       "<Figure size 432x288 with 1 Axes>"
      ]
     },
     "metadata": {
      "needs_background": "light"
     },
     "output_type": "display_data"
    }
   ],
   "source": [
    "y=df['Price (INR)']\n",
    "x=df['Graphics Card (GB)']\n",
    "plt.scatter(x,y)\n",
    "plt.title(\"Graphics Card vs Price\")\n",
    "plt.xlabel('GPU Details (GB)')\n",
    "plt.ylabel('Price')"
   ]
  },
  {
   "cell_type": "code",
   "execution_count": 24,
   "metadata": {},
   "outputs": [
    {
     "data": {
      "text/plain": [
       "<matplotlib.axes._subplots.AxesSubplot at 0x18a134d63c8>"
      ]
     },
     "execution_count": 24,
     "metadata": {},
     "output_type": "execute_result"
    },
    {
     "data": {
      "image/png": "[encoded data removed]",
      "text/plain": [
       "<Figure size 720x360 with 1 Axes>"
      ]
     },
     "metadata": {
      "needs_background": "light"
     },
     "output_type": "display_data"
    }
   ],
   "source": [
    "plt.subplots(figsize=(10,5))\n",
    "sns.countplot(x=\"Company Name\", data=df, hue='Storage Type')"
   ]
  },
  {
   "cell_type": "code",
   "execution_count": 25,
   "metadata": {},
   "outputs": [
    {
     "data": {
      "text/plain": [
       "<matplotlib.axes._subplots.AxesSubplot at 0x18a135976c8>"
      ]
     },
     "execution_count": 25,
     "metadata": {},
     "output_type": "execute_result"
    },
    {
     "data": {
      "image/png": "[encoded data removed]",
      "text/plain": [
       "<Figure size 720x360 with 1 Axes>"
      ]
     },
     "metadata": {
      "needs_background": "light"
     },
     "output_type": "display_data"
    }
   ],
   "source": [
    "plt.subplots(figsize=(10,5))\n",
    "sns.countplot(x=\"Company Name\", data=df, hue='RAM (GB)')"
   ]
  },
  {
   "cell_type": "code",
   "execution_count": 26,
   "metadata": {},
   "outputs": [
    {
     "data": {
      "text/plain": [
       "<matplotlib.axes._subplots.AxesSubplot at 0x18a137b9f08>"
      ]
     },
     "execution_count": 26,
     "metadata": {},
     "output_type": "execute_result"
    },
    {
     "data": {
      "image/png": "[encoded data removed]",
      "text/plain": [
       "<Figure size 720x360 with 1 Axes>"
      ]
     },
     "metadata": {
      "needs_background": "light"
     },
     "output_type": "display_data"
    }
   ],
   "source": [
    "plt.subplots(figsize=(10,5))\n",
    "sns.countplot(x=\"Company Name\", data=df, hue='Screen Size (inches)')"
   ]
  },
  {
   "cell_type": "code",
   "execution_count": 27,
   "metadata": {},
   "outputs": [
    {
     "data": {
      "text/plain": [
       "<matplotlib.axes._subplots.AxesSubplot at 0x18a138b4dc8>"
      ]
     },
     "execution_count": 27,
     "metadata": {},
     "output_type": "execute_result"
    },
    {
     "data": {
      "image/png": "[encoded data removed]",
      "text/plain": [
       "<Figure size 432x288 with 1 Axes>"
      ]
     },
     "metadata": {
      "needs_background": "light"
     },
     "output_type": "display_data"
    }
   ],
   "source": [
    "sns.countplot(x=\"Storage Type\", data=df, hue='RAM (GB)')"
   ]
  },
  {
   "cell_type": "code",
   "execution_count": 28,
   "metadata": {},
   "outputs": [
    {
     "data": {
      "text/plain": [
       "<matplotlib.axes._subplots.AxesSubplot at 0x18a137b9148>"
      ]
     },
     "execution_count": 28,
     "metadata": {},
     "output_type": "execute_result"
    },
    {
     "data": {
      "image/png": "[encoded data removed]",
      "text/plain": [
       "<Figure size 432x288 with 1 Axes>"
      ]
     },
     "metadata": {
      "needs_background": "light"
     },
     "output_type": "display_data"
    }
   ],
   "source": [
    "sns.countplot(x=\"Storage Type\", data=df, hue='Graphics Card (GB)')"
   ]
  },
  {
   "cell_type": "code",
   "execution_count": 29,
   "metadata": {},
   "outputs": [
    {
     "data": {
      "text/plain": [
       "<seaborn.axisgrid.FacetGrid at 0x18a11526d08>"
      ]
     },
     "execution_count": 29,
     "metadata": {},
     "output_type": "execute_result"
    },
    {
     "data": {
      "image/png": "[encoded data removed]",
      "text/plain": [
       "<Figure size 360x360 with 1 Axes>"
      ]
     },
     "metadata": {},
     "output_type": "display_data"
    }
   ],
   "source": [
    "sns.set_style('darkgrid')\n",
    "sns.catplot(x=\"Storage Type\",y=\"Price (INR)\",data=df)"
   ]
  },
  {
   "cell_type": "code",
   "execution_count": 30,
   "metadata": {},
   "outputs": [
    {
     "data": {
      "text/plain": [
       "<seaborn.axisgrid.FacetGrid at 0x18a139330c8>"
      ]
     },
     "execution_count": 30,
     "metadata": {},
     "output_type": "execute_result"
    },
    {
     "data": {
      "image/png": "[encoded data removed]",
      "text/plain": [
       "<Figure size 459x360 with 1 Axes>"
      ]
     },
     "metadata": {},
     "output_type": "display_data"
    }
   ],
   "source": [
    "sns.lmplot(x=\"RAM (GB)\", y=\"Price (INR)\", hue=\"Processor Company\",data=df)"
   ]
  },
  {
   "cell_type": "code",
   "execution_count": 31,
   "metadata": {},
   "outputs": [
    {
     "data": {
      "text/plain": [
       "<matplotlib.axes._subplots.AxesSubplot at 0x18a13b1b848>"
      ]
     },
     "execution_count": 31,
     "metadata": {},
     "output_type": "execute_result"
    },
    {
     "data": {
      "image/png": "[encoded data removed]",
      "text/plain": [
       "<Figure size 432x288 with 2 Axes>"
      ]
     },
     "metadata": {},
     "output_type": "display_data"
    }
   ],
   "source": [
    "sns.heatmap(df.corr())"
   ]
  },
  {
   "cell_type": "code",
   "execution_count": 32,
   "metadata": {},
   "outputs": [
    {
     "data": {
      "text/plain": [
       "<seaborn.axisgrid.FacetGrid at 0x18a13bc6688>"
      ]
     },
     "execution_count": 32,
     "metadata": {},
     "output_type": "execute_result"
    },
    {
     "data": {
      "image/png": "[encoded data removed]",
      "text/plain": [
       "<Figure size 462.25x360 with 1 Axes>"
      ]
     },
     "metadata": {},
     "output_type": "display_data"
    }
   ],
   "source": [
    "sns.relplot(data=df, x=\"Screen Size (inches)\", y=\"Price (INR)\", hue=\"Price Category\", kind=\"line\")"
   ]
  },
  {
   "cell_type": "code",
   "execution_count": 33,
   "metadata": {},
   "outputs": [
    {
     "data": {
      "text/plain": [
       "<seaborn.axisgrid.FacetGrid at 0x18a13c84c48>"
      ]
     },
     "execution_count": 33,
     "metadata": {},
     "output_type": "execute_result"
    },
    {
     "data": {
      "image/png": "[encoded data removed]",
      "text/plain": [
       "<Figure size 448.625x360 with 1 Axes>"
      ]
     },
     "metadata": {},
     "output_type": "display_data"
    }
   ],
   "source": [
    "sns.relplot(data=df, x=\"RAM (GB)\", y=\"Price (INR)\", hue=\"OS\", kind=\"line\")"
   ]
  },
  {
   "cell_type": "code",
   "execution_count": 34,
   "metadata": {},
   "outputs": [
    {
     "data": {
      "text/plain": [
       "<seaborn.axisgrid.FacetGrid at 0x18a13bccec8>"
      ]
     },
     "execution_count": 34,
     "metadata": {},
     "output_type": "execute_result"
    },
    {
     "data": {
      "image/png": "[encoded data removed]",
      "text/plain": [
       "<Figure size 612x1080 with 3 Axes>"
      ]
     },
     "metadata": {},
     "output_type": "display_data"
    }
   ],
   "source": [
    "sns.lmplot(y=\"Weight (kg)\", x=\"Price (INR)\",row=\"Price Category\", data=df,aspect=1.7)"
   ]
  },
  {
   "cell_type": "code",
   "execution_count": 35,
   "metadata": {},
   "outputs": [
    {
     "name": "stderr",
     "output_type": "stream",
     "text": [
      "C:\\Users\\sarth\\anaconda3\\lib\\site-packages\\seaborn\\categorical.py:1326: RuntimeWarning: invalid value encountered in less\n",
      "  off_low = points < low_gutter\n",
      "C:\\Users\\sarth\\anaconda3\\lib\\site-packages\\seaborn\\categorical.py:1330: RuntimeWarning: invalid value encountered in greater\n",
      "  off_high = points > high_gutter\n"
     ]
    },
    {
     "data": {
      "text/plain": [
       "<seaborn.axisgrid.FacetGrid at 0x18a1506cb48>"
      ]
     },
     "execution_count": 35,
     "metadata": {},
     "output_type": "execute_result"
    },
    {
     "data": {
      "image/png": "[encoded data removed]",
      "text/plain": [
       "<Figure size 875.625x360 with 1 Axes>"
      ]
     },
     "metadata": {},
     "output_type": "display_data"
    }
   ],
   "source": [
    "sns.catplot(x=\"RAM (GB)\", y=\"Price (INR)\", hue=\"Storage Type\", kind=\"swarm\", data=df,aspect=2.2)"
   ]
  },
  {
   "cell_type": "code",
   "execution_count": 36,
   "metadata": {},
   "outputs": [
    {
     "data": {
      "text/plain": [
       "<matplotlib.axes._subplots.AxesSubplot at 0x18a150643c8>"
      ]
     },
     "execution_count": 36,
     "metadata": {},
     "output_type": "execute_result"
    },
    {
     "data": {
      "image/png": "[encoded data removed]",
      "text/plain": [
       "<Figure size 432x288 with 1 Axes>"
      ]
     },
     "metadata": {},
     "output_type": "display_data"
    }
   ],
   "source": [
    "sns.distplot(df['Price (INR)'],kde=True,bins=10,hist=False)"
   ]
  },
  {
   "cell_type": "code",
   "execution_count": 37,
   "metadata": {},
   "outputs": [
    {
     "data": {
      "text/plain": [
       "<seaborn.axisgrid.FacetGrid at 0x18a1568b9c8>"
      ]
     },
     "execution_count": 37,
     "metadata": {},
     "output_type": "execute_result"
    },
    {
     "data": {
      "image/png": "[encoded data removed]",
      "text/plain": [
       "<Figure size 1176.5x360 with 1 Axes>"
      ]
     },
     "metadata": {},
     "output_type": "display_data"
    }
   ],
   "source": [
    "sns.catplot(x=\"Storage Size (GB)\", y=\"Price (INR)\", hue=\"Graphics Card (GB)\",kind = \"bar\", data=df, aspect=3, ci=None)"
   ]
  },
  {
   "cell_type": "code",
   "execution_count": null,
   "metadata": {},
   "outputs": [],
   "source": []
  }
 ],
 "metadata": {
  "kernelspec": {
   "display_name": "Python 3",
   "language": "python",
   "name": "python3"
  },
  "language_info": {
   "codemirror_mode": {
    "name": "ipython",
    "version": 3
   },
   "file_extension": ".py",
   "mimetype": "text/x-python",
   "name": "python",
   "nbconvert_exporter": "python",
   "pygments_lexer": "ipython3",
   "version": "3.7.6"
  }
 },
 "nbformat": 4,
 "nbformat_minor": 4
}
