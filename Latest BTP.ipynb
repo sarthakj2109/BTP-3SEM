{
 "cells": [
  {
   "cell_type": "code",
   "execution_count": 1,
   "metadata": {},
   "outputs": [],
   "source": [
    "import pandas as pd\n",
    "import numpy as np\n",
    "import seaborn as sns\n",
    "import matplotlib.pyplot as plt"
   ]
  },
  {
   "cell_type": "code",
   "execution_count": 28,
   "metadata": {},
   "outputs": [
    {
     "data": {
      "text/html": [
       "<div>\n",
       "<style scoped>\n",
       "    .dataframe tbody tr th:only-of-type {\n",
       "        vertical-align: middle;\n",
       "    }\n",
       "\n",
       "    .dataframe tbody tr th {\n",
       "        vertical-align: top;\n",
       "    }\n",
       "\n",
       "    .dataframe thead th {\n",
       "        text-align: right;\n",
       "    }\n",
       "</style>\n",
       "<table border=\"1\" class=\"dataframe\">\n",
       "  <thead>\n",
       "    <tr style=\"text-align: right;\">\n",
       "      <th></th>\n",
       "      <th>Company Name</th>\n",
       "      <th>Laptop Name</th>\n",
       "      <th>RAM (GB)</th>\n",
       "      <th>Storage Type</th>\n",
       "      <th>Storage Size (GB)</th>\n",
       "      <th>Processor Company</th>\n",
       "      <th>Processor Details</th>\n",
       "      <th>Graphics Card (GB)</th>\n",
       "      <th>GPU Details</th>\n",
       "      <th>Weight (kg)</th>\n",
       "      <th>Screen Size (inches)</th>\n",
       "      <th>OS</th>\n",
       "      <th>Laptop Type</th>\n",
       "      <th>Price (INR)</th>\n",
       "    </tr>\n",
       "  </thead>\n",
       "  <tbody>\n",
       "    <tr>\n",
       "      <th>0</th>\n",
       "      <td>Dell</td>\n",
       "      <td>New Inspiron 14 5490</td>\n",
       "      <td>8</td>\n",
       "      <td>SSD</td>\n",
       "      <td>512</td>\n",
       "      <td>Intel</td>\n",
       "      <td>10th Gen i5</td>\n",
       "      <td>Integrated</td>\n",
       "      <td>Intel UHD Graphics</td>\n",
       "      <td>1.64</td>\n",
       "      <td>14.0</td>\n",
       "      <td>Windows</td>\n",
       "      <td>Notebook</td>\n",
       "      <td>62990</td>\n",
       "    </tr>\n",
       "    <tr>\n",
       "      <th>1</th>\n",
       "      <td>Dell</td>\n",
       "      <td>New Inspiron 15 5590</td>\n",
       "      <td>8</td>\n",
       "      <td>SSD</td>\n",
       "      <td>512</td>\n",
       "      <td>Intel</td>\n",
       "      <td>10th Gen i5</td>\n",
       "      <td>Integrated</td>\n",
       "      <td>Intel UHD Graphics</td>\n",
       "      <td>1.64</td>\n",
       "      <td>15.6</td>\n",
       "      <td>Windows</td>\n",
       "      <td>Notebook</td>\n",
       "      <td>63990</td>\n",
       "    </tr>\n",
       "    <tr>\n",
       "      <th>2</th>\n",
       "      <td>Dell</td>\n",
       "      <td>New Inspiron 14 5490</td>\n",
       "      <td>8</td>\n",
       "      <td>SSD</td>\n",
       "      <td>512</td>\n",
       "      <td>Intel</td>\n",
       "      <td>10th Gen i5</td>\n",
       "      <td>2</td>\n",
       "      <td>NVIDIA GeForce MX250</td>\n",
       "      <td>1.64</td>\n",
       "      <td>14.0</td>\n",
       "      <td>Windows</td>\n",
       "      <td>Notebook</td>\n",
       "      <td>67990</td>\n",
       "    </tr>\n",
       "    <tr>\n",
       "      <th>3</th>\n",
       "      <td>Dell</td>\n",
       "      <td>New Inspiron 15 5590</td>\n",
       "      <td>8</td>\n",
       "      <td>SSD</td>\n",
       "      <td>512</td>\n",
       "      <td>Intel</td>\n",
       "      <td>10th Gen i5</td>\n",
       "      <td>2</td>\n",
       "      <td>NVIDIA GeForce MX250</td>\n",
       "      <td>1.64</td>\n",
       "      <td>15.6</td>\n",
       "      <td>Windows</td>\n",
       "      <td>Notebook</td>\n",
       "      <td>68990</td>\n",
       "    </tr>\n",
       "    <tr>\n",
       "      <th>4</th>\n",
       "      <td>Dell</td>\n",
       "      <td>New Inspiron 15 7501</td>\n",
       "      <td>8</td>\n",
       "      <td>SSD</td>\n",
       "      <td>512</td>\n",
       "      <td>Intel</td>\n",
       "      <td>10th Gen i5</td>\n",
       "      <td>4</td>\n",
       "      <td>NVIDIA GeForce GTX 1650</td>\n",
       "      <td>1.64</td>\n",
       "      <td>15.6</td>\n",
       "      <td>Windows</td>\n",
       "      <td>Notebook</td>\n",
       "      <td>91990</td>\n",
       "    </tr>\n",
       "    <tr>\n",
       "      <th>5</th>\n",
       "      <td>Dell</td>\n",
       "      <td>New Inspiron 15 7501</td>\n",
       "      <td>8</td>\n",
       "      <td>SSD</td>\n",
       "      <td>512</td>\n",
       "      <td>Intel</td>\n",
       "      <td>10th Gen i7</td>\n",
       "      <td>4</td>\n",
       "      <td>NVIDIA GeForce GTX 1650</td>\n",
       "      <td>1.64</td>\n",
       "      <td>15.6</td>\n",
       "      <td>Windows</td>\n",
       "      <td>Notebook</td>\n",
       "      <td>115990</td>\n",
       "    </tr>\n",
       "    <tr>\n",
       "      <th>6</th>\n",
       "      <td>Dell</td>\n",
       "      <td>New Inspiron 15 7501</td>\n",
       "      <td>16</td>\n",
       "      <td>SSD</td>\n",
       "      <td>1024</td>\n",
       "      <td>Intel</td>\n",
       "      <td>10th Gen i7</td>\n",
       "      <td>4</td>\n",
       "      <td>NVIDIA GeForce GTX 1650</td>\n",
       "      <td>1.64</td>\n",
       "      <td>15.6</td>\n",
       "      <td>Windows</td>\n",
       "      <td>Notebook</td>\n",
       "      <td>129990</td>\n",
       "    </tr>\n",
       "    <tr>\n",
       "      <th>7</th>\n",
       "      <td>Dell</td>\n",
       "      <td>New Vostro 15 3590</td>\n",
       "      <td>4</td>\n",
       "      <td>HDD</td>\n",
       "      <td>1024</td>\n",
       "      <td>Intel</td>\n",
       "      <td>10th Gen i3</td>\n",
       "      <td>Integrated</td>\n",
       "      <td>Intel UHD Graphics</td>\n",
       "      <td>2.17</td>\n",
       "      <td>15.6</td>\n",
       "      <td>Windows</td>\n",
       "      <td>Notebook</td>\n",
       "      <td>35990</td>\n",
       "    </tr>\n",
       "    <tr>\n",
       "      <th>8</th>\n",
       "      <td>Dell</td>\n",
       "      <td>New Vostro 15 3590</td>\n",
       "      <td>4</td>\n",
       "      <td>SSD</td>\n",
       "      <td>256</td>\n",
       "      <td>Intel</td>\n",
       "      <td>10th Gen i3</td>\n",
       "      <td>Integrated</td>\n",
       "      <td>Intel UHD Graphics</td>\n",
       "      <td>2.17</td>\n",
       "      <td>15.6</td>\n",
       "      <td>Windows</td>\n",
       "      <td>Notebook</td>\n",
       "      <td>38490</td>\n",
       "    </tr>\n",
       "  </tbody>\n",
       "</table>\n",
       "</div>"
      ],
      "text/plain": [
       "  Company Name           Laptop Name  RAM (GB) Storage Type Storage Size (GB)  \\\n",
       "0         Dell  New Inspiron 14 5490         8          SSD               512   \n",
       "1         Dell  New Inspiron 15 5590         8          SSD               512   \n",
       "2         Dell  New Inspiron 14 5490         8          SSD               512   \n",
       "3         Dell  New Inspiron 15 5590         8          SSD               512   \n",
       "4         Dell  New Inspiron 15 7501         8          SSD               512   \n",
       "5         Dell  New Inspiron 15 7501         8          SSD               512   \n",
       "6         Dell  New Inspiron 15 7501        16          SSD              1024   \n",
       "7         Dell    New Vostro 15 3590         4          HDD              1024   \n",
       "8         Dell    New Vostro 15 3590         4          SSD               256   \n",
       "\n",
       "  Processor Company Processor Details Graphics Card (GB)  \\\n",
       "0             Intel       10th Gen i5         Integrated   \n",
       "1             Intel       10th Gen i5         Integrated   \n",
       "2             Intel       10th Gen i5                  2   \n",
       "3             Intel       10th Gen i5                  2   \n",
       "4             Intel       10th Gen i5                  4   \n",
       "5             Intel       10th Gen i7                  4   \n",
       "6             Intel       10th Gen i7                  4   \n",
       "7             Intel       10th Gen i3         Integrated   \n",
       "8             Intel       10th Gen i3         Integrated   \n",
       "\n",
       "               GPU Details  Weight (kg)  Screen Size (inches)       OS  \\\n",
       "0       Intel UHD Graphics         1.64                  14.0  Windows   \n",
       "1       Intel UHD Graphics         1.64                  15.6  Windows   \n",
       "2     NVIDIA GeForce MX250         1.64                  14.0  Windows   \n",
       "3     NVIDIA GeForce MX250         1.64                  15.6  Windows   \n",
       "4  NVIDIA GeForce GTX 1650         1.64                  15.6  Windows   \n",
       "5  NVIDIA GeForce GTX 1650         1.64                  15.6  Windows   \n",
       "6  NVIDIA GeForce GTX 1650         1.64                  15.6  Windows   \n",
       "7       Intel UHD Graphics         2.17                  15.6  Windows   \n",
       "8       Intel UHD Graphics         2.17                  15.6  Windows   \n",
       "\n",
       "  Laptop Type  Price (INR)  \n",
       "0    Notebook        62990  \n",
       "1    Notebook        63990  \n",
       "2    Notebook        67990  \n",
       "3    Notebook        68990  \n",
       "4    Notebook        91990  \n",
       "5    Notebook       115990  \n",
       "6    Notebook       129990  \n",
       "7    Notebook        35990  \n",
       "8    Notebook        38490  "
      ]
     },
     "execution_count": 28,
     "metadata": {},
     "output_type": "execute_result"
    }
   ],
   "source": [
    "url=\"https://raw.githubusercontent.com/sarthakj2109/BTP-3SEM/master/Final%20Updated%20Laptop%20Dataset.csv\"\n",
    "df=pd.read_csv(url,encoding=\"unicode_escape\")\n",
    "df.head(9)"
   ]
  },
  {
   "cell_type": "code",
   "execution_count": 4,
   "metadata": {},
   "outputs": [
    {
     "data": {
      "text/plain": [
       "Company Name            0\n",
       "Laptop Name             0\n",
       "RAM (GB)                0\n",
       "Storage Type            0\n",
       "Storage Size (GB)       0\n",
       "Processor Company       0\n",
       "Processor Details       0\n",
       "Graphics Card (GB)      0\n",
       "GPU Details             0\n",
       "Weight (kg)             0\n",
       "Screen Size (inches)    1\n",
       "OS                      0\n",
       "Laptop Type             0\n",
       "Price (INR)             0\n",
       "dtype: int64"
      ]
     },
     "execution_count": 4,
     "metadata": {},
     "output_type": "execute_result"
    }
   ],
   "source": [
    "df.isnull().sum(axis = 0)"
   ]
  },
  {
   "cell_type": "code",
   "execution_count": 30,
   "metadata": {},
   "outputs": [],
   "source": [
    "df['Screen Size (inches)'].replace(np.nan,15.6,inplace=True)"
   ]
  },
  {
   "cell_type": "code",
   "execution_count": 31,
   "metadata": {},
   "outputs": [
    {
     "data": {
      "text/plain": [
       "Company Name            0\n",
       "Laptop Name             0\n",
       "RAM (GB)                0\n",
       "Storage Type            0\n",
       "Storage Size (GB)       0\n",
       "Processor Company       0\n",
       "Processor Details       0\n",
       "Graphics Card (GB)      0\n",
       "GPU Details             0\n",
       "Weight (kg)             0\n",
       "Screen Size (inches)    0\n",
       "OS                      0\n",
       "Laptop Type             0\n",
       "Price (INR)             0\n",
       "dtype: int64"
      ]
     },
     "execution_count": 31,
     "metadata": {},
     "output_type": "execute_result"
    }
   ],
   "source": [
    "df.isnull().sum(axis = 0)"
   ]
  },
  {
   "cell_type": "code",
   "execution_count": 32,
   "metadata": {},
   "outputs": [
    {
     "data": {
      "text/plain": [
       "Company Name             object\n",
       "Laptop Name              object\n",
       "RAM (GB)                  int64\n",
       "Storage Type             object\n",
       "Storage Size (GB)        object\n",
       "Processor Company        object\n",
       "Processor Details        object\n",
       "Graphics Card (GB)       object\n",
       "GPU Details              object\n",
       "Weight (kg)             float64\n",
       "Screen Size (inches)    float64\n",
       "OS                       object\n",
       "Laptop Type              object\n",
       "Price (INR)               int64\n",
       "dtype: object"
      ]
     },
     "execution_count": 32,
     "metadata": {},
     "output_type": "execute_result"
    }
   ],
   "source": [
    "df.dtypes"
   ]
  },
  {
   "cell_type": "code",
   "execution_count": 33,
   "metadata": {},
   "outputs": [
    {
     "data": {
      "text/html": [
       "<div>\n",
       "<style scoped>\n",
       "    .dataframe tbody tr th:only-of-type {\n",
       "        vertical-align: middle;\n",
       "    }\n",
       "\n",
       "    .dataframe tbody tr th {\n",
       "        vertical-align: top;\n",
       "    }\n",
       "\n",
       "    .dataframe thead th {\n",
       "        text-align: right;\n",
       "    }\n",
       "</style>\n",
       "<table border=\"1\" class=\"dataframe\">\n",
       "  <thead>\n",
       "    <tr style=\"text-align: right;\">\n",
       "      <th></th>\n",
       "      <th>Company Name</th>\n",
       "      <th>Laptop Name</th>\n",
       "      <th>RAM (GB)</th>\n",
       "      <th>Storage Type</th>\n",
       "      <th>Storage Size (GB)</th>\n",
       "      <th>Processor Company</th>\n",
       "      <th>Processor Details</th>\n",
       "      <th>Graphics Card (GB)</th>\n",
       "      <th>GPU Details</th>\n",
       "      <th>Weight (kg)</th>\n",
       "      <th>Screen Size (inches)</th>\n",
       "      <th>OS</th>\n",
       "      <th>Laptop Type</th>\n",
       "      <th>Price (INR)</th>\n",
       "    </tr>\n",
       "  </thead>\n",
       "  <tbody>\n",
       "    <tr>\n",
       "      <th>0</th>\n",
       "      <td>False</td>\n",
       "      <td>False</td>\n",
       "      <td>False</td>\n",
       "      <td>False</td>\n",
       "      <td>False</td>\n",
       "      <td>False</td>\n",
       "      <td>False</td>\n",
       "      <td>False</td>\n",
       "      <td>False</td>\n",
       "      <td>False</td>\n",
       "      <td>False</td>\n",
       "      <td>False</td>\n",
       "      <td>False</td>\n",
       "      <td>False</td>\n",
       "    </tr>\n",
       "    <tr>\n",
       "      <th>1</th>\n",
       "      <td>False</td>\n",
       "      <td>False</td>\n",
       "      <td>False</td>\n",
       "      <td>False</td>\n",
       "      <td>False</td>\n",
       "      <td>False</td>\n",
       "      <td>False</td>\n",
       "      <td>False</td>\n",
       "      <td>False</td>\n",
       "      <td>False</td>\n",
       "      <td>False</td>\n",
       "      <td>False</td>\n",
       "      <td>False</td>\n",
       "      <td>False</td>\n",
       "    </tr>\n",
       "    <tr>\n",
       "      <th>2</th>\n",
       "      <td>False</td>\n",
       "      <td>False</td>\n",
       "      <td>False</td>\n",
       "      <td>False</td>\n",
       "      <td>False</td>\n",
       "      <td>False</td>\n",
       "      <td>False</td>\n",
       "      <td>False</td>\n",
       "      <td>False</td>\n",
       "      <td>False</td>\n",
       "      <td>False</td>\n",
       "      <td>False</td>\n",
       "      <td>False</td>\n",
       "      <td>False</td>\n",
       "    </tr>\n",
       "    <tr>\n",
       "      <th>3</th>\n",
       "      <td>False</td>\n",
       "      <td>False</td>\n",
       "      <td>False</td>\n",
       "      <td>False</td>\n",
       "      <td>False</td>\n",
       "      <td>False</td>\n",
       "      <td>False</td>\n",
       "      <td>False</td>\n",
       "      <td>False</td>\n",
       "      <td>False</td>\n",
       "      <td>False</td>\n",
       "      <td>False</td>\n",
       "      <td>False</td>\n",
       "      <td>False</td>\n",
       "    </tr>\n",
       "    <tr>\n",
       "      <th>4</th>\n",
       "      <td>False</td>\n",
       "      <td>False</td>\n",
       "      <td>False</td>\n",
       "      <td>False</td>\n",
       "      <td>False</td>\n",
       "      <td>False</td>\n",
       "      <td>False</td>\n",
       "      <td>False</td>\n",
       "      <td>False</td>\n",
       "      <td>False</td>\n",
       "      <td>False</td>\n",
       "      <td>False</td>\n",
       "      <td>False</td>\n",
       "      <td>False</td>\n",
       "    </tr>\n",
       "    <tr>\n",
       "      <th>...</th>\n",
       "      <td>...</td>\n",
       "      <td>...</td>\n",
       "      <td>...</td>\n",
       "      <td>...</td>\n",
       "      <td>...</td>\n",
       "      <td>...</td>\n",
       "      <td>...</td>\n",
       "      <td>...</td>\n",
       "      <td>...</td>\n",
       "      <td>...</td>\n",
       "      <td>...</td>\n",
       "      <td>...</td>\n",
       "      <td>...</td>\n",
       "      <td>...</td>\n",
       "    </tr>\n",
       "    <tr>\n",
       "      <th>266</th>\n",
       "      <td>False</td>\n",
       "      <td>False</td>\n",
       "      <td>False</td>\n",
       "      <td>False</td>\n",
       "      <td>False</td>\n",
       "      <td>False</td>\n",
       "      <td>False</td>\n",
       "      <td>False</td>\n",
       "      <td>False</td>\n",
       "      <td>False</td>\n",
       "      <td>False</td>\n",
       "      <td>False</td>\n",
       "      <td>False</td>\n",
       "      <td>False</td>\n",
       "    </tr>\n",
       "    <tr>\n",
       "      <th>267</th>\n",
       "      <td>False</td>\n",
       "      <td>False</td>\n",
       "      <td>False</td>\n",
       "      <td>False</td>\n",
       "      <td>False</td>\n",
       "      <td>False</td>\n",
       "      <td>False</td>\n",
       "      <td>False</td>\n",
       "      <td>False</td>\n",
       "      <td>False</td>\n",
       "      <td>False</td>\n",
       "      <td>False</td>\n",
       "      <td>False</td>\n",
       "      <td>False</td>\n",
       "    </tr>\n",
       "    <tr>\n",
       "      <th>268</th>\n",
       "      <td>False</td>\n",
       "      <td>False</td>\n",
       "      <td>False</td>\n",
       "      <td>False</td>\n",
       "      <td>False</td>\n",
       "      <td>False</td>\n",
       "      <td>False</td>\n",
       "      <td>False</td>\n",
       "      <td>False</td>\n",
       "      <td>False</td>\n",
       "      <td>False</td>\n",
       "      <td>False</td>\n",
       "      <td>False</td>\n",
       "      <td>False</td>\n",
       "    </tr>\n",
       "    <tr>\n",
       "      <th>269</th>\n",
       "      <td>False</td>\n",
       "      <td>False</td>\n",
       "      <td>False</td>\n",
       "      <td>False</td>\n",
       "      <td>False</td>\n",
       "      <td>False</td>\n",
       "      <td>False</td>\n",
       "      <td>False</td>\n",
       "      <td>False</td>\n",
       "      <td>False</td>\n",
       "      <td>False</td>\n",
       "      <td>False</td>\n",
       "      <td>False</td>\n",
       "      <td>False</td>\n",
       "    </tr>\n",
       "    <tr>\n",
       "      <th>270</th>\n",
       "      <td>False</td>\n",
       "      <td>False</td>\n",
       "      <td>False</td>\n",
       "      <td>False</td>\n",
       "      <td>False</td>\n",
       "      <td>False</td>\n",
       "      <td>False</td>\n",
       "      <td>False</td>\n",
       "      <td>False</td>\n",
       "      <td>False</td>\n",
       "      <td>False</td>\n",
       "      <td>False</td>\n",
       "      <td>False</td>\n",
       "      <td>False</td>\n",
       "    </tr>\n",
       "  </tbody>\n",
       "</table>\n",
       "<p>271 rows × 14 columns</p>\n",
       "</div>"
      ],
      "text/plain": [
       "     Company Name  Laptop Name  RAM (GB)  Storage Type  Storage Size (GB)  \\\n",
       "0           False        False     False         False              False   \n",
       "1           False        False     False         False              False   \n",
       "2           False        False     False         False              False   \n",
       "3           False        False     False         False              False   \n",
       "4           False        False     False         False              False   \n",
       "..            ...          ...       ...           ...                ...   \n",
       "266         False        False     False         False              False   \n",
       "267         False        False     False         False              False   \n",
       "268         False        False     False         False              False   \n",
       "269         False        False     False         False              False   \n",
       "270         False        False     False         False              False   \n",
       "\n",
       "     Processor Company  Processor Details  Graphics Card (GB)  GPU Details  \\\n",
       "0                False              False               False        False   \n",
       "1                False              False               False        False   \n",
       "2                False              False               False        False   \n",
       "3                False              False               False        False   \n",
       "4                False              False               False        False   \n",
       "..                 ...                ...                 ...          ...   \n",
       "266              False              False               False        False   \n",
       "267              False              False               False        False   \n",
       "268              False              False               False        False   \n",
       "269              False              False               False        False   \n",
       "270              False              False               False        False   \n",
       "\n",
       "     Weight (kg)  Screen Size (inches)     OS  Laptop Type  Price (INR)  \n",
       "0          False                 False  False        False        False  \n",
       "1          False                 False  False        False        False  \n",
       "2          False                 False  False        False        False  \n",
       "3          False                 False  False        False        False  \n",
       "4          False                 False  False        False        False  \n",
       "..           ...                   ...    ...          ...          ...  \n",
       "266        False                 False  False        False        False  \n",
       "267        False                 False  False        False        False  \n",
       "268        False                 False  False        False        False  \n",
       "269        False                 False  False        False        False  \n",
       "270        False                 False  False        False        False  \n",
       "\n",
       "[271 rows x 14 columns]"
      ]
     },
     "execution_count": 33,
     "metadata": {},
     "output_type": "execute_result"
    }
   ],
   "source": [
    "df.isnull()"
   ]
  },
  {
   "cell_type": "code",
   "execution_count": 34,
   "metadata": {},
   "outputs": [
    {
     "name": "stdout",
     "output_type": "stream",
     "text": [
      "Normal Price Range =  26374.0 - 124249.0\n",
      "Costly Price Range =  124249.0 - 222124.0\n",
      "Very Costly Price Range =  222124.0 - 319999.0\n"
     ]
    },
    {
     "data": {
      "text/html": [
       "<div>\n",
       "<style scoped>\n",
       "    .dataframe tbody tr th:only-of-type {\n",
       "        vertical-align: middle;\n",
       "    }\n",
       "\n",
       "    .dataframe tbody tr th {\n",
       "        vertical-align: top;\n",
       "    }\n",
       "\n",
       "    .dataframe thead th {\n",
       "        text-align: right;\n",
       "    }\n",
       "</style>\n",
       "<table border=\"1\" class=\"dataframe\">\n",
       "  <thead>\n",
       "    <tr style=\"text-align: right;\">\n",
       "      <th></th>\n",
       "      <th>Company Name</th>\n",
       "      <th>Laptop Name</th>\n",
       "      <th>RAM (GB)</th>\n",
       "      <th>Storage Type</th>\n",
       "      <th>Storage Size (GB)</th>\n",
       "      <th>Processor Company</th>\n",
       "      <th>Processor Details</th>\n",
       "      <th>Graphics Card (GB)</th>\n",
       "      <th>GPU Details</th>\n",
       "      <th>Weight (kg)</th>\n",
       "      <th>Screen Size (inches)</th>\n",
       "      <th>OS</th>\n",
       "      <th>Laptop Type</th>\n",
       "      <th>Price (INR)</th>\n",
       "      <th>Price Category</th>\n",
       "    </tr>\n",
       "  </thead>\n",
       "  <tbody>\n",
       "    <tr>\n",
       "      <th>262</th>\n",
       "      <td>Apple</td>\n",
       "      <td>MacBook Air</td>\n",
       "      <td>8</td>\n",
       "      <td>SSD</td>\n",
       "      <td>256</td>\n",
       "      <td>Intel</td>\n",
       "      <td>10th Gen i3</td>\n",
       "      <td>Integrated</td>\n",
       "      <td>Intel Iris Plus Graphics</td>\n",
       "      <td>1.3</td>\n",
       "      <td>13.3</td>\n",
       "      <td>macOS</td>\n",
       "      <td>Ultrabook</td>\n",
       "      <td>92990</td>\n",
       "      <td>Normal</td>\n",
       "    </tr>\n",
       "    <tr>\n",
       "      <th>263</th>\n",
       "      <td>Apple</td>\n",
       "      <td>MacBook Air</td>\n",
       "      <td>8</td>\n",
       "      <td>SSD</td>\n",
       "      <td>512</td>\n",
       "      <td>Intel</td>\n",
       "      <td>10th Gen i5</td>\n",
       "      <td>Integrated</td>\n",
       "      <td>Intel Iris Plus Graphics</td>\n",
       "      <td>1.3</td>\n",
       "      <td>13.3</td>\n",
       "      <td>macOS</td>\n",
       "      <td>Ultrabook</td>\n",
       "      <td>122990</td>\n",
       "      <td>Normal</td>\n",
       "    </tr>\n",
       "    <tr>\n",
       "      <th>264</th>\n",
       "      <td>Apple</td>\n",
       "      <td>MacBook Pro</td>\n",
       "      <td>16</td>\n",
       "      <td>SSD</td>\n",
       "      <td>1024</td>\n",
       "      <td>Intel</td>\n",
       "      <td>10th Gen i5</td>\n",
       "      <td>Integrated</td>\n",
       "      <td>Intel Iris Plus 645 Graphics</td>\n",
       "      <td>1.4</td>\n",
       "      <td>13.3</td>\n",
       "      <td>macOS</td>\n",
       "      <td>Ultrabook</td>\n",
       "      <td>194900</td>\n",
       "      <td>Costly</td>\n",
       "    </tr>\n",
       "    <tr>\n",
       "      <th>265</th>\n",
       "      <td>Apple</td>\n",
       "      <td>MacBook Pro</td>\n",
       "      <td>16</td>\n",
       "      <td>SSD</td>\n",
       "      <td>512</td>\n",
       "      <td>Intel</td>\n",
       "      <td>10th Gen i5</td>\n",
       "      <td>Integrated</td>\n",
       "      <td>Intel Iris Plus 645 Graphics</td>\n",
       "      <td>1.4</td>\n",
       "      <td>13.3</td>\n",
       "      <td>macOS</td>\n",
       "      <td>Ultrabook</td>\n",
       "      <td>174900</td>\n",
       "      <td>Costly</td>\n",
       "    </tr>\n",
       "    <tr>\n",
       "      <th>266</th>\n",
       "      <td>Apple</td>\n",
       "      <td>MacBook Pro</td>\n",
       "      <td>16</td>\n",
       "      <td>SSD</td>\n",
       "      <td>1024</td>\n",
       "      <td>Intel</td>\n",
       "      <td>9th Gen i9</td>\n",
       "      <td>4</td>\n",
       "      <td>AMD Radeon Pro 5500M</td>\n",
       "      <td>2.0</td>\n",
       "      <td>16.0</td>\n",
       "      <td>macOS</td>\n",
       "      <td>Ultrabook</td>\n",
       "      <td>234900</td>\n",
       "      <td>Very Costly</td>\n",
       "    </tr>\n",
       "    <tr>\n",
       "      <th>267</th>\n",
       "      <td>Apple</td>\n",
       "      <td>MacBook Pro</td>\n",
       "      <td>16</td>\n",
       "      <td>SSD</td>\n",
       "      <td>512</td>\n",
       "      <td>Intel</td>\n",
       "      <td>9th Gen i7</td>\n",
       "      <td>4</td>\n",
       "      <td>AMD Radeon Pro 5300M</td>\n",
       "      <td>2.0</td>\n",
       "      <td>16.0</td>\n",
       "      <td>macOS</td>\n",
       "      <td>Ultrabook</td>\n",
       "      <td>195900</td>\n",
       "      <td>Costly</td>\n",
       "    </tr>\n",
       "    <tr>\n",
       "      <th>268</th>\n",
       "      <td>Apple</td>\n",
       "      <td>MacBook Pro</td>\n",
       "      <td>8</td>\n",
       "      <td>SSD</td>\n",
       "      <td>128</td>\n",
       "      <td>Intel</td>\n",
       "      <td>8th Gen i5</td>\n",
       "      <td>Integrated</td>\n",
       "      <td>Intel Iris Plus 645 Graphics</td>\n",
       "      <td>1.4</td>\n",
       "      <td>13.3</td>\n",
       "      <td>macOS</td>\n",
       "      <td>Ultrabook</td>\n",
       "      <td>109995</td>\n",
       "      <td>Normal</td>\n",
       "    </tr>\n",
       "    <tr>\n",
       "      <th>269</th>\n",
       "      <td>Apple</td>\n",
       "      <td>MacBook Pro</td>\n",
       "      <td>8</td>\n",
       "      <td>SSD</td>\n",
       "      <td>512</td>\n",
       "      <td>Intel</td>\n",
       "      <td>8th Gen i5</td>\n",
       "      <td>Integrated</td>\n",
       "      <td>Intel Iris Plus 655 Graphics</td>\n",
       "      <td>1.4</td>\n",
       "      <td>13.3</td>\n",
       "      <td>macOS</td>\n",
       "      <td>Ultrabook</td>\n",
       "      <td>148495</td>\n",
       "      <td>Costly</td>\n",
       "    </tr>\n",
       "    <tr>\n",
       "      <th>270</th>\n",
       "      <td>Apple</td>\n",
       "      <td>MacBook Pro</td>\n",
       "      <td>8</td>\n",
       "      <td>SSD</td>\n",
       "      <td>256</td>\n",
       "      <td>Intel</td>\n",
       "      <td>8th Gen i5</td>\n",
       "      <td>Integrated</td>\n",
       "      <td>Intel Iris Plus 640 Graphics</td>\n",
       "      <td>1.4</td>\n",
       "      <td>13.3</td>\n",
       "      <td>macOS</td>\n",
       "      <td>Ultrabook</td>\n",
       "      <td>139495</td>\n",
       "      <td>Costly</td>\n",
       "    </tr>\n",
       "  </tbody>\n",
       "</table>\n",
       "</div>"
      ],
      "text/plain": [
       "    Company Name  Laptop Name  RAM (GB) Storage Type Storage Size (GB)  \\\n",
       "262        Apple  MacBook Air         8          SSD               256   \n",
       "263        Apple  MacBook Air         8          SSD               512   \n",
       "264        Apple  MacBook Pro        16          SSD              1024   \n",
       "265        Apple  MacBook Pro        16          SSD               512   \n",
       "266        Apple  MacBook Pro        16          SSD              1024   \n",
       "267        Apple  MacBook Pro        16          SSD               512   \n",
       "268        Apple  MacBook Pro         8          SSD               128   \n",
       "269        Apple  MacBook Pro         8          SSD               512   \n",
       "270        Apple  MacBook Pro         8          SSD               256   \n",
       "\n",
       "    Processor Company Processor Details Graphics Card (GB)  \\\n",
       "262             Intel       10th Gen i3         Integrated   \n",
       "263             Intel       10th Gen i5         Integrated   \n",
       "264             Intel       10th Gen i5         Integrated   \n",
       "265             Intel       10th Gen i5         Integrated   \n",
       "266             Intel        9th Gen i9                  4   \n",
       "267             Intel        9th Gen i7                  4   \n",
       "268             Intel        8th Gen i5         Integrated   \n",
       "269             Intel        8th Gen i5         Integrated   \n",
       "270             Intel        8th Gen i5         Integrated   \n",
       "\n",
       "                      GPU Details  Weight (kg)  Screen Size (inches)     OS  \\\n",
       "262      Intel Iris Plus Graphics          1.3                  13.3  macOS   \n",
       "263      Intel Iris Plus Graphics          1.3                  13.3  macOS   \n",
       "264  Intel Iris Plus 645 Graphics          1.4                  13.3  macOS   \n",
       "265  Intel Iris Plus 645 Graphics          1.4                  13.3  macOS   \n",
       "266          AMD Radeon Pro 5500M          2.0                  16.0  macOS   \n",
       "267          AMD Radeon Pro 5300M          2.0                  16.0  macOS   \n",
       "268  Intel Iris Plus 645 Graphics          1.4                  13.3  macOS   \n",
       "269  Intel Iris Plus 655 Graphics          1.4                  13.3  macOS   \n",
       "270  Intel Iris Plus 640 Graphics          1.4                  13.3  macOS   \n",
       "\n",
       "    Laptop Type  Price (INR) Price Category  \n",
       "262   Ultrabook        92990         Normal  \n",
       "263   Ultrabook       122990         Normal  \n",
       "264   Ultrabook       194900         Costly  \n",
       "265   Ultrabook       174900         Costly  \n",
       "266   Ultrabook       234900    Very Costly  \n",
       "267   Ultrabook       195900         Costly  \n",
       "268   Ultrabook       109995         Normal  \n",
       "269   Ultrabook       148495         Costly  \n",
       "270   Ultrabook       139495         Costly  "
      ]
     },
     "execution_count": 34,
     "metadata": {},
     "output_type": "execute_result"
    }
   ],
   "source": [
    "bins=np.linspace(min(df[\"Price (INR)\"]),max(df[\"Price (INR)\"]),4)\n",
    "print(\"Normal Price Range = \",bins[0],'-',bins[1])\n",
    "print(\"Costly Price Range = \",bins[1],'-',bins[2])\n",
    "print(\"Very Costly Price Range = \",bins[2],'-',bins[3])\n",
    "gn=[\"Normal\",\"Costly\",\"Very Costly\"]\n",
    "df[\"Price Category\"]=pd.cut(df[\"Price (INR)\"],bins,labels=gn,include_lowest=True)\n",
    "df.tail(9)"
   ]
  },
  {
   "cell_type": "code",
   "execution_count": 35,
   "metadata": {},
   "outputs": [
    {
     "name": "stdout",
     "output_type": "stream",
     "text": [
      "SSD          146\n",
      "HDD           42\n",
      "SSD + HDD     42\n",
      "SSD+HDD       39\n",
      "SDD            1\n",
      "`SSD+HDD       1\n",
      "Name: Storage Type, dtype: int64\n"
     ]
    }
   ],
   "source": [
    "print(df[\"Storage Type\"].value_counts())"
   ]
  },
  {
   "cell_type": "code",
   "execution_count": 36,
   "metadata": {},
   "outputs": [],
   "source": [
    "df[\"Storage Type\"] = df[\"Storage Type\"].replace('SSD + HDD','SSD+HDD')\n",
    "df[\"Storage Type\"] = df[\"Storage Type\"].replace('`SSD+HDD','SSD+HDD')\n",
    "df[\"Storage Type\"] = df[\"Storage Type\"].replace('SDD','SSD')"
   ]
  },
  {
   "cell_type": "code",
   "execution_count": 37,
   "metadata": {},
   "outputs": [
    {
     "name": "stdout",
     "output_type": "stream",
     "text": [
      "SSD        147\n",
      "SSD+HDD     82\n",
      "HDD         42\n",
      "Name: Storage Type, dtype: int64\n"
     ]
    }
   ],
   "source": [
    "print(df[\"Storage Type\"].value_counts())"
   ]
  },
  {
   "cell_type": "code",
   "execution_count": 38,
   "metadata": {},
   "outputs": [
    {
     "name": "stdout",
     "output_type": "stream",
     "text": [
      "15.6    125\n",
      "14.0     80\n",
      "17.3     31\n",
      "13.3     28\n",
      "16.0      2\n",
      "15.0      2\n",
      "18.4      1\n",
      "12.5      1\n",
      "13.5      1\n",
      "Name: Screen Size (inches), dtype: int64\n"
     ]
    }
   ],
   "source": [
    "print(df[\"Screen Size (inches)\"].value_counts())"
   ]
  },
  {
   "cell_type": "code",
   "execution_count": 39,
   "metadata": {},
   "outputs": [
    {
     "name": "stdout",
     "output_type": "stream",
     "text": [
      "15.6    129\n",
      "14.0     80\n",
      "17.3     31\n",
      "13.3     30\n",
      "18.4      1\n",
      "Name: Screen Size (inches), dtype: int64\n"
     ]
    }
   ],
   "source": [
    "df[\"Screen Size (inches)\"] = df[\"Screen Size (inches)\"].replace(15,15.6)\n",
    "df[\"Screen Size (inches)\"] = df[\"Screen Size (inches)\"].replace(12.5,13.3)\n",
    "df[\"Screen Size (inches)\"] = df[\"Screen Size (inches)\"].replace(13.5,13.3)\n",
    "df[\"Screen Size (inches)\"] = df[\"Screen Size (inches)\"].replace(16,15.6)\n",
    "print(df[\"Screen Size (inches)\"].value_counts())"
   ]
  },
  {
   "cell_type": "code",
   "execution_count": 40,
   "metadata": {},
   "outputs": [
    {
     "name": "stdout",
     "output_type": "stream",
     "text": [
      "Intel UHD Graphics              92\n",
      "NVIDIA GeForce GTX 1650         28\n",
      "NVIDIA GeForce GTX 1070         12\n",
      "NVIDIA GeForce GTX 1050         12\n",
      "NVIDIA GeForce GTX 1650 Ti      12\n",
      "NVIDIA GeForce GTX 1060         11\n",
      "NVIDIA GeForce MX250             9\n",
      "NVIDIA GeForce GTX 1050 Ti       9\n",
      "NVIDIA GeForce MX 130            7\n",
      "Intel Iris Plus Graphics         7\n",
      "NVIDIA GeForce GTX 2060          5\n",
      "AMD Radeon Graphics              4\n",
      "NVIDIA GeForce RTX 2080          4\n",
      "NVIDIA GeForce MX 350            4\n",
      "NVIDIA GeForce GTX 960M          3\n",
      "Integrated                       3\n",
      "Readon Vega 8                    3\n",
      "AMD Radeon RX Vega M GL         3\n",
      "Intel Iris Plus 645 Graphics     3\n",
      "NVIDIA GeForce GTX 980M          3\n",
      "NVIDIA GeForce RTX 2060          2\n",
      "AMD Radeon                       2\n",
      "NVIDIA GeForce RTX 2070          2\n",
      "NVIDIA GTX 2080 Max              2\n",
      "NVIDIA GeForce GTX 1660          2\n",
      "NVIDIA GeForce MX330             2\n",
      "NVIDIA GTX 980 SLI               1\n",
      "NVIDIA Quadro RTX3000            1\n",
      "Radeon R2                        1\n",
      "NVIDIA Quadro P620               1\n",
      "NVIDIA GTX 1650 Max              1\n",
      "NVIDIA GeForce MX 230            1\n",
      "Intel Iris Plus 655 Graphics     1\n",
      "AMD Radeon Vega 8                1\n",
      "NVIDIA GTX 1080                  1\n",
      "AMD Radeon 610                   1\n",
      "Radeon RX Vega 7                 1\n",
      "NVIDIA Quadro P520               1\n",
      "NVIDIA GTX 1050 Max              1\n",
      "NVIDIA GTX 1070                  1\n",
      "AMD Radeon 630                   1\n",
      "NVIDIA GTX 1050 Ti               1\n",
      "NVIDIA GeForce GTX 965M          1\n",
      "Intel Iris Plus 640 Graphics     1\n",
      "NVIDIA GeForce MX150             1\n",
      "AMD Radeon Pro 5500M             1\n",
      "AMD Radeon Vega 3                1\n",
      "AMD Radeon RX Vega 10            1\n",
      "AMD Radeon Pro 5300M             1\n",
      "NVIDIA GeForce GTX 970M          1\n",
      "NVIDIA Quadro T2000              1\n",
      "Name: GPU Details, dtype: int64\n"
     ]
    }
   ],
   "source": [
    "df['GPU Details']=df['GPU Details'].replace('Intel® UHD Graphics','Intel UHD Graphics')\n",
    "df['GPU Details']=df['GPU Details'].replace('NVIDIA® GeForce® GTX 1650 Ti','NVIDIA GeForce GTX 1650 Ti')\n",
    "df['GPU Details']=df['GPU Details'].replace('NVIDIA® GeForce® GTX 1650','NVIDIA GeForce GTX 1650')\n",
    "df['GPU Details']=df['GPU Details'].replace('NVIDIA® GeForce RTX 2080','NVIDIA GeForce RTX 2080')\n",
    "df['GPU Details']=df['GPU Details'].replace('NVIDIA® GeForce® MX250','NVIDIA GeForce MX250')\n",
    "df['GPU Details']=df['GPU Details'].replace('NVIDIA® GeForce® RTX 2060','NVIDIA GeForce RTX 2060')\n",
    "df['GPU Details']=df['GPU Details'].replace('NVIDIA® GTX 1070','NVIDIA GeForce GTX 1070')\n",
    "df['GPU Details']=df['GPU Details'].replace('NVIDIA® Quadro RTX3000','NVIDIA Quadro RTX3000')\n",
    "df['GPU Details']=df['GPU Details'].replace('NVIDIA® GeForce® MX350','NVIDIA GeForce MX350')\n",
    "df['GPU Details']=df['GPU Details'].replace('Intel® Iris® Plus','Intel Iris Plus Graphics')\n",
    "df['GPU Details']=df['GPU Details'].replace('Intel® Iris® Plus Graphics','Intel Iris Plus Graphics')\n",
    "df['GPU Details']=df['GPU Details'].replace('NVIDIA® Quadro® P520','NVIDIA Quadro P520')\n",
    "df['GPU Details']=df['GPU Details'].replace('NVIDIA® GeForce® RTX 2070','NVIDIA GeForce RTX 2070')\n",
    "df['GPU Details']=df['GPU Details'].replace('NVIDIA® GeForce® MX330','NVIDIA GeForce MX330')\n",
    "df['GPU Details']=df['GPU Details'].replace('NVIDIA® GeForce RTX 2070','NVIDIA GeForce RTX 2070')\n",
    "df['GPU Details']=df['GPU Details'].replace('Intel Iris plus','Intel Iris Plus Graphics')\n",
    "df['GPU Details']=df['GPU Details'].replace('NVIDIA GTX 1650','NVIDIA GeForce GTX 1650')\n",
    "df['GPU Details']=df['GPU Details'].replace('NVIDIA GTX 2060','NVIDIA GeForce GTX 2060')\n",
    "df['GPU Details']=df['GPU Details'].replace('NVIDIA GTX 1660','NVIDIA GeForce GTX 1660')\n",
    "df['GPU Details']=df['GPU Details'].replace('NVIDIA 1660','NVIDIA GeForce GTX 1660')\n",
    "df['GPU Details']=df['GPU Details'].replace('NVIDIA GTX 1060','NVIDIA GeForce GTX 1060')\n",
    "df['GPU Details']=df['GPU Details'].replace('NVIDIA GTX 1050Ti','NVIDIA GTX 1050 Ti')\n",
    "df['GPU Details']=df['GPU Details'].replace('NVIDIA MX130','NVIDIA GeForce MX 130')\n",
    "df['GPU Details']=df['GPU Details'].replace('NVIDIA GeForce MX130','NVIDIA GeForce MX 130')\n",
    "df['GPU Details']=df['GPU Details'].replace('NVIDIA GeForce MX350','NVIDIA GeForce MX 350')\n",
    "print(df[\"GPU Details\"].value_counts())"
   ]
  },
  {
   "cell_type": "code",
   "execution_count": 41,
   "metadata": {},
   "outputs": [
    {
     "name": "stdout",
     "output_type": "stream",
     "text": [
      "Lenovo    65\n",
      "MSI       47\n",
      "Acer      44\n",
      "Dell      42\n",
      "HP        32\n",
      "ASUS      28\n",
      "Apple      9\n",
      "Razer      4\n",
      "Name: Company Name, dtype: int64\n",
      "MacBook Pro            7\n",
      "Nitro 5                7\n",
      "Legion 5i              6\n",
      "New Vostro 15 3590     5\n",
      "Predator Helios 300    5\n",
      "                      ..\n",
      "ThinkBook 14 IIL       1\n",
      "Inspiron 3493          1\n",
      "IdeaPad Slim 3         1\n",
      "15s eq1042au           1\n",
      "Spectre x360-13        1\n",
      "Name: Laptop Name, Length: 186, dtype: int64\n",
      "8     156\n",
      "16     76\n",
      "4      33\n",
      "32      5\n",
      "24      1\n",
      "Name: RAM (GB), dtype: int64\n",
      "SSD        147\n",
      "SSD+HDD     82\n",
      "HDD         42\n",
      "Name: Storage Type, dtype: int64\n",
      "512         96\n",
      "1024        58\n",
      "256+1024    55\n",
      "256         33\n",
      "128+1024    17\n",
      "512+1024     5\n",
      "128          2\n",
      "512+2048     2\n",
      "256+2048     2\n",
      "2048         1\n",
      "Name: Storage Size (GB), dtype: int64\n",
      "Intel    250\n",
      "AMD       21\n",
      "Name: Processor Company, dtype: int64\n",
      "10th Gen i5               82\n",
      "10th Gen i7               37\n",
      "7th Gen i7                31\n",
      "10th Gen i3               30\n",
      "8th Gen i7                13\n",
      "6th Gen i7                13\n",
      "9th Gen i7                13\n",
      "8th Gen i5                12\n",
      "7th Gen i5                 6\n",
      "Ryzen 3 3250U              4\n",
      "9th Gen i5                 4\n",
      "Ryzen 5 4600H              3\n",
      "8th Gen i3                 2\n",
      "8th Gen i9                 2\n",
      "Ryzen 5 3500U              2\n",
      "Ryzen 7 4700U              2\n",
      "8TH Gen i5                 1\n",
      "Ryzen 5 4500U              1\n",
      "Ryzen 5 4600U              1\n",
      "3rd Gen Ryzen 5 53500U     1\n",
      "ROG Zephyrus S             1\n",
      "3rd Gen Ryzen 3 3200U      1\n",
      "Athlon                     1\n",
      "Ryzen 7 3750U              1\n",
      "9thGen i5                  1\n",
      "7th Gen i3                 1\n",
      "R7-3700U                   1\n",
      "Ryzen 5 Pro 4650U          1\n",
      "3rd Gen Ryzen 5 4600H      1\n",
      "9th Gen i9                 1\n",
      "Ryzen 5 4600HS             1\n",
      "Name: Processor Details, dtype: int64\n",
      "Integrated    123\n",
      "4              49\n",
      "2              35\n",
      "Dedicated      25\n",
      "8              21\n",
      "6              13\n",
      "3               5\n",
      "Name: Graphics Card (GB), dtype: int64\n",
      "Intel UHD Graphics              92\n",
      "NVIDIA GeForce GTX 1650         28\n",
      "NVIDIA GeForce GTX 1070         12\n",
      "NVIDIA GeForce GTX 1050         12\n",
      "NVIDIA GeForce GTX 1650 Ti      12\n",
      "NVIDIA GeForce GTX 1060         11\n",
      "NVIDIA GeForce MX250             9\n",
      "NVIDIA GeForce GTX 1050 Ti       9\n",
      "NVIDIA GeForce MX 130            7\n",
      "Intel Iris Plus Graphics         7\n",
      "NVIDIA GeForce GTX 2060          5\n",
      "AMD Radeon Graphics              4\n",
      "NVIDIA GeForce RTX 2080          4\n",
      "NVIDIA GeForce MX 350            4\n",
      "NVIDIA GeForce GTX 960M          3\n",
      "Integrated                       3\n",
      "Readon Vega 8                    3\n",
      "AMD Radeon RX Vega M GL         3\n",
      "Intel Iris Plus 645 Graphics     3\n",
      "NVIDIA GeForce GTX 980M          3\n",
      "NVIDIA GeForce RTX 2060          2\n",
      "AMD Radeon                       2\n",
      "NVIDIA GeForce RTX 2070          2\n",
      "NVIDIA GTX 2080 Max              2\n",
      "NVIDIA GeForce GTX 1660          2\n",
      "NVIDIA GeForce MX330             2\n",
      "NVIDIA GTX 980 SLI               1\n",
      "NVIDIA Quadro RTX3000            1\n",
      "Radeon R2                        1\n",
      "NVIDIA Quadro P620               1\n",
      "NVIDIA GTX 1650 Max              1\n",
      "NVIDIA GeForce MX 230            1\n",
      "Intel Iris Plus 655 Graphics     1\n",
      "AMD Radeon Vega 8                1\n",
      "NVIDIA GTX 1080                  1\n",
      "AMD Radeon 610                   1\n",
      "Radeon RX Vega 7                 1\n",
      "NVIDIA Quadro P520               1\n",
      "NVIDIA GTX 1050 Max              1\n",
      "NVIDIA GTX 1070                  1\n",
      "AMD Radeon 630                   1\n",
      "NVIDIA GTX 1050 Ti               1\n",
      "NVIDIA GeForce GTX 965M          1\n",
      "Intel Iris Plus 640 Graphics     1\n",
      "NVIDIA GeForce MX150             1\n",
      "AMD Radeon Pro 5500M             1\n",
      "AMD Radeon Vega 3                1\n",
      "AMD Radeon RX Vega 10            1\n",
      "AMD Radeon Pro 5300M             1\n",
      "NVIDIA GeForce GTX 970M          1\n",
      "NVIDIA Quadro T2000              1\n",
      "Name: GPU Details, dtype: int64\n",
      "1.50    20\n",
      "2.20    17\n",
      "1.60    16\n",
      "2.50    15\n",
      "2.30    15\n",
      "        ..\n",
      "2.13     1\n",
      "1.58     1\n",
      "2.36     1\n",
      "0.91     1\n",
      "1.35     1\n",
      "Name: Weight (kg), Length: 71, dtype: int64\n",
      "15.6    129\n",
      "14.0     80\n",
      "17.3     31\n",
      "13.3     30\n",
      "18.4      1\n",
      "Name: Screen Size (inches), dtype: int64\n",
      "Windows    250\n",
      "DOS         12\n",
      "macOS        9\n",
      "Name: OS, dtype: int64\n",
      "Notebook       141\n",
      "Gaming         107\n",
      "Ultrabook       16\n",
      "Convertible      6\n",
      "Business         1\n",
      "Name: Laptop Type, dtype: int64\n",
      "129990    3\n",
      "104000    3\n",
      "67990     3\n",
      "65990     3\n",
      "59990     3\n",
      "         ..\n",
      "134990    1\n",
      "248140    1\n",
      "92999     1\n",
      "49990     1\n",
      "41990     1\n",
      "Name: Price (INR), Length: 240, dtype: int64\n",
      "Normal         193\n",
      "Costly          65\n",
      "Very Costly     13\n",
      "Name: Price Category, dtype: int64\n"
     ]
    }
   ],
   "source": [
    "for col in df.columns:\n",
    "    print(df[col].value_counts())"
   ]
  },
  {
   "cell_type": "code",
   "execution_count": 42,
   "metadata": {},
   "outputs": [
    {
     "data": {
      "text/html": [
       "<div>\n",
       "<style scoped>\n",
       "    .dataframe tbody tr th:only-of-type {\n",
       "        vertical-align: middle;\n",
       "    }\n",
       "\n",
       "    .dataframe tbody tr th {\n",
       "        vertical-align: top;\n",
       "    }\n",
       "\n",
       "    .dataframe thead th {\n",
       "        text-align: right;\n",
       "    }\n",
       "</style>\n",
       "<table border=\"1\" class=\"dataframe\">\n",
       "  <thead>\n",
       "    <tr style=\"text-align: right;\">\n",
       "      <th></th>\n",
       "      <th>Company Name</th>\n",
       "      <th>Laptop Name</th>\n",
       "      <th>RAM (GB)</th>\n",
       "      <th>Storage Type</th>\n",
       "      <th>Storage Size (GB)</th>\n",
       "      <th>Processor Company</th>\n",
       "      <th>Processor Details</th>\n",
       "      <th>Graphics Card (GB)</th>\n",
       "      <th>GPU Details</th>\n",
       "      <th>Weight (kg)</th>\n",
       "      <th>Screen Size (inches)</th>\n",
       "      <th>OS</th>\n",
       "      <th>Laptop Type</th>\n",
       "      <th>Price (INR)</th>\n",
       "      <th>Price Category</th>\n",
       "    </tr>\n",
       "  </thead>\n",
       "  <tbody>\n",
       "    <tr>\n",
       "      <th>count</th>\n",
       "      <td>271</td>\n",
       "      <td>271</td>\n",
       "      <td>271.000000</td>\n",
       "      <td>271</td>\n",
       "      <td>271</td>\n",
       "      <td>271</td>\n",
       "      <td>271</td>\n",
       "      <td>271</td>\n",
       "      <td>271</td>\n",
       "      <td>271.000000</td>\n",
       "      <td>271.000000</td>\n",
       "      <td>271</td>\n",
       "      <td>271</td>\n",
       "      <td>271.000000</td>\n",
       "      <td>271</td>\n",
       "    </tr>\n",
       "    <tr>\n",
       "      <th>unique</th>\n",
       "      <td>8</td>\n",
       "      <td>186</td>\n",
       "      <td>NaN</td>\n",
       "      <td>3</td>\n",
       "      <td>10</td>\n",
       "      <td>2</td>\n",
       "      <td>31</td>\n",
       "      <td>7</td>\n",
       "      <td>51</td>\n",
       "      <td>NaN</td>\n",
       "      <td>NaN</td>\n",
       "      <td>3</td>\n",
       "      <td>5</td>\n",
       "      <td>NaN</td>\n",
       "      <td>3</td>\n",
       "    </tr>\n",
       "    <tr>\n",
       "      <th>top</th>\n",
       "      <td>Lenovo</td>\n",
       "      <td>MacBook Pro</td>\n",
       "      <td>NaN</td>\n",
       "      <td>SSD</td>\n",
       "      <td>512</td>\n",
       "      <td>Intel</td>\n",
       "      <td>10th Gen i5</td>\n",
       "      <td>Integrated</td>\n",
       "      <td>Intel UHD Graphics</td>\n",
       "      <td>NaN</td>\n",
       "      <td>NaN</td>\n",
       "      <td>Windows</td>\n",
       "      <td>Notebook</td>\n",
       "      <td>NaN</td>\n",
       "      <td>Normal</td>\n",
       "    </tr>\n",
       "    <tr>\n",
       "      <th>freq</th>\n",
       "      <td>65</td>\n",
       "      <td>7</td>\n",
       "      <td>NaN</td>\n",
       "      <td>147</td>\n",
       "      <td>96</td>\n",
       "      <td>250</td>\n",
       "      <td>82</td>\n",
       "      <td>123</td>\n",
       "      <td>92</td>\n",
       "      <td>NaN</td>\n",
       "      <td>NaN</td>\n",
       "      <td>250</td>\n",
       "      <td>141</td>\n",
       "      <td>NaN</td>\n",
       "      <td>193</td>\n",
       "    </tr>\n",
       "    <tr>\n",
       "      <th>mean</th>\n",
       "      <td>NaN</td>\n",
       "      <td>NaN</td>\n",
       "      <td>10.258303</td>\n",
       "      <td>NaN</td>\n",
       "      <td>NaN</td>\n",
       "      <td>NaN</td>\n",
       "      <td>NaN</td>\n",
       "      <td>NaN</td>\n",
       "      <td>NaN</td>\n",
       "      <td>2.005683</td>\n",
       "      <td>15.077860</td>\n",
       "      <td>NaN</td>\n",
       "      <td>NaN</td>\n",
       "      <td>104267.077491</td>\n",
       "      <td>NaN</td>\n",
       "    </tr>\n",
       "    <tr>\n",
       "      <th>std</th>\n",
       "      <td>NaN</td>\n",
       "      <td>NaN</td>\n",
       "      <td>5.144547</td>\n",
       "      <td>NaN</td>\n",
       "      <td>NaN</td>\n",
       "      <td>NaN</td>\n",
       "      <td>NaN</td>\n",
       "      <td>NaN</td>\n",
       "      <td>NaN</td>\n",
       "      <td>0.645385</td>\n",
       "      <td>1.197292</td>\n",
       "      <td>NaN</td>\n",
       "      <td>NaN</td>\n",
       "      <td>57768.243330</td>\n",
       "      <td>NaN</td>\n",
       "    </tr>\n",
       "    <tr>\n",
       "      <th>min</th>\n",
       "      <td>NaN</td>\n",
       "      <td>NaN</td>\n",
       "      <td>4.000000</td>\n",
       "      <td>NaN</td>\n",
       "      <td>NaN</td>\n",
       "      <td>NaN</td>\n",
       "      <td>NaN</td>\n",
       "      <td>NaN</td>\n",
       "      <td>NaN</td>\n",
       "      <td>0.390000</td>\n",
       "      <td>13.300000</td>\n",
       "      <td>NaN</td>\n",
       "      <td>NaN</td>\n",
       "      <td>26374.000000</td>\n",
       "      <td>NaN</td>\n",
       "    </tr>\n",
       "    <tr>\n",
       "      <th>25%</th>\n",
       "      <td>NaN</td>\n",
       "      <td>NaN</td>\n",
       "      <td>8.000000</td>\n",
       "      <td>NaN</td>\n",
       "      <td>NaN</td>\n",
       "      <td>NaN</td>\n",
       "      <td>NaN</td>\n",
       "      <td>NaN</td>\n",
       "      <td>NaN</td>\n",
       "      <td>1.545000</td>\n",
       "      <td>14.000000</td>\n",
       "      <td>NaN</td>\n",
       "      <td>NaN</td>\n",
       "      <td>61740.000000</td>\n",
       "      <td>NaN</td>\n",
       "    </tr>\n",
       "    <tr>\n",
       "      <th>50%</th>\n",
       "      <td>NaN</td>\n",
       "      <td>NaN</td>\n",
       "      <td>8.000000</td>\n",
       "      <td>NaN</td>\n",
       "      <td>NaN</td>\n",
       "      <td>NaN</td>\n",
       "      <td>NaN</td>\n",
       "      <td>NaN</td>\n",
       "      <td>NaN</td>\n",
       "      <td>1.820000</td>\n",
       "      <td>15.600000</td>\n",
       "      <td>NaN</td>\n",
       "      <td>NaN</td>\n",
       "      <td>89990.000000</td>\n",
       "      <td>NaN</td>\n",
       "    </tr>\n",
       "    <tr>\n",
       "      <th>75%</th>\n",
       "      <td>NaN</td>\n",
       "      <td>NaN</td>\n",
       "      <td>16.000000</td>\n",
       "      <td>NaN</td>\n",
       "      <td>NaN</td>\n",
       "      <td>NaN</td>\n",
       "      <td>NaN</td>\n",
       "      <td>NaN</td>\n",
       "      <td>NaN</td>\n",
       "      <td>2.330000</td>\n",
       "      <td>15.600000</td>\n",
       "      <td>NaN</td>\n",
       "      <td>NaN</td>\n",
       "      <td>129999.000000</td>\n",
       "      <td>NaN</td>\n",
       "    </tr>\n",
       "    <tr>\n",
       "      <th>max</th>\n",
       "      <td>NaN</td>\n",
       "      <td>NaN</td>\n",
       "      <td>32.000000</td>\n",
       "      <td>NaN</td>\n",
       "      <td>NaN</td>\n",
       "      <td>NaN</td>\n",
       "      <td>NaN</td>\n",
       "      <td>NaN</td>\n",
       "      <td>NaN</td>\n",
       "      <td>4.500000</td>\n",
       "      <td>18.400000</td>\n",
       "      <td>NaN</td>\n",
       "      <td>NaN</td>\n",
       "      <td>319999.000000</td>\n",
       "      <td>NaN</td>\n",
       "    </tr>\n",
       "  </tbody>\n",
       "</table>\n",
       "</div>"
      ],
      "text/plain": [
       "       Company Name  Laptop Name    RAM (GB) Storage Type Storage Size (GB)  \\\n",
       "count           271          271  271.000000          271               271   \n",
       "unique            8          186         NaN            3                10   \n",
       "top          Lenovo  MacBook Pro         NaN          SSD               512   \n",
       "freq             65            7         NaN          147                96   \n",
       "mean            NaN          NaN   10.258303          NaN               NaN   \n",
       "std             NaN          NaN    5.144547          NaN               NaN   \n",
       "min             NaN          NaN    4.000000          NaN               NaN   \n",
       "25%             NaN          NaN    8.000000          NaN               NaN   \n",
       "50%             NaN          NaN    8.000000          NaN               NaN   \n",
       "75%             NaN          NaN   16.000000          NaN               NaN   \n",
       "max             NaN          NaN   32.000000          NaN               NaN   \n",
       "\n",
       "       Processor Company Processor Details Graphics Card (GB)  \\\n",
       "count                271               271                271   \n",
       "unique                 2                31                  7   \n",
       "top                Intel       10th Gen i5         Integrated   \n",
       "freq                 250                82                123   \n",
       "mean                 NaN               NaN                NaN   \n",
       "std                  NaN               NaN                NaN   \n",
       "min                  NaN               NaN                NaN   \n",
       "25%                  NaN               NaN                NaN   \n",
       "50%                  NaN               NaN                NaN   \n",
       "75%                  NaN               NaN                NaN   \n",
       "max                  NaN               NaN                NaN   \n",
       "\n",
       "               GPU Details  Weight (kg)  Screen Size (inches)       OS  \\\n",
       "count                  271   271.000000            271.000000      271   \n",
       "unique                  51          NaN                   NaN        3   \n",
       "top     Intel UHD Graphics          NaN                   NaN  Windows   \n",
       "freq                    92          NaN                   NaN      250   \n",
       "mean                   NaN     2.005683             15.077860      NaN   \n",
       "std                    NaN     0.645385              1.197292      NaN   \n",
       "min                    NaN     0.390000             13.300000      NaN   \n",
       "25%                    NaN     1.545000             14.000000      NaN   \n",
       "50%                    NaN     1.820000             15.600000      NaN   \n",
       "75%                    NaN     2.330000             15.600000      NaN   \n",
       "max                    NaN     4.500000             18.400000      NaN   \n",
       "\n",
       "       Laptop Type    Price (INR) Price Category  \n",
       "count          271     271.000000            271  \n",
       "unique           5            NaN              3  \n",
       "top       Notebook            NaN         Normal  \n",
       "freq           141            NaN            193  \n",
       "mean           NaN  104267.077491            NaN  \n",
       "std            NaN   57768.243330            NaN  \n",
       "min            NaN   26374.000000            NaN  \n",
       "25%            NaN   61740.000000            NaN  \n",
       "50%            NaN   89990.000000            NaN  \n",
       "75%            NaN  129999.000000            NaN  \n",
       "max            NaN  319999.000000            NaN  "
      ]
     },
     "execution_count": 42,
     "metadata": {},
     "output_type": "execute_result"
    }
   ],
   "source": [
    "df.describe(include='all')"
   ]
  },
  {
   "cell_type": "code",
   "execution_count": 43,
   "metadata": {},
   "outputs": [
    {
     "data": {
      "image/png": "[encoded data removed]",
      "text/plain": [
       "<Figure size 432x288 with 1 Axes>"
      ]
     },
     "metadata": {
      "needs_background": "light"
     },
     "output_type": "display_data"
    }
   ],
   "source": [
    "bp1=sns.boxplot(x=\"Company Name\", y=\"Price (INR)\", data=df)"
   ]
  },
  {
   "cell_type": "code",
   "execution_count": 44,
   "metadata": {},
   "outputs": [
    {
     "data": {
      "image/png": "[encoded data removed]",
      "text/plain": [
       "<Figure size 432x288 with 1 Axes>"
      ]
     },
     "metadata": {
      "needs_background": "light"
     },
     "output_type": "display_data"
    }
   ],
   "source": [
    "bp2=sns.boxplot(x=\"Storage Type\", y=\"Price (INR)\", data=df)"
   ]
  },
  {
   "cell_type": "code",
   "execution_count": 45,
   "metadata": {},
   "outputs": [
    {
     "data": {
      "text/plain": [
       "Text(0, 0.5, 'Price')"
      ]
     },
     "execution_count": 45,
     "metadata": {},
     "output_type": "execute_result"
    },
    {
     "data": {
      "image/png": "[encoded data removed]",
      "text/plain": [
       "<Figure size 432x288 with 1 Axes>"
      ]
     },
     "metadata": {
      "needs_background": "light"
     },
     "output_type": "display_data"
    }
   ],
   "source": [
    "y=df['Price (INR)']\n",
    "x=df['Weight (kg)']\n",
    "plt.scatter(x,y)\n",
    "plt.title(\"Weight vs Price\")\n",
    "plt.xlabel('Weight (kg)')\n",
    "plt.ylabel('Price')"
   ]
  },
  {
   "cell_type": "code",
   "execution_count": 46,
   "metadata": {},
   "outputs": [
    {
     "data": {
      "text/plain": [
       "Text(0, 0.5, 'Price')"
      ]
     },
     "execution_count": 46,
     "metadata": {},
     "output_type": "execute_result"
    },
    {
     "data": {
      "image/png": "[encoded data removed]",
      "text/plain": [
       "<Figure size 864x432 with 1 Axes>"
      ]
     },
     "metadata": {
      "needs_background": "light"
     },
     "output_type": "display_data"
    }
   ],
   "source": [
    "plt.subplots(figsize=(12,6))\n",
    "y=df['Price (INR)']\n",
    "x=df['Storage Size (GB)']\n",
    "plt.scatter(x,y,linewidths=1)\n",
    "plt.title(\"Storage Size vs Price\")\n",
    "plt.xlabel('Storage Size (GB)')\n",
    "plt.ylabel('Price')"
   ]
  },
  {
   "cell_type": "code",
   "execution_count": 47,
   "metadata": {},
   "outputs": [
    {
     "data": {
      "text/plain": [
       "Text(0, 0.5, 'Price')"
      ]
     },
     "execution_count": 47,
     "metadata": {},
     "output_type": "execute_result"
    },
    {
     "data": {
      "image/png": "[encoded data removed]",
      "text/plain": [
       "<Figure size 432x288 with 1 Axes>"
      ]
     },
     "metadata": {
      "needs_background": "light"
     },
     "output_type": "display_data"
    }
   ],
   "source": [
    "y=df['Price (INR)']\n",
    "x=df['Graphics Card (GB)']\n",
    "plt.scatter(x,y)\n",
    "plt.title(\"Graphics Card vs Price\")\n",
    "plt.xlabel('GPU Details (GB)')\n",
    "plt.ylabel('Price')"
   ]
  },
  {
   "cell_type": "code",
   "execution_count": 48,
   "metadata": {},
   "outputs": [
    {
     "data": {
      "text/plain": [
       "<matplotlib.axes._subplots.AxesSubplot at 0x1abaee99908>"
      ]
     },
     "execution_count": 48,
     "metadata": {},
     "output_type": "execute_result"
    },
    {
     "data": {
      "image/png": "[encoded data removed]",
      "text/plain": [
       "<Figure size 720x360 with 1 Axes>"
      ]
     },
     "metadata": {
      "needs_background": "light"
     },
     "output_type": "display_data"
    }
   ],
   "source": [
    "plt.subplots(figsize=(10,5))\n",
    "sns.countplot(x=\"Company Name\", data=df, hue='Storage Type')"
   ]
  },
  {
   "cell_type": "code",
   "execution_count": 49,
   "metadata": {},
   "outputs": [
    {
     "data": {
      "text/plain": [
       "<matplotlib.axes._subplots.AxesSubplot at 0x1abaef67b08>"
      ]
     },
     "execution_count": 49,
     "metadata": {},
     "output_type": "execute_result"
    },
    {
     "data": {
      "image/png": "[encoded data removed]",
      "text/plain": [
       "<Figure size 720x360 with 1 Axes>"
      ]
     },
     "metadata": {
      "needs_background": "light"
     },
     "output_type": "display_data"
    }
   ],
   "source": [
    "plt.subplots(figsize=(10,5))\n",
    "sns.countplot(x=\"Company Name\", data=df, hue='RAM (GB)')"
   ]
  },
  {
   "cell_type": "code",
   "execution_count": 50,
   "metadata": {},
   "outputs": [
    {
     "data": {
      "text/plain": [
       "<matplotlib.axes._subplots.AxesSubplot at 0x1abaf18e748>"
      ]
     },
     "execution_count": 50,
     "metadata": {},
     "output_type": "execute_result"
    },
    {
     "data": {
      "image/png": "[encoded data removed]",
      "text/plain": [
       "<Figure size 720x360 with 1 Axes>"
      ]
     },
     "metadata": {
      "needs_background": "light"
     },
     "output_type": "display_data"
    }
   ],
   "source": [
    "plt.subplots(figsize=(10,5))\n",
    "sns.countplot(x=\"Company Name\", data=df, hue='Screen Size (inches)')"
   ]
  },
  {
   "cell_type": "code",
   "execution_count": 51,
   "metadata": {},
   "outputs": [
    {
     "data": {
      "text/plain": [
       "<matplotlib.axes._subplots.AxesSubplot at 0x1abaf247d48>"
      ]
     },
     "execution_count": 51,
     "metadata": {},
     "output_type": "execute_result"
    },
    {
     "data": {
      "image/png": "[encoded data removed]",
      "text/plain": [
       "<Figure size 432x288 with 1 Axes>"
      ]
     },
     "metadata": {
      "needs_background": "light"
     },
     "output_type": "display_data"
    }
   ],
   "source": [
    "sns.countplot(x=\"Storage Type\", data=df, hue='RAM (GB)')"
   ]
  },
  {
   "cell_type": "code",
   "execution_count": 52,
   "metadata": {},
   "outputs": [
    {
     "data": {
      "text/plain": [
       "<matplotlib.axes._subplots.AxesSubplot at 0x1abaf2e8ac8>"
      ]
     },
     "execution_count": 52,
     "metadata": {},
     "output_type": "execute_result"
    },
    {
     "data": {
      "image/png": "[encoded data removed]",
      "text/plain": [
       "<Figure size 432x288 with 1 Axes>"
      ]
     },
     "metadata": {
      "needs_background": "light"
     },
     "output_type": "display_data"
    }
   ],
   "source": [
    "sns.countplot(x=\"Storage Type\", data=df, hue='Graphics Card (GB)')"
   ]
  },
  {
   "cell_type": "code",
   "execution_count": 53,
   "metadata": {},
   "outputs": [
    {
     "data": {
      "text/plain": [
       "<seaborn.axisgrid.FacetGrid at 0x1abaf3ae408>"
      ]
     },
     "execution_count": 53,
     "metadata": {},
     "output_type": "execute_result"
    },
    {
     "data": {
      "image/png": "[encoded data removed]",
      "text/plain": [
       "<Figure size 360x360 with 1 Axes>"
      ]
     },
     "metadata": {},
     "output_type": "display_data"
    }
   ],
   "source": [
    "sns.set_style('darkgrid')\n",
    "sns.catplot(x=\"Storage Type\",y=\"Price (INR)\",data=df)"
   ]
  },
  {
   "cell_type": "code",
   "execution_count": 54,
   "metadata": {},
   "outputs": [
    {
     "data": {
      "text/plain": [
       "<seaborn.axisgrid.FacetGrid at 0x1abaf41d508>"
      ]
     },
     "execution_count": 54,
     "metadata": {},
     "output_type": "execute_result"
    },
    {
     "data": {
      "image/png": "[encoded data removed]",
      "text/plain": [
       "<Figure size 459x360 with 1 Axes>"
      ]
     },
     "metadata": {},
     "output_type": "display_data"
    }
   ],
   "source": [
    "sns.lmplot(x=\"RAM (GB)\", y=\"Price (INR)\", hue=\"Processor Company\",data=df)"
   ]
  },
  {
   "cell_type": "code",
   "execution_count": 55,
   "metadata": {},
   "outputs": [
    {
     "data": {
      "text/plain": [
       "<matplotlib.axes._subplots.AxesSubplot at 0x1abaf4e82c8>"
      ]
     },
     "execution_count": 55,
     "metadata": {},
     "output_type": "execute_result"
    },
    {
     "data": {
      "image/png": "[encoded data removed]",
      "text/plain": [
       "<Figure size 432x288 with 2 Axes>"
      ]
     },
     "metadata": {},
     "output_type": "display_data"
    }
   ],
   "source": [
    "sns.heatmap(df.corr())"
   ]
  },
  {
   "cell_type": "code",
   "execution_count": 57,
   "metadata": {},
   "outputs": [
    {
     "data": {
      "text/plain": [
       "<seaborn.axisgrid.FacetGrid at 0x1abb0621708>"
      ]
     },
     "execution_count": 57,
     "metadata": {},
     "output_type": "execute_result"
    },
    {
     "data": {
      "image/png": "[encoded data removed]",
      "text/plain": [
       "<Figure size 462.25x360 with 1 Axes>"
      ]
     },
     "metadata": {},
     "output_type": "display_data"
    }
   ],
   "source": [
    "sns.relplot(data=df, x=\"Screen Size (inches)\", y=\"Price (INR)\", hue=\"Price Category\", kind=\"line\")"
   ]
  },
  {
   "cell_type": "code",
   "execution_count": 58,
   "metadata": {},
   "outputs": [
    {
     "data": {
      "text/plain": [
       "<seaborn.axisgrid.FacetGrid at 0x1abb06b6248>"
      ]
     },
     "execution_count": 58,
     "metadata": {},
     "output_type": "execute_result"
    },
    {
     "data": {
      "image/png": "[encoded data removed]",
      "text/plain": [
       "<Figure size 437x360 with 1 Axes>"
      ]
     },
     "metadata": {},
     "output_type": "display_data"
    }
   ],
   "source": [
    "sns.relplot(data=df, x=\"RAM (GB)\", y=\"Price (INR)\", hue=\"OS\", kind=\"line\")"
   ]
  },
  {
   "cell_type": "code",
   "execution_count": 59,
   "metadata": {},
   "outputs": [
    {
     "data": {
      "text/plain": [
       "<seaborn.axisgrid.FacetGrid at 0x1abb06b6e48>"
      ]
     },
     "execution_count": 59,
     "metadata": {},
     "output_type": "execute_result"
    },
    {
     "data": {
      "image/png": "[encoded data removed]",
      "text/plain": [
       "<Figure size 612x1080 with 3 Axes>"
      ]
     },
     "metadata": {},
     "output_type": "display_data"
    }
   ],
   "source": [
    "sns.lmplot(y=\"Weight (kg)\", x=\"Price (INR)\",row=\"Price Category\", data=df,aspect=1.7)"
   ]
  },
  {
   "cell_type": "code",
   "execution_count": 60,
   "metadata": {},
   "outputs": [
    {
     "data": {
      "text/plain": [
       "<seaborn.axisgrid.FacetGrid at 0x1abb0ac3d48>"
      ]
     },
     "execution_count": 60,
     "metadata": {},
     "output_type": "execute_result"
    },
    {
     "data": {
      "image/png": "[encoded data removed]",
      "text/plain": [
       "<Figure size 875.625x360 with 1 Axes>"
      ]
     },
     "metadata": {},
     "output_type": "display_data"
    }
   ],
   "source": [
    "sns.catplot(x=\"RAM (GB)\", y=\"Price (INR)\", hue=\"Storage Type\", kind=\"swarm\", data=df,aspect=2.2)"
   ]
  },
  {
   "cell_type": "code",
   "execution_count": 61,
   "metadata": {},
   "outputs": [
    {
     "data": {
      "text/plain": [
       "<matplotlib.axes._subplots.AxesSubplot at 0x1abb0eef788>"
      ]
     },
     "execution_count": 61,
     "metadata": {},
     "output_type": "execute_result"
    },
    {
     "data": {
      "image/png": "[encoded data removed]",
      "text/plain": [
       "<Figure size 432x288 with 1 Axes>"
      ]
     },
     "metadata": {},
     "output_type": "display_data"
    }
   ],
   "source": [
    "sns.distplot(df['Price (INR)'],kde=True,bins=10,hist=False)"
   ]
  },
  {
   "cell_type": "code",
   "execution_count": 62,
   "metadata": {},
   "outputs": [
    {
     "data": {
      "text/plain": [
       "<seaborn.axisgrid.FacetGrid at 0x1abb1078608>"
      ]
     },
     "execution_count": 62,
     "metadata": {},
     "output_type": "execute_result"
    },
    {
     "data": {
      "image/png": "[encoded data removed]",
      "text/plain": [
       "<Figure size 1176.5x360 with 1 Axes>"
      ]
     },
     "metadata": {},
     "output_type": "display_data"
    }
   ],
   "source": [
    "sns.catplot(x=\"Storage Size (GB)\", y=\"Price (INR)\", hue=\"Graphics Card (GB)\",kind = \"bar\", data=df, aspect=3, ci=None)"
   ]
  },
  {
   "cell_type": "code",
   "execution_count": 63,
   "metadata": {},
   "outputs": [
    {
     "name": "stdout",
     "output_type": "stream",
     "text": [
      "Int64Index([233], dtype='int64')\n"
     ]
    }
   ],
   "source": [
    "f1=df['Storage Size (GB)']=='512'\n",
    "f2=df['Storage Type']=='SSD+HDD'\n",
    "a=df.where(f1&f2).dropna(how='all').dropna(axis=1)\n",
    "print(a.index)\n",
    "df.at[233,'Storage Type']='SSD'"
   ]
  },
  {
   "cell_type": "code",
   "execution_count": 64,
   "metadata": {},
   "outputs": [
    {
     "data": {
      "text/html": [
       "<div>\n",
       "<style scoped>\n",
       "    .dataframe tbody tr th:only-of-type {\n",
       "        vertical-align: middle;\n",
       "    }\n",
       "\n",
       "    .dataframe tbody tr th {\n",
       "        vertical-align: top;\n",
       "    }\n",
       "\n",
       "    .dataframe thead th {\n",
       "        text-align: right;\n",
       "    }\n",
       "</style>\n",
       "<table border=\"1\" class=\"dataframe\">\n",
       "  <thead>\n",
       "    <tr style=\"text-align: right;\">\n",
       "      <th></th>\n",
       "      <th>Storage Type</th>\n",
       "      <th>Storage Size (GB)</th>\n",
       "      <th>Price (INR)</th>\n",
       "    </tr>\n",
       "  </thead>\n",
       "  <tbody>\n",
       "    <tr>\n",
       "      <th>0</th>\n",
       "      <td>HDD</td>\n",
       "      <td>1024</td>\n",
       "      <td>48174.250000</td>\n",
       "    </tr>\n",
       "    <tr>\n",
       "      <th>1</th>\n",
       "      <td>HDD</td>\n",
       "      <td>512</td>\n",
       "      <td>53833.500000</td>\n",
       "    </tr>\n",
       "    <tr>\n",
       "      <th>2</th>\n",
       "      <td>SSD</td>\n",
       "      <td>1024</td>\n",
       "      <td>186708.363636</td>\n",
       "    </tr>\n",
       "    <tr>\n",
       "      <th>3</th>\n",
       "      <td>SSD</td>\n",
       "      <td>128</td>\n",
       "      <td>80711.500000</td>\n",
       "    </tr>\n",
       "    <tr>\n",
       "      <th>4</th>\n",
       "      <td>SSD</td>\n",
       "      <td>2048</td>\n",
       "      <td>219000.000000</td>\n",
       "    </tr>\n",
       "    <tr>\n",
       "      <th>5</th>\n",
       "      <td>SSD</td>\n",
       "      <td>256</td>\n",
       "      <td>86329.212121</td>\n",
       "    </tr>\n",
       "    <tr>\n",
       "      <th>6</th>\n",
       "      <td>SSD</td>\n",
       "      <td>512</td>\n",
       "      <td>102092.311111</td>\n",
       "    </tr>\n",
       "    <tr>\n",
       "      <th>7</th>\n",
       "      <td>SSD+HDD</td>\n",
       "      <td>128+1024</td>\n",
       "      <td>111427.764706</td>\n",
       "    </tr>\n",
       "    <tr>\n",
       "      <th>8</th>\n",
       "      <td>SSD+HDD</td>\n",
       "      <td>256+1024</td>\n",
       "      <td>108523.036364</td>\n",
       "    </tr>\n",
       "    <tr>\n",
       "      <th>9</th>\n",
       "      <td>SSD+HDD</td>\n",
       "      <td>256+2048</td>\n",
       "      <td>203500.000000</td>\n",
       "    </tr>\n",
       "    <tr>\n",
       "      <th>10</th>\n",
       "      <td>SSD+HDD</td>\n",
       "      <td>512+1024</td>\n",
       "      <td>198677.600000</td>\n",
       "    </tr>\n",
       "    <tr>\n",
       "      <th>11</th>\n",
       "      <td>SSD+HDD</td>\n",
       "      <td>512+2048</td>\n",
       "      <td>205249.000000</td>\n",
       "    </tr>\n",
       "  </tbody>\n",
       "</table>\n",
       "</div>"
      ],
      "text/plain": [
       "   Storage Type Storage Size (GB)    Price (INR)\n",
       "0           HDD              1024   48174.250000\n",
       "1           HDD               512   53833.500000\n",
       "2           SSD              1024  186708.363636\n",
       "3           SSD               128   80711.500000\n",
       "4           SSD              2048  219000.000000\n",
       "5           SSD               256   86329.212121\n",
       "6           SSD               512  102092.311111\n",
       "7       SSD+HDD          128+1024  111427.764706\n",
       "8       SSD+HDD          256+1024  108523.036364\n",
       "9       SSD+HDD          256+2048  203500.000000\n",
       "10      SSD+HDD          512+1024  198677.600000\n",
       "11      SSD+HDD          512+2048  205249.000000"
      ]
     },
     "execution_count": 64,
     "metadata": {},
     "output_type": "execute_result"
    }
   ],
   "source": [
    "dft=df[['Storage Type','Storage Size (GB)','Price (INR)']]\n",
    "dfg=dft.groupby(['Storage Type','Storage Size (GB)'], as_index=False).mean()\n",
    "dfg"
   ]
  },
  {
   "cell_type": "code",
   "execution_count": 65,
   "metadata": {},
   "outputs": [
    {
     "data": {
      "text/html": [
       "<div>\n",
       "<style scoped>\n",
       "    .dataframe tbody tr th:only-of-type {\n",
       "        vertical-align: middle;\n",
       "    }\n",
       "\n",
       "    .dataframe tbody tr th {\n",
       "        vertical-align: top;\n",
       "    }\n",
       "\n",
       "    .dataframe thead tr th {\n",
       "        text-align: left;\n",
       "    }\n",
       "\n",
       "    .dataframe thead tr:last-of-type th {\n",
       "        text-align: right;\n",
       "    }\n",
       "</style>\n",
       "<table border=\"1\" class=\"dataframe\">\n",
       "  <thead>\n",
       "    <tr>\n",
       "      <th></th>\n",
       "      <th colspan=\"10\" halign=\"left\">Price (INR)</th>\n",
       "    </tr>\n",
       "    <tr>\n",
       "      <th>Storage Size (GB)</th>\n",
       "      <th>1024</th>\n",
       "      <th>128</th>\n",
       "      <th>128+1024</th>\n",
       "      <th>2048</th>\n",
       "      <th>256</th>\n",
       "      <th>256+1024</th>\n",
       "      <th>256+2048</th>\n",
       "      <th>512</th>\n",
       "      <th>512+1024</th>\n",
       "      <th>512+2048</th>\n",
       "    </tr>\n",
       "    <tr>\n",
       "      <th>Storage Type</th>\n",
       "      <th></th>\n",
       "      <th></th>\n",
       "      <th></th>\n",
       "      <th></th>\n",
       "      <th></th>\n",
       "      <th></th>\n",
       "      <th></th>\n",
       "      <th></th>\n",
       "      <th></th>\n",
       "      <th></th>\n",
       "    </tr>\n",
       "  </thead>\n",
       "  <tbody>\n",
       "    <tr>\n",
       "      <th>HDD</th>\n",
       "      <td>48174.250000</td>\n",
       "      <td>NaN</td>\n",
       "      <td>NaN</td>\n",
       "      <td>NaN</td>\n",
       "      <td>NaN</td>\n",
       "      <td>NaN</td>\n",
       "      <td>NaN</td>\n",
       "      <td>53833.500000</td>\n",
       "      <td>NaN</td>\n",
       "      <td>NaN</td>\n",
       "    </tr>\n",
       "    <tr>\n",
       "      <th>SSD</th>\n",
       "      <td>186708.363636</td>\n",
       "      <td>80711.5</td>\n",
       "      <td>NaN</td>\n",
       "      <td>219000.0</td>\n",
       "      <td>86329.212121</td>\n",
       "      <td>NaN</td>\n",
       "      <td>NaN</td>\n",
       "      <td>102092.311111</td>\n",
       "      <td>NaN</td>\n",
       "      <td>NaN</td>\n",
       "    </tr>\n",
       "    <tr>\n",
       "      <th>SSD+HDD</th>\n",
       "      <td>NaN</td>\n",
       "      <td>NaN</td>\n",
       "      <td>111427.764706</td>\n",
       "      <td>NaN</td>\n",
       "      <td>NaN</td>\n",
       "      <td>108523.036364</td>\n",
       "      <td>203500.0</td>\n",
       "      <td>NaN</td>\n",
       "      <td>198677.6</td>\n",
       "      <td>205249.0</td>\n",
       "    </tr>\n",
       "  </tbody>\n",
       "</table>\n",
       "</div>"
      ],
      "text/plain": [
       "                     Price (INR)                                    \\\n",
       "Storage Size (GB)           1024      128       128+1024      2048   \n",
       "Storage Type                                                         \n",
       "HDD                 48174.250000      NaN            NaN       NaN   \n",
       "SSD                186708.363636  80711.5            NaN  219000.0   \n",
       "SSD+HDD                      NaN      NaN  111427.764706       NaN   \n",
       "\n",
       "                                                                         \\\n",
       "Storage Size (GB)           256       256+1024  256+2048            512   \n",
       "Storage Type                                                              \n",
       "HDD                         NaN            NaN       NaN   53833.500000   \n",
       "SSD                86329.212121            NaN       NaN  102092.311111   \n",
       "SSD+HDD                     NaN  108523.036364  203500.0            NaN   \n",
       "\n",
       "                                       \n",
       "Storage Size (GB)  512+1024  512+2048  \n",
       "Storage Type                           \n",
       "HDD                     NaN       NaN  \n",
       "SSD                     NaN       NaN  \n",
       "SSD+HDD            198677.6  205249.0  "
      ]
     },
     "execution_count": 65,
     "metadata": {},
     "output_type": "execute_result"
    }
   ],
   "source": [
    "dfp=dfg.pivot(index='Storage Type',columns='Storage Size (GB)')\n",
    "dfp"
   ]
  },
  {
   "cell_type": "code",
   "execution_count": 66,
   "metadata": {},
   "outputs": [
    {
     "data": {
      "text/html": [
       "<div>\n",
       "<style scoped>\n",
       "    .dataframe tbody tr th:only-of-type {\n",
       "        vertical-align: middle;\n",
       "    }\n",
       "\n",
       "    .dataframe tbody tr th {\n",
       "        vertical-align: top;\n",
       "    }\n",
       "\n",
       "    .dataframe thead th {\n",
       "        text-align: right;\n",
       "    }\n",
       "</style>\n",
       "<table border=\"1\" class=\"dataframe\">\n",
       "  <thead>\n",
       "    <tr style=\"text-align: right;\">\n",
       "      <th></th>\n",
       "      <th>Storage Type</th>\n",
       "      <th>Graphics Card (GB)</th>\n",
       "      <th>Price (INR)</th>\n",
       "    </tr>\n",
       "  </thead>\n",
       "  <tbody>\n",
       "    <tr>\n",
       "      <th>0</th>\n",
       "      <td>HDD</td>\n",
       "      <td>2</td>\n",
       "      <td>66237.333333</td>\n",
       "    </tr>\n",
       "    <tr>\n",
       "      <th>1</th>\n",
       "      <td>HDD</td>\n",
       "      <td>4</td>\n",
       "      <td>81607.500000</td>\n",
       "    </tr>\n",
       "    <tr>\n",
       "      <th>2</th>\n",
       "      <td>HDD</td>\n",
       "      <td>Dedicated</td>\n",
       "      <td>55117.250000</td>\n",
       "    </tr>\n",
       "    <tr>\n",
       "      <th>3</th>\n",
       "      <td>HDD</td>\n",
       "      <td>Integrated</td>\n",
       "      <td>44693.272727</td>\n",
       "    </tr>\n",
       "    <tr>\n",
       "      <th>4</th>\n",
       "      <td>SSD</td>\n",
       "      <td>2</td>\n",
       "      <td>87152.944444</td>\n",
       "    </tr>\n",
       "    <tr>\n",
       "      <th>5</th>\n",
       "      <td>SSD</td>\n",
       "      <td>4</td>\n",
       "      <td>124037.380952</td>\n",
       "    </tr>\n",
       "    <tr>\n",
       "      <th>6</th>\n",
       "      <td>SSD</td>\n",
       "      <td>6</td>\n",
       "      <td>143496.333333</td>\n",
       "    </tr>\n",
       "    <tr>\n",
       "      <th>7</th>\n",
       "      <td>SSD</td>\n",
       "      <td>8</td>\n",
       "      <td>236265.200000</td>\n",
       "    </tr>\n",
       "    <tr>\n",
       "      <th>8</th>\n",
       "      <td>SSD</td>\n",
       "      <td>Dedicated</td>\n",
       "      <td>171143.352941</td>\n",
       "    </tr>\n",
       "    <tr>\n",
       "      <th>9</th>\n",
       "      <td>SSD</td>\n",
       "      <td>Integrated</td>\n",
       "      <td>93218.916667</td>\n",
       "    </tr>\n",
       "    <tr>\n",
       "      <th>10</th>\n",
       "      <td>SSD+HDD</td>\n",
       "      <td>2</td>\n",
       "      <td>94483.571429</td>\n",
       "    </tr>\n",
       "    <tr>\n",
       "      <th>11</th>\n",
       "      <td>SSD+HDD</td>\n",
       "      <td>3</td>\n",
       "      <td>125399.400000</td>\n",
       "    </tr>\n",
       "    <tr>\n",
       "      <th>12</th>\n",
       "      <td>SSD+HDD</td>\n",
       "      <td>4</td>\n",
       "      <td>89833.423077</td>\n",
       "    </tr>\n",
       "    <tr>\n",
       "      <th>13</th>\n",
       "      <td>SSD+HDD</td>\n",
       "      <td>6</td>\n",
       "      <td>159149.400000</td>\n",
       "    </tr>\n",
       "    <tr>\n",
       "      <th>14</th>\n",
       "      <td>SSD+HDD</td>\n",
       "      <td>8</td>\n",
       "      <td>197430.812500</td>\n",
       "    </tr>\n",
       "    <tr>\n",
       "      <th>15</th>\n",
       "      <td>SSD+HDD</td>\n",
       "      <td>Dedicated</td>\n",
       "      <td>77948.500000</td>\n",
       "    </tr>\n",
       "    <tr>\n",
       "      <th>16</th>\n",
       "      <td>SSD+HDD</td>\n",
       "      <td>Integrated</td>\n",
       "      <td>54384.666667</td>\n",
       "    </tr>\n",
       "  </tbody>\n",
       "</table>\n",
       "</div>"
      ],
      "text/plain": [
       "   Storage Type Graphics Card (GB)    Price (INR)\n",
       "0           HDD                  2   66237.333333\n",
       "1           HDD                  4   81607.500000\n",
       "2           HDD          Dedicated   55117.250000\n",
       "3           HDD         Integrated   44693.272727\n",
       "4           SSD                  2   87152.944444\n",
       "5           SSD                  4  124037.380952\n",
       "6           SSD                  6  143496.333333\n",
       "7           SSD                  8  236265.200000\n",
       "8           SSD          Dedicated  171143.352941\n",
       "9           SSD         Integrated   93218.916667\n",
       "10      SSD+HDD                  2   94483.571429\n",
       "11      SSD+HDD                  3  125399.400000\n",
       "12      SSD+HDD                  4   89833.423077\n",
       "13      SSD+HDD                  6  159149.400000\n",
       "14      SSD+HDD                  8  197430.812500\n",
       "15      SSD+HDD          Dedicated   77948.500000\n",
       "16      SSD+HDD         Integrated   54384.666667"
      ]
     },
     "execution_count": 66,
     "metadata": {},
     "output_type": "execute_result"
    }
   ],
   "source": [
    "dfa=df[['Storage Type','Graphics Card (GB)','Price (INR)']]\n",
    "dfgrp=dfa.groupby(['Storage Type','Graphics Card (GB)'], as_index=False).mean()\n",
    "dfgrp"
   ]
  },
  {
   "cell_type": "code",
   "execution_count": 67,
   "metadata": {},
   "outputs": [
    {
     "data": {
      "text/html": [
       "<div>\n",
       "<style scoped>\n",
       "    .dataframe tbody tr th:only-of-type {\n",
       "        vertical-align: middle;\n",
       "    }\n",
       "\n",
       "    .dataframe tbody tr th {\n",
       "        vertical-align: top;\n",
       "    }\n",
       "\n",
       "    .dataframe thead tr th {\n",
       "        text-align: left;\n",
       "    }\n",
       "\n",
       "    .dataframe thead tr:last-of-type th {\n",
       "        text-align: right;\n",
       "    }\n",
       "</style>\n",
       "<table border=\"1\" class=\"dataframe\">\n",
       "  <thead>\n",
       "    <tr>\n",
       "      <th></th>\n",
       "      <th colspan=\"7\" halign=\"left\">Price (INR)</th>\n",
       "    </tr>\n",
       "    <tr>\n",
       "      <th>Graphics Card (GB)</th>\n",
       "      <th>2</th>\n",
       "      <th>3</th>\n",
       "      <th>4</th>\n",
       "      <th>6</th>\n",
       "      <th>8</th>\n",
       "      <th>Dedicated</th>\n",
       "      <th>Integrated</th>\n",
       "    </tr>\n",
       "    <tr>\n",
       "      <th>Storage Type</th>\n",
       "      <th></th>\n",
       "      <th></th>\n",
       "      <th></th>\n",
       "      <th></th>\n",
       "      <th></th>\n",
       "      <th></th>\n",
       "      <th></th>\n",
       "    </tr>\n",
       "  </thead>\n",
       "  <tbody>\n",
       "    <tr>\n",
       "      <th>HDD</th>\n",
       "      <td>66237.333333</td>\n",
       "      <td>NaN</td>\n",
       "      <td>81607.500000</td>\n",
       "      <td>NaN</td>\n",
       "      <td>NaN</td>\n",
       "      <td>55117.250000</td>\n",
       "      <td>44693.272727</td>\n",
       "    </tr>\n",
       "    <tr>\n",
       "      <th>SSD</th>\n",
       "      <td>87152.944444</td>\n",
       "      <td>NaN</td>\n",
       "      <td>124037.380952</td>\n",
       "      <td>143496.333333</td>\n",
       "      <td>236265.2000</td>\n",
       "      <td>171143.352941</td>\n",
       "      <td>93218.916667</td>\n",
       "    </tr>\n",
       "    <tr>\n",
       "      <th>SSD+HDD</th>\n",
       "      <td>94483.571429</td>\n",
       "      <td>125399.4</td>\n",
       "      <td>89833.423077</td>\n",
       "      <td>159149.400000</td>\n",
       "      <td>197430.8125</td>\n",
       "      <td>77948.500000</td>\n",
       "      <td>54384.666667</td>\n",
       "    </tr>\n",
       "  </tbody>\n",
       "</table>\n",
       "</div>"
      ],
      "text/plain": [
       "                     Price (INR)                                          \\\n",
       "Graphics Card (GB)             2         3              4              6   \n",
       "Storage Type                                                               \n",
       "HDD                 66237.333333       NaN   81607.500000            NaN   \n",
       "SSD                 87152.944444       NaN  124037.380952  143496.333333   \n",
       "SSD+HDD             94483.571429  125399.4   89833.423077  159149.400000   \n",
       "\n",
       "                                                              \n",
       "Graphics Card (GB)            8      Dedicated    Integrated  \n",
       "Storage Type                                                  \n",
       "HDD                         NaN   55117.250000  44693.272727  \n",
       "SSD                 236265.2000  171143.352941  93218.916667  \n",
       "SSD+HDD             197430.8125   77948.500000  54384.666667  "
      ]
     },
     "execution_count": 67,
     "metadata": {},
     "output_type": "execute_result"
    }
   ],
   "source": [
    "pt=dfgrp.pivot(index='Storage Type',columns='Graphics Card (GB)')\n",
    "pt"
   ]
  },
  {
   "cell_type": "code",
   "execution_count": 68,
   "metadata": {},
   "outputs": [],
   "source": [
    "df['Laptop Type'].replace('Business','Notebook',inplace=True)"
   ]
  },
  {
   "cell_type": "code",
   "execution_count": 69,
   "metadata": {},
   "outputs": [
    {
     "data": {
      "text/html": [
       "<div>\n",
       "<style scoped>\n",
       "    .dataframe tbody tr th:only-of-type {\n",
       "        vertical-align: middle;\n",
       "    }\n",
       "\n",
       "    .dataframe tbody tr th {\n",
       "        vertical-align: top;\n",
       "    }\n",
       "\n",
       "    .dataframe thead th {\n",
       "        text-align: right;\n",
       "    }\n",
       "</style>\n",
       "<table border=\"1\" class=\"dataframe\">\n",
       "  <thead>\n",
       "    <tr style=\"text-align: right;\">\n",
       "      <th></th>\n",
       "      <th>RAM (GB)</th>\n",
       "      <th>Weight (kg)</th>\n",
       "      <th>Screen Size (inches)</th>\n",
       "      <th>Price (INR)</th>\n",
       "    </tr>\n",
       "    <tr>\n",
       "      <th>Laptop Type</th>\n",
       "      <th></th>\n",
       "      <th></th>\n",
       "      <th></th>\n",
       "      <th></th>\n",
       "    </tr>\n",
       "  </thead>\n",
       "  <tbody>\n",
       "    <tr>\n",
       "      <th>Convertible</th>\n",
       "      <td>10.666667</td>\n",
       "      <td>1.615000</td>\n",
       "      <td>13.650000</td>\n",
       "      <td>94745.000000</td>\n",
       "    </tr>\n",
       "    <tr>\n",
       "      <th>Gaming</th>\n",
       "      <td>12.000000</td>\n",
       "      <td>2.554860</td>\n",
       "      <td>16.052336</td>\n",
       "      <td>133504.065421</td>\n",
       "    </tr>\n",
       "    <tr>\n",
       "      <th>Notebook</th>\n",
       "      <td>8.619718</td>\n",
       "      <td>1.664577</td>\n",
       "      <td>14.523239</td>\n",
       "      <td>76726.471831</td>\n",
       "    </tr>\n",
       "    <tr>\n",
       "      <th>Ultrabook</th>\n",
       "      <td>13.000000</td>\n",
       "      <td>1.506875</td>\n",
       "      <td>14.018750</td>\n",
       "      <td>156738.375000</td>\n",
       "    </tr>\n",
       "  </tbody>\n",
       "</table>\n",
       "</div>"
      ],
      "text/plain": [
       "              RAM (GB)  Weight (kg)  Screen Size (inches)    Price (INR)\n",
       "Laptop Type                                                             \n",
       "Convertible  10.666667     1.615000             13.650000   94745.000000\n",
       "Gaming       12.000000     2.554860             16.052336  133504.065421\n",
       "Notebook      8.619718     1.664577             14.523239   76726.471831\n",
       "Ultrabook    13.000000     1.506875             14.018750  156738.375000"
      ]
     },
     "execution_count": 69,
     "metadata": {},
     "output_type": "execute_result"
    }
   ],
   "source": [
    "q=df[['Laptop Type','Price (INR)']]\n",
    "a=df.groupby(['Laptop Type']).mean()\n",
    "a"
   ]
  },
  {
   "cell_type": "code",
   "execution_count": 71,
   "metadata": {},
   "outputs": [],
   "source": [
    "df=df.drop('Price Category',axis=1)"
   ]
  },
  {
   "cell_type": "code",
   "execution_count": 72,
   "metadata": {},
   "outputs": [
    {
     "data": {
      "text/html": [
       "<div>\n",
       "<style scoped>\n",
       "    .dataframe tbody tr th:only-of-type {\n",
       "        vertical-align: middle;\n",
       "    }\n",
       "\n",
       "    .dataframe tbody tr th {\n",
       "        vertical-align: top;\n",
       "    }\n",
       "\n",
       "    .dataframe thead th {\n",
       "        text-align: right;\n",
       "    }\n",
       "</style>\n",
       "<table border=\"1\" class=\"dataframe\">\n",
       "  <thead>\n",
       "    <tr style=\"text-align: right;\">\n",
       "      <th></th>\n",
       "      <th>Company Name</th>\n",
       "      <th>Laptop Name</th>\n",
       "      <th>RAM (GB)</th>\n",
       "      <th>Storage Type</th>\n",
       "      <th>Storage Size (GB)</th>\n",
       "      <th>Processor Company</th>\n",
       "      <th>Processor Details</th>\n",
       "      <th>Graphics Card (GB)</th>\n",
       "      <th>GPU Details</th>\n",
       "      <th>Weight (kg)</th>\n",
       "      <th>Screen Size (inches)</th>\n",
       "      <th>OS</th>\n",
       "      <th>Laptop Type</th>\n",
       "      <th>Price (INR)</th>\n",
       "    </tr>\n",
       "  </thead>\n",
       "  <tbody>\n",
       "    <tr>\n",
       "      <th>0</th>\n",
       "      <td>3</td>\n",
       "      <td>50</td>\n",
       "      <td>8</td>\n",
       "      <td>1</td>\n",
       "      <td>2</td>\n",
       "      <td>1</td>\n",
       "      <td>17</td>\n",
       "      <td>0</td>\n",
       "      <td>13</td>\n",
       "      <td>1.64</td>\n",
       "      <td>14.0</td>\n",
       "      <td>1</td>\n",
       "      <td>0</td>\n",
       "      <td>62990</td>\n",
       "    </tr>\n",
       "    <tr>\n",
       "      <th>1</th>\n",
       "      <td>3</td>\n",
       "      <td>55</td>\n",
       "      <td>8</td>\n",
       "      <td>1</td>\n",
       "      <td>2</td>\n",
       "      <td>1</td>\n",
       "      <td>17</td>\n",
       "      <td>0</td>\n",
       "      <td>13</td>\n",
       "      <td>1.64</td>\n",
       "      <td>15.6</td>\n",
       "      <td>1</td>\n",
       "      <td>0</td>\n",
       "      <td>63990</td>\n",
       "    </tr>\n",
       "    <tr>\n",
       "      <th>2</th>\n",
       "      <td>3</td>\n",
       "      <td>50</td>\n",
       "      <td>8</td>\n",
       "      <td>1</td>\n",
       "      <td>2</td>\n",
       "      <td>1</td>\n",
       "      <td>17</td>\n",
       "      <td>1</td>\n",
       "      <td>18</td>\n",
       "      <td>1.64</td>\n",
       "      <td>14.0</td>\n",
       "      <td>1</td>\n",
       "      <td>0</td>\n",
       "      <td>67990</td>\n",
       "    </tr>\n",
       "    <tr>\n",
       "      <th>3</th>\n",
       "      <td>3</td>\n",
       "      <td>55</td>\n",
       "      <td>8</td>\n",
       "      <td>1</td>\n",
       "      <td>2</td>\n",
       "      <td>1</td>\n",
       "      <td>17</td>\n",
       "      <td>1</td>\n",
       "      <td>18</td>\n",
       "      <td>1.64</td>\n",
       "      <td>15.6</td>\n",
       "      <td>1</td>\n",
       "      <td>0</td>\n",
       "      <td>68990</td>\n",
       "    </tr>\n",
       "    <tr>\n",
       "      <th>4</th>\n",
       "      <td>3</td>\n",
       "      <td>119</td>\n",
       "      <td>8</td>\n",
       "      <td>1</td>\n",
       "      <td>2</td>\n",
       "      <td>1</td>\n",
       "      <td>17</td>\n",
       "      <td>2</td>\n",
       "      <td>15</td>\n",
       "      <td>1.64</td>\n",
       "      <td>15.6</td>\n",
       "      <td>1</td>\n",
       "      <td>0</td>\n",
       "      <td>91990</td>\n",
       "    </tr>\n",
       "    <tr>\n",
       "      <th>5</th>\n",
       "      <td>3</td>\n",
       "      <td>119</td>\n",
       "      <td>8</td>\n",
       "      <td>1</td>\n",
       "      <td>2</td>\n",
       "      <td>1</td>\n",
       "      <td>25</td>\n",
       "      <td>2</td>\n",
       "      <td>15</td>\n",
       "      <td>1.64</td>\n",
       "      <td>15.6</td>\n",
       "      <td>1</td>\n",
       "      <td>0</td>\n",
       "      <td>115990</td>\n",
       "    </tr>\n",
       "    <tr>\n",
       "      <th>6</th>\n",
       "      <td>3</td>\n",
       "      <td>119</td>\n",
       "      <td>16</td>\n",
       "      <td>1</td>\n",
       "      <td>3</td>\n",
       "      <td>1</td>\n",
       "      <td>25</td>\n",
       "      <td>2</td>\n",
       "      <td>15</td>\n",
       "      <td>1.64</td>\n",
       "      <td>15.6</td>\n",
       "      <td>1</td>\n",
       "      <td>0</td>\n",
       "      <td>129990</td>\n",
       "    </tr>\n",
       "    <tr>\n",
       "      <th>7</th>\n",
       "      <td>3</td>\n",
       "      <td>24</td>\n",
       "      <td>4</td>\n",
       "      <td>0</td>\n",
       "      <td>3</td>\n",
       "      <td>1</td>\n",
       "      <td>7</td>\n",
       "      <td>0</td>\n",
       "      <td>13</td>\n",
       "      <td>2.17</td>\n",
       "      <td>15.6</td>\n",
       "      <td>1</td>\n",
       "      <td>0</td>\n",
       "      <td>35990</td>\n",
       "    </tr>\n",
       "    <tr>\n",
       "      <th>8</th>\n",
       "      <td>3</td>\n",
       "      <td>24</td>\n",
       "      <td>4</td>\n",
       "      <td>1</td>\n",
       "      <td>1</td>\n",
       "      <td>1</td>\n",
       "      <td>7</td>\n",
       "      <td>0</td>\n",
       "      <td>13</td>\n",
       "      <td>2.17</td>\n",
       "      <td>15.6</td>\n",
       "      <td>1</td>\n",
       "      <td>0</td>\n",
       "      <td>38490</td>\n",
       "    </tr>\n",
       "    <tr>\n",
       "      <th>9</th>\n",
       "      <td>3</td>\n",
       "      <td>24</td>\n",
       "      <td>4</td>\n",
       "      <td>2</td>\n",
       "      <td>4</td>\n",
       "      <td>1</td>\n",
       "      <td>7</td>\n",
       "      <td>0</td>\n",
       "      <td>13</td>\n",
       "      <td>2.17</td>\n",
       "      <td>15.6</td>\n",
       "      <td>1</td>\n",
       "      <td>0</td>\n",
       "      <td>39990</td>\n",
       "    </tr>\n",
       "  </tbody>\n",
       "</table>\n",
       "</div>"
      ],
      "text/plain": [
       "   Company Name  Laptop Name  RAM (GB)  Storage Type  Storage Size (GB)  \\\n",
       "0             3           50         8             1                  2   \n",
       "1             3           55         8             1                  2   \n",
       "2             3           50         8             1                  2   \n",
       "3             3           55         8             1                  2   \n",
       "4             3          119         8             1                  2   \n",
       "5             3          119         8             1                  2   \n",
       "6             3          119        16             1                  3   \n",
       "7             3           24         4             0                  3   \n",
       "8             3           24         4             1                  1   \n",
       "9             3           24         4             2                  4   \n",
       "\n",
       "   Processor Company  Processor Details  Graphics Card (GB)  GPU Details  \\\n",
       "0                  1                 17                   0           13   \n",
       "1                  1                 17                   0           13   \n",
       "2                  1                 17                   1           18   \n",
       "3                  1                 17                   1           18   \n",
       "4                  1                 17                   2           15   \n",
       "5                  1                 25                   2           15   \n",
       "6                  1                 25                   2           15   \n",
       "7                  1                  7                   0           13   \n",
       "8                  1                  7                   0           13   \n",
       "9                  1                  7                   0           13   \n",
       "\n",
       "   Weight (kg)  Screen Size (inches)  OS  Laptop Type  Price (INR)  \n",
       "0         1.64                  14.0   1            0        62990  \n",
       "1         1.64                  15.6   1            0        63990  \n",
       "2         1.64                  14.0   1            0        67990  \n",
       "3         1.64                  15.6   1            0        68990  \n",
       "4         1.64                  15.6   1            0        91990  \n",
       "5         1.64                  15.6   1            0       115990  \n",
       "6         1.64                  15.6   1            0       129990  \n",
       "7         2.17                  15.6   1            0        35990  \n",
       "8         2.17                  15.6   1            0        38490  \n",
       "9         2.17                  15.6   1            0        39990  "
      ]
     },
     "execution_count": 72,
     "metadata": {},
     "output_type": "execute_result"
    }
   ],
   "source": [
    "col = [feature for feature in df.columns if df[feature].dtype == 'O']\n",
    "for feature in col:\n",
    "    labels_ordered= df.groupby([feature])['Price (INR)'].mean().sort_values().index\n",
    "    labels_ordered={k:i for i,k in enumerate(labels_ordered,0)}\n",
    "    df[feature]=df[feature].map(labels_ordered)\n",
    "df.head(10)"
   ]
  },
  {
   "cell_type": "code",
   "execution_count": 73,
   "metadata": {},
   "outputs": [
    {
     "name": "stdout",
     "output_type": "stream",
     "text": [
      "0.9171915092460089\n"
     ]
    }
   ],
   "source": [
    "from sklearn.linear_model import LinearRegression\n",
    "from sklearn.model_selection import train_test_split as tts\n",
    "from sklearn.metrics import mean_squared_error\n",
    "from sklearn.metrics import r2_score\n",
    "import math\n",
    "x_train, x_test, y_train, y_test = tts(df.loc[:,df.columns != 'Price (INR)'],df[['Price (INR)']],test_size=0.5,random_state=0,shuffle=True)\n",
    "lm=LinearRegression() \n",
    "lm.fit(x_train,y_train)\n",
    "y_pred=lm.predict(x_test)\n",
    "print(r2_score(y_test,y_pred))"
   ]
  },
  {
   "cell_type": "code",
   "execution_count": 75,
   "metadata": {},
   "outputs": [
    {
     "data": {
      "text/plain": [
       "<matplotlib.axes._subplots.AxesSubplot at 0x1abb171e0c8>"
      ]
     },
     "execution_count": 75,
     "metadata": {},
     "output_type": "execute_result"
    },
    {
     "data": {
      "image/png": "[encoded data removed]",
      "text/plain": [
       "<Figure size 432x288 with 1 Axes>"
      ]
     },
     "metadata": {},
     "output_type": "display_data"
    }
   ],
   "source": [
    "ax1=sns.distplot(df['Price (INR)'],hist=False,color='r',label='Actual Value')\n",
    "sns.distplot(y_pred,hist=False,color='b',label='Predicted Value',ax=ax1)\n"
   ]
  },
  {
   "cell_type": "code",
   "execution_count": null,
   "metadata": {},
   "outputs": [],
   "source": []
  }
 ],
 "metadata": {
  "kernelspec": {
   "display_name": "Python 3",
   "language": "python",
   "name": "python3"
  },
  "language_info": {
   "codemirror_mode": {
    "name": "ipython",
    "version": 3
   },
   "file_extension": ".py",
   "mimetype": "text/x-python",
   "name": "python",
   "nbconvert_exporter": "python",
   "pygments_lexer": "ipython3",
   "version": "3.7.6"
  }
 },
 "nbformat": 4,
 "nbformat_minor": 4
}
